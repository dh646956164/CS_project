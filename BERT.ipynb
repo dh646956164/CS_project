{
  "cells": [
    {
      "cell_type": "markdown",
      "metadata": {
        "id": "view-in-github",
        "colab_type": "text"
      },
      "source": [
        "<a href=\"https://colab.research.google.com/github/dh646956164/CS_project/blob/main/BERT.ipynb\" target=\"_parent\"><img src=\"https://colab.research.google.com/assets/colab-badge.svg\" alt=\"Open In Colab\"/></a>"
      ]
    },
    {
      "cell_type": "code",
      "execution_count": 1,
      "metadata": {
        "colab": {
          "base_uri": "https://localhost:8080/"
        },
        "id": "R7Q_EUYQcOOk",
        "outputId": "ba021b43-2694-4831-9880-cc1b6348d1f0"
      },
      "outputs": [
        {
          "output_type": "stream",
          "name": "stdout",
          "text": [
            "Collecting transformers\n",
            "  Downloading transformers-4.31.0-py3-none-any.whl (7.4 MB)\n",
            "\u001b[2K     \u001b[90m━━━━━━━━━━━━━━━━━━━━━━━━━━━━━━━━━━━━━━━━\u001b[0m \u001b[32m7.4/7.4 MB\u001b[0m \u001b[31m61.5 MB/s\u001b[0m eta \u001b[36m0:00:00\u001b[0m\n",
            "\u001b[?25hRequirement already satisfied: filelock in /usr/local/lib/python3.10/dist-packages (from transformers) (3.12.2)\n",
            "Collecting huggingface-hub<1.0,>=0.14.1 (from transformers)\n",
            "  Downloading huggingface_hub-0.16.4-py3-none-any.whl (268 kB)\n",
            "\u001b[2K     \u001b[90m━━━━━━━━━━━━━━━━━━━━━━━━━━━━━━━━━━━━━━\u001b[0m \u001b[32m268.8/268.8 kB\u001b[0m \u001b[31m31.9 MB/s\u001b[0m eta \u001b[36m0:00:00\u001b[0m\n",
            "\u001b[?25hRequirement already satisfied: numpy>=1.17 in /usr/local/lib/python3.10/dist-packages (from transformers) (1.23.5)\n",
            "Requirement already satisfied: packaging>=20.0 in /usr/local/lib/python3.10/dist-packages (from transformers) (23.1)\n",
            "Requirement already satisfied: pyyaml>=5.1 in /usr/local/lib/python3.10/dist-packages (from transformers) (6.0.1)\n",
            "Requirement already satisfied: regex!=2019.12.17 in /usr/local/lib/python3.10/dist-packages (from transformers) (2023.6.3)\n",
            "Requirement already satisfied: requests in /usr/local/lib/python3.10/dist-packages (from transformers) (2.31.0)\n",
            "Collecting tokenizers!=0.11.3,<0.14,>=0.11.1 (from transformers)\n",
            "  Downloading tokenizers-0.13.3-cp310-cp310-manylinux_2_17_x86_64.manylinux2014_x86_64.whl (7.8 MB)\n",
            "\u001b[2K     \u001b[90m━━━━━━━━━━━━━━━━━━━━━━━━━━━━━━━━━━━━━━━━\u001b[0m \u001b[32m7.8/7.8 MB\u001b[0m \u001b[31m107.2 MB/s\u001b[0m eta \u001b[36m0:00:00\u001b[0m\n",
            "\u001b[?25hCollecting safetensors>=0.3.1 (from transformers)\n",
            "  Downloading safetensors-0.3.2-cp310-cp310-manylinux_2_17_x86_64.manylinux2014_x86_64.whl (1.3 MB)\n",
            "\u001b[2K     \u001b[90m━━━━━━━━━━━━━━━━━━━━━━━━━━━━━━━━━━━━━━━━\u001b[0m \u001b[32m1.3/1.3 MB\u001b[0m \u001b[31m75.3 MB/s\u001b[0m eta \u001b[36m0:00:00\u001b[0m\n",
            "\u001b[?25hRequirement already satisfied: tqdm>=4.27 in /usr/local/lib/python3.10/dist-packages (from transformers) (4.66.0)\n",
            "Requirement already satisfied: fsspec in /usr/local/lib/python3.10/dist-packages (from huggingface-hub<1.0,>=0.14.1->transformers) (2023.6.0)\n",
            "Requirement already satisfied: typing-extensions>=3.7.4.3 in /usr/local/lib/python3.10/dist-packages (from huggingface-hub<1.0,>=0.14.1->transformers) (4.7.1)\n",
            "Requirement already satisfied: charset-normalizer<4,>=2 in /usr/local/lib/python3.10/dist-packages (from requests->transformers) (3.2.0)\n",
            "Requirement already satisfied: idna<4,>=2.5 in /usr/local/lib/python3.10/dist-packages (from requests->transformers) (3.4)\n",
            "Requirement already satisfied: urllib3<3,>=1.21.1 in /usr/local/lib/python3.10/dist-packages (from requests->transformers) (2.0.4)\n",
            "Requirement already satisfied: certifi>=2017.4.17 in /usr/local/lib/python3.10/dist-packages (from requests->transformers) (2023.7.22)\n",
            "Installing collected packages: tokenizers, safetensors, huggingface-hub, transformers\n",
            "Successfully installed huggingface-hub-0.16.4 safetensors-0.3.2 tokenizers-0.13.3 transformers-4.31.0\n",
            "Requirement already satisfied: tqdm in /usr/local/lib/python3.10/dist-packages (4.66.0)\n"
          ]
        }
      ],
      "source": [
        "!pip install transformers\n",
        "!pip install tqdm\n",
        "import os\n",
        "os.environ['CUDA_LAUNCH_BLOCKING'] = \"1\"\n"
      ]
    },
    {
      "cell_type": "code",
      "execution_count": null,
      "metadata": {
        "colab": {
          "base_uri": "https://localhost:8080/"
        },
        "id": "Axwqaqhd6ENN",
        "outputId": "1fb77ce2-ae1c-4754-a9a3-da41a32763d2"
      },
      "outputs": [
        {
          "name": "stderr",
          "output_type": "stream",
          "text": [
            "ERROR:root:Internal Python error in the inspect module.\n",
            "Below is the traceback from this internal error.\n",
            "\n"
          ]
        },
        {
          "name": "stdout",
          "output_type": "stream",
          "text": [
            "Traceback (most recent call last):\n",
            "  File \"/usr/local/lib/python3.10/dist-packages/IPython/core/interactiveshell.py\", line 3553, in run_code\n",
            "    exec(code_obj, self.user_global_ns, self.user_ns)\n",
            "  File \"<ipython-input-2-5c0f14b93dac>\", line 7, in <cell line: 7>\n",
            "    from transformers import BertTokenizer, BertForSequenceClassification, AdamW\n",
            "ModuleNotFoundError: No module named 'transformers'\n",
            "\n",
            "During handling of the above exception, another exception occurred:\n",
            "\n",
            "Traceback (most recent call last):\n",
            "  File \"/usr/local/lib/python3.10/dist-packages/IPython/core/ultratb.py\", line 1101, in get_records\n",
            "    return _fixed_getinnerframes(etb, number_of_lines_of_context, tb_offset)\n",
            "  File \"/usr/local/lib/python3.10/dist-packages/IPython/core/ultratb.py\", line 248, in wrapped\n",
            "    return f(*args, **kwargs)\n",
            "  File \"/usr/local/lib/python3.10/dist-packages/IPython/core/ultratb.py\", line 281, in _fixed_getinnerframes\n",
            "    records = fix_frame_records_filenames(inspect.getinnerframes(etb, context))\n",
            "  File \"/usr/lib/python3.10/inspect.py\", line 1662, in getinnerframes\n",
            "    frameinfo = (tb.tb_frame,) + getframeinfo(tb, context)\n",
            "  File \"/usr/lib/python3.10/inspect.py\", line 1620, in getframeinfo\n",
            "    filename = getsourcefile(frame) or getfile(frame)\n",
            "  File \"/usr/lib/python3.10/inspect.py\", line 829, in getsourcefile\n",
            "    module = getmodule(object, filename)\n",
            "  File \"/usr/lib/python3.10/inspect.py\", line 878, in getmodule\n",
            "    os.path.realpath(f)] = module.__name__\n",
            "  File \"/usr/lib/python3.10/posixpath.py\", line 396, in realpath\n",
            "    path, ok = _joinrealpath(filename[:0], filename, strict, {})\n",
            "  File \"/usr/lib/python3.10/posixpath.py\", line 431, in _joinrealpath\n",
            "    st = os.lstat(newpath)\n",
            "KeyboardInterrupt\n",
            "\u001b[0;31m---------------------------------------------------------------------------\u001b[0m\n",
            "\u001b[0;31mModuleNotFoundError\u001b[0m                       Traceback (most recent call last)\n",
            "    \u001b[0;31m[... skipping hidden 1 frame]\u001b[0m\n",
            "\n",
            "\u001b[0;32m<ipython-input-2-5c0f14b93dac>\u001b[0m in \u001b[0;36m<cell line: 7>\u001b[0;34m()\u001b[0m\n",
            "\u001b[1;32m      6\u001b[0m \u001b[0;32mfrom\u001b[0m \u001b[0mtorch\u001b[0m\u001b[0;34m.\u001b[0m\u001b[0mutils\u001b[0m\u001b[0;34m.\u001b[0m\u001b[0mdata\u001b[0m \u001b[0;32mimport\u001b[0m \u001b[0mDataLoader\u001b[0m\u001b[0;34m,\u001b[0m \u001b[0mTensorDataset\u001b[0m\u001b[0;34m\u001b[0m\u001b[0;34m\u001b[0m\u001b[0m\n",
            "\u001b[0;32m----> 7\u001b[0;31m \u001b[0;32mfrom\u001b[0m \u001b[0mtransformers\u001b[0m \u001b[0;32mimport\u001b[0m \u001b[0mBertTokenizer\u001b[0m\u001b[0;34m,\u001b[0m \u001b[0mBertForSequenceClassification\u001b[0m\u001b[0;34m,\u001b[0m \u001b[0mAdamW\u001b[0m\u001b[0;34m\u001b[0m\u001b[0;34m\u001b[0m\u001b[0m\n",
            "\u001b[0m\u001b[1;32m      8\u001b[0m \u001b[0;32mfrom\u001b[0m \u001b[0mtqdm\u001b[0m \u001b[0;32mimport\u001b[0m \u001b[0mtqdm\u001b[0m\u001b[0;34m\u001b[0m\u001b[0;34m\u001b[0m\u001b[0m\n",
            "\n",
            "\u001b[0;31mModuleNotFoundError\u001b[0m: No module named 'transformers'\n",
            "\n",
            "During handling of the above exception, another exception occurred:\n",
            "\n",
            "\u001b[0;31mTypeError\u001b[0m                                 Traceback (most recent call last)\n",
            "\u001b[0;32m/usr/local/lib/python3.10/dist-packages/google/colab/_shell_customizations.py\u001b[0m in \u001b[0;36mhandle_error\u001b[0;34m(self, shell, etype, exception, tb, tb_offset)\u001b[0m\n",
            "\u001b[1;32m     92\u001b[0m     \u001b[0;32mif\u001b[0m \u001b[0mresult\u001b[0m\u001b[0;34m:\u001b[0m\u001b[0;34m\u001b[0m\u001b[0;34m\u001b[0m\u001b[0m\n",
            "\u001b[1;32m     93\u001b[0m       \u001b[0mcustom_message\u001b[0m\u001b[0;34m,\u001b[0m \u001b[0mdetails\u001b[0m \u001b[0;34m=\u001b[0m \u001b[0mresult\u001b[0m\u001b[0;34m\u001b[0m\u001b[0;34m\u001b[0m\u001b[0m\n",
            "\u001b[0;32m---> 94\u001b[0;31m       structured_traceback = shell.InteractiveTB.structured_traceback(\n",
            "\u001b[0m\u001b[1;32m     95\u001b[0m           \u001b[0metype\u001b[0m\u001b[0;34m,\u001b[0m \u001b[0mexception\u001b[0m\u001b[0;34m,\u001b[0m \u001b[0mtb\u001b[0m\u001b[0;34m,\u001b[0m \u001b[0mtb_offset\u001b[0m\u001b[0;34m=\u001b[0m\u001b[0mtb_offset\u001b[0m\u001b[0;34m\u001b[0m\u001b[0;34m\u001b[0m\u001b[0m\n",
            "\u001b[1;32m     96\u001b[0m       )\n",
            "\n",
            "\u001b[0;32m/usr/local/lib/python3.10/dist-packages/IPython/core/ultratb.py\u001b[0m in \u001b[0;36mstructured_traceback\u001b[0;34m(self, etype, value, tb, tb_offset, number_of_lines_of_context)\u001b[0m\n",
            "\u001b[1;32m   1365\u001b[0m         \u001b[0;32melse\u001b[0m\u001b[0;34m:\u001b[0m\u001b[0;34m\u001b[0m\u001b[0;34m\u001b[0m\u001b[0m\n",
            "\u001b[1;32m   1366\u001b[0m             \u001b[0mself\u001b[0m\u001b[0;34m.\u001b[0m\u001b[0mtb\u001b[0m \u001b[0;34m=\u001b[0m \u001b[0mtb\u001b[0m\u001b[0;34m\u001b[0m\u001b[0;34m\u001b[0m\u001b[0m\n",
            "\u001b[0;32m-> 1367\u001b[0;31m         return FormattedTB.structured_traceback(\n",
            "\u001b[0m\u001b[1;32m   1368\u001b[0m             self, etype, value, tb, tb_offset, number_of_lines_of_context)\n",
            "\u001b[1;32m   1369\u001b[0m \u001b[0;34m\u001b[0m\u001b[0m\n",
            "\n",
            "\u001b[0;32m/usr/local/lib/python3.10/dist-packages/IPython/core/ultratb.py\u001b[0m in \u001b[0;36mstructured_traceback\u001b[0;34m(self, etype, value, tb, tb_offset, number_of_lines_of_context)\u001b[0m\n",
            "\u001b[1;32m   1265\u001b[0m         \u001b[0;32mif\u001b[0m \u001b[0mmode\u001b[0m \u001b[0;32min\u001b[0m \u001b[0mself\u001b[0m\u001b[0;34m.\u001b[0m\u001b[0mverbose_modes\u001b[0m\u001b[0;34m:\u001b[0m\u001b[0;34m\u001b[0m\u001b[0;34m\u001b[0m\u001b[0m\n",
            "\u001b[1;32m   1266\u001b[0m             \u001b[0;31m# Verbose modes need a full traceback\u001b[0m\u001b[0;34m\u001b[0m\u001b[0;34m\u001b[0m\u001b[0m\n",
            "\u001b[0;32m-> 1267\u001b[0;31m             return VerboseTB.structured_traceback(\n",
            "\u001b[0m\u001b[1;32m   1268\u001b[0m                 \u001b[0mself\u001b[0m\u001b[0;34m,\u001b[0m \u001b[0metype\u001b[0m\u001b[0;34m,\u001b[0m \u001b[0mvalue\u001b[0m\u001b[0;34m,\u001b[0m \u001b[0mtb\u001b[0m\u001b[0;34m,\u001b[0m \u001b[0mtb_offset\u001b[0m\u001b[0;34m,\u001b[0m \u001b[0mnumber_of_lines_of_context\u001b[0m\u001b[0;34m\u001b[0m\u001b[0;34m\u001b[0m\u001b[0m\n",
            "\u001b[1;32m   1269\u001b[0m             )\n",
            "\n",
            "\u001b[0;32m/usr/local/lib/python3.10/dist-packages/IPython/core/ultratb.py\u001b[0m in \u001b[0;36mstructured_traceback\u001b[0;34m(self, etype, evalue, etb, tb_offset, number_of_lines_of_context)\u001b[0m\n",
            "\u001b[1;32m   1122\u001b[0m         \u001b[0;34m\"\"\"Return a nice text document describing the traceback.\"\"\"\u001b[0m\u001b[0;34m\u001b[0m\u001b[0;34m\u001b[0m\u001b[0m\n",
            "\u001b[1;32m   1123\u001b[0m \u001b[0;34m\u001b[0m\u001b[0m\n",
            "\u001b[0;32m-> 1124\u001b[0;31m         formatted_exception = self.format_exception_as_a_whole(etype, evalue, etb, number_of_lines_of_context,\n",
            "\u001b[0m\u001b[1;32m   1125\u001b[0m                                                                tb_offset)\n",
            "\u001b[1;32m   1126\u001b[0m \u001b[0;34m\u001b[0m\u001b[0m\n",
            "\n",
            "\u001b[0;32m/usr/local/lib/python3.10/dist-packages/IPython/core/ultratb.py\u001b[0m in \u001b[0;36mformat_exception_as_a_whole\u001b[0;34m(self, etype, evalue, etb, number_of_lines_of_context, tb_offset)\u001b[0m\n",
            "\u001b[1;32m   1080\u001b[0m \u001b[0;34m\u001b[0m\u001b[0m\n",
            "\u001b[1;32m   1081\u001b[0m \u001b[0;34m\u001b[0m\u001b[0m\n",
            "\u001b[0;32m-> 1082\u001b[0;31m         \u001b[0mlast_unique\u001b[0m\u001b[0;34m,\u001b[0m \u001b[0mrecursion_repeat\u001b[0m \u001b[0;34m=\u001b[0m \u001b[0mfind_recursion\u001b[0m\u001b[0;34m(\u001b[0m\u001b[0morig_etype\u001b[0m\u001b[0;34m,\u001b[0m \u001b[0mevalue\u001b[0m\u001b[0;34m,\u001b[0m \u001b[0mrecords\u001b[0m\u001b[0;34m)\u001b[0m\u001b[0;34m\u001b[0m\u001b[0;34m\u001b[0m\u001b[0m\n",
            "\u001b[0m\u001b[1;32m   1083\u001b[0m \u001b[0;34m\u001b[0m\u001b[0m\n",
            "\u001b[1;32m   1084\u001b[0m         \u001b[0mframes\u001b[0m \u001b[0;34m=\u001b[0m \u001b[0mself\u001b[0m\u001b[0;34m.\u001b[0m\u001b[0mformat_records\u001b[0m\u001b[0;34m(\u001b[0m\u001b[0mrecords\u001b[0m\u001b[0;34m,\u001b[0m \u001b[0mlast_unique\u001b[0m\u001b[0;34m,\u001b[0m \u001b[0mrecursion_repeat\u001b[0m\u001b[0;34m)\u001b[0m\u001b[0;34m\u001b[0m\u001b[0;34m\u001b[0m\u001b[0m\n",
            "\n",
            "\u001b[0;32m/usr/local/lib/python3.10/dist-packages/IPython/core/ultratb.py\u001b[0m in \u001b[0;36mfind_recursion\u001b[0;34m(etype, value, records)\u001b[0m\n",
            "\u001b[1;32m    380\u001b[0m     \u001b[0;31m# first frame (from in to out) that looks different.\u001b[0m\u001b[0;34m\u001b[0m\u001b[0;34m\u001b[0m\u001b[0m\n",
            "\u001b[1;32m    381\u001b[0m     \u001b[0;32mif\u001b[0m \u001b[0;32mnot\u001b[0m \u001b[0mis_recursion_error\u001b[0m\u001b[0;34m(\u001b[0m\u001b[0metype\u001b[0m\u001b[0;34m,\u001b[0m \u001b[0mvalue\u001b[0m\u001b[0;34m,\u001b[0m \u001b[0mrecords\u001b[0m\u001b[0;34m)\u001b[0m\u001b[0;34m:\u001b[0m\u001b[0;34m\u001b[0m\u001b[0;34m\u001b[0m\u001b[0m\n",
            "\u001b[0;32m--> 382\u001b[0;31m         \u001b[0;32mreturn\u001b[0m \u001b[0mlen\u001b[0m\u001b[0;34m(\u001b[0m\u001b[0mrecords\u001b[0m\u001b[0;34m)\u001b[0m\u001b[0;34m,\u001b[0m \u001b[0;36m0\u001b[0m\u001b[0;34m\u001b[0m\u001b[0;34m\u001b[0m\u001b[0m\n",
            "\u001b[0m\u001b[1;32m    383\u001b[0m \u001b[0;34m\u001b[0m\u001b[0m\n",
            "\u001b[1;32m    384\u001b[0m     \u001b[0;31m# Select filename, lineno, func_name to track frames with\u001b[0m\u001b[0;34m\u001b[0m\u001b[0;34m\u001b[0m\u001b[0m\n",
            "\n",
            "\u001b[0;31mTypeError\u001b[0m: object of type 'NoneType' has no len()\n",
            "The original exception:\n"
          ]
        },
        {
          "name": "stderr",
          "output_type": "stream",
          "text": [
            "Custom TB Handler failed, unregistering\n"
          ]
        }
      ],
      "source": [
        "import pandas as pd\n",
        "import numpy as np\n",
        "from sklearn.model_selection import train_test_split\n",
        "from sklearn.preprocessing import MultiLabelBinarizer\n",
        "import torch\n",
        "from torch.utils.data import DataLoader, TensorDataset\n",
        "from transformers import BertTokenizer, BertForSequenceClassification, AdamW\n",
        "from tqdm import tqdm\n",
        "\n",
        "# 1. 数据加载\n",
        "df = pd.read_json(\"HAO_comment_classification.json\")\n",
        "df_cleaned = df.dropna(subset=['Comment Classification'])\n",
        "df_cleaned['Comment Classification'] = df_cleaned['Comment Classification'].astype(str).str.split(', ')\n",
        "\n",
        "mlb = MultiLabelBinarizer()\n",
        "label_data_cleaned = mlb.fit_transform(df_cleaned['Comment Classification'])\n",
        "label_df_cleaned = pd.DataFrame(label_data_cleaned, columns=mlb.classes_)\n",
        "X_train_cleaned, X_test_cleaned, y_train_cleaned, y_test_cleaned = train_test_split(df_cleaned['Comment Body'], label_df_cleaned, test_size=0.2, random_state=42)\n",
        "\n",
        "# 2. 使用BERT的tokenizer进行tokenization\n",
        "tokenizer = BertTokenizer.from_pretrained('bert-base-uncased', do_lower_case=True)\n",
        "\n",
        "def tokenize_data(texts, max_length=256):\n",
        "    input_ids = []\n",
        "    attention_masks = []\n",
        "    for text in texts:\n",
        "        encoded_dict = tokenizer.encode_plus(\n",
        "            text,\n",
        "            add_special_tokens=True,\n",
        "            max_length=max_length,\n",
        "            padding='max_length',\n",
        "            return_attention_mask=True,\n",
        "            return_tensors='pt',\n",
        "            truncation=True  # Explicit truncation\n",
        "        )\n",
        "        input_ids.append(encoded_dict['input_ids'])\n",
        "        attention_masks.append(encoded_dict['attention_mask'])\n",
        "    input_ids = torch.cat(input_ids, dim=0)\n",
        "    attention_masks = torch.cat(attention_masks, dim=0)\n",
        "    return input_ids, attention_masks\n",
        "\n",
        "train_input_ids, train_attention_masks = tokenize_data(X_train_cleaned)\n",
        "test_input_ids, test_attention_masks = tokenize_data(X_test_cleaned)\n",
        "train_labels = torch.tensor(y_train_cleaned.values)\n",
        "test_labels = torch.tensor(y_test_cleaned.values)\n",
        "\n",
        "train_dataset = TensorDataset(train_input_ids, train_attention_masks, train_labels)\n",
        "test_dataset = TensorDataset(test_input_ids, test_attention_masks, test_labels)\n",
        "train_dataloader = DataLoader(train_dataset, batch_size=16, shuffle=True)\n",
        "test_dataloader = DataLoader(test_dataset, batch_size=16, shuffle=False)\n",
        "\n",
        "# 3. 使用BERT进行多标签分类的模型定义和训练\n",
        "model = BertForSequenceClassification.from_pretrained('bert-base-uncased', num_labels=len(mlb.classes_))\n",
        "\n",
        "# Move the model to GPU\n",
        "device = torch.device(\"cuda\" if torch.cuda.is_available() else \"cpu\")\n",
        "model = model.to(device)\n",
        "\n",
        "optimizer = torch.optim.AdamW(model.parameters(), lr=2e-5)\n",
        "epochs = 4\n",
        "\n",
        "for epoch in range(epochs):\n",
        "    model.train()\n",
        "    total_loss = 0\n",
        "    progress_bar = tqdm(train_dataloader, desc=f\"Epoch {epoch+1}\")\n",
        "\n",
        "    for batch in progress_bar:\n",
        "        input_ids = batch[0].to(device)\n",
        "        attention_mask = batch[1].to(device)\n",
        "        labels = batch[2].to(device)\n",
        "\n",
        "        model.zero_grad()\n",
        "\n",
        "        # Calling model without labels\n",
        "        outputs = model(input_ids, token_type_ids=None, attention_mask=attention_mask)\n",
        "        logits = outputs[0]\n",
        "\n",
        "        # Manually computing the loss\n",
        "        loss_fn = torch.nn.BCEWithLogitsLoss()\n",
        "        loss = loss_fn(logits, labels.float())\n",
        "\n",
        "        total_loss += loss.item()\n",
        "        loss.backward()\n",
        "        optimizer.step()\n",
        "\n",
        "        progress_bar.set_postfix({'loss': total_loss / (epoch + 1)})\n",
        "\n",
        "\n",
        "# 4. 模型评估\n",
        "model.eval()\n",
        "predictions = []\n",
        "true_labels = []\n",
        "for batch in test_dataloader:\n",
        "    input_ids = batch[0].to(device)\n",
        "    attention_mask = batch[1].to(device)\n",
        "    labels = batch[2].to(device)\n",
        "\n",
        "    with torch.no_grad():\n",
        "        outputs = model(input_ids, token_type_ids=None, attention_mask=attention_mask)\n",
        "\n",
        "    logits = outputs[0].detach().cpu().numpy()\n",
        "    labels = labels.cpu().numpy()\n",
        "    predictions.append(logits)\n",
        "    true_labels.append(labels)\n",
        "\n",
        "# ... (您可以在这里进一步处理预测结果，例如计算性能指标)\n"
      ]
    },
    {
      "cell_type": "markdown",
      "source": [
        "# 新段落"
      ],
      "metadata": {
        "id": "Z3dmxBu7Wkdd"
      }
    },
    {
      "cell_type": "code",
      "execution_count": null,
      "metadata": {
        "colab": {
          "base_uri": "https://localhost:8080/"
        },
        "id": "57f90yf38B9X",
        "outputId": "49bcad66-f410-4a81-af4e-0b23f1a5efb0"
      },
      "outputs": [
        {
          "name": "stderr",
          "output_type": "stream",
          "text": [
            "Some weights of BertForSequenceClassification were not initialized from the model checkpoint at bert-base-uncased and are newly initialized: ['classifier.bias', 'classifier.weight']\n",
            "You should probably TRAIN this model on a down-stream task to be able to use it for predictions and inference.\n",
            "Epoch 1: 100%|██████████| 46/46 [00:30<00:00,  1.51it/s, loss=20.9]\n"
          ]
        },
        {
          "name": "stdout",
          "output_type": "stream",
          "text": [
            "Epoch 1 - Training loss: 0.454\n"
          ]
        },
        {
          "name": "stderr",
          "output_type": "stream",
          "text": [
            "Epoch 2: 100%|██████████| 46/46 [00:28<00:00,  1.60it/s, loss=5.64]\n"
          ]
        },
        {
          "name": "stdout",
          "output_type": "stream",
          "text": [
            "Epoch 2 - Training loss: 0.245\n"
          ]
        },
        {
          "name": "stderr",
          "output_type": "stream",
          "text": [
            "Epoch 3: 100%|██████████| 46/46 [00:28<00:00,  1.59it/s, loss=2.7]\n"
          ]
        },
        {
          "name": "stdout",
          "output_type": "stream",
          "text": [
            "Epoch 3 - Training loss: 0.176\n"
          ]
        },
        {
          "name": "stderr",
          "output_type": "stream",
          "text": [
            "Epoch 4: 100%|██████████| 46/46 [00:29<00:00,  1.58it/s, loss=1.7]\n"
          ]
        },
        {
          "name": "stdout",
          "output_type": "stream",
          "text": [
            "Epoch 4 - Training loss: 0.147\n"
          ]
        },
        {
          "name": "stderr",
          "output_type": "stream",
          "text": [
            "Epoch 5: 100%|██████████| 46/46 [00:28<00:00,  1.59it/s, loss=1.23]\n"
          ]
        },
        {
          "name": "stdout",
          "output_type": "stream",
          "text": [
            "Epoch 5 - Training loss: 0.134\n",
            "Classification Report:\n",
            "                                    precision    recall  f1-score   support\n",
            "\n",
            "Algorithmic Efficiency/Performance       0.00      0.00      0.00         1\n",
            "                   Code Complexity       0.00      0.00      0.00        14\n",
            "           Code Style & Formatting       0.00      0.00      0.00        21\n",
            "              Compatibility Issues       0.00      0.00      0.00         4\n",
            "        Data & Resource Management       0.00      0.00      0.00         1\n",
            "             Depreciated Functions       0.00      0.00      0.00         1\n",
            "                     Documentation       0.00      0.00      0.00        21\n",
            "                       Duplication       0.00      0.00      0.00         2\n",
            "                      Element Type       0.00      0.00      0.00         2\n",
            "                    Execution Time       0.00      0.00      0.00         1\n",
            "              Feature Completeness       0.00      0.00      0.00         1\n",
            "                    Function Calls       0.00      0.00      0.00         1\n",
            "               Function Parameters       0.00      0.00      0.00         1\n",
            "                   Inline Comments       0.00      0.00      0.00         3\n",
            "                  Input Validation       0.00      0.00      0.00         2\n",
            "          Issues with Outside Code       0.00      0.00      0.00         0\n",
            "                Knowledge Transfer       0.00      0.00      0.00         5\n",
            "                           Logging       0.00      0.00      0.00         4\n",
            "                       Logic Error       0.00      0.00      0.00        11\n",
            "                              Misc       0.00      0.00      0.00         3\n",
            "              Moving Functionality       0.00      0.00      0.00         6\n",
            "                Naming Conventions       0.00      0.00      0.00        19\n",
            "                Other Test related       0.00      0.00      0.00         2\n",
            "                Removing Dead Code       0.00      0.00      0.00         8\n",
            "                 Security Concerns       0.00      0.00      0.00         1\n",
            "              Social Communication       0.00      0.00      0.00         5\n",
            "                        Test Cases       0.00      0.00      0.00         1\n",
            "                     Test Coverage       0.00      0.00      0.00         4\n",
            "                     Understanding       0.00      0.00      0.00        22\n",
            "       Unhandled Errors/Exceptions       0.00      0.00      0.00         3\n",
            "               Unvalidated Element       0.00      0.00      0.00         3\n",
            "            Using standard methods       0.00      0.00      0.00         8\n",
            "           Variable Initialisation       0.00      0.00      0.00         0\n",
            "                        Visibility       0.00      0.00      0.00         2\n",
            "                    Wrong Location       0.00      0.00      0.00         1\n",
            "\n",
            "                         micro avg       0.00      0.00      0.00       184\n",
            "                         macro avg       0.00      0.00      0.00       184\n",
            "                      weighted avg       0.00      0.00      0.00       184\n",
            "                       samples avg       0.00      0.00      0.00       184\n",
            "\n"
          ]
        },
        {
          "name": "stderr",
          "output_type": "stream",
          "text": [
            "/usr/local/lib/python3.10/dist-packages/sklearn/metrics/_classification.py:1344: UndefinedMetricWarning: Precision and F-score are ill-defined and being set to 0.0 in labels with no predicted samples. Use `zero_division` parameter to control this behavior.\n",
            "  _warn_prf(average, modifier, msg_start, len(result))\n",
            "/usr/local/lib/python3.10/dist-packages/sklearn/metrics/_classification.py:1344: UndefinedMetricWarning: Recall and F-score are ill-defined and being set to 0.0 in labels with no true samples. Use `zero_division` parameter to control this behavior.\n",
            "  _warn_prf(average, modifier, msg_start, len(result))\n",
            "/usr/local/lib/python3.10/dist-packages/sklearn/metrics/_classification.py:1344: UndefinedMetricWarning: Precision and F-score are ill-defined and being set to 0.0 due to no predicted samples. Use `zero_division` parameter to control this behavior.\n",
            "  _warn_prf(average, modifier, msg_start, len(result))\n",
            "/usr/local/lib/python3.10/dist-packages/sklearn/metrics/_classification.py:1344: UndefinedMetricWarning: Precision and F-score are ill-defined and being set to 0.0 in samples with no predicted labels. Use `zero_division` parameter to control this behavior.\n",
            "  _warn_prf(average, modifier, msg_start, len(result))\n"
          ]
        }
      ],
      "source": [
        "import pandas as pd\n",
        "import numpy as np\n",
        "from sklearn.model_selection import train_test_split\n",
        "from sklearn.preprocessing import MultiLabelBinarizer\n",
        "from sklearn.metrics import classification_report\n",
        "import torch\n",
        "from torch.utils.data import DataLoader, TensorDataset\n",
        "from transformers import BertTokenizer, BertForSequenceClassification, AdamW\n",
        "from tqdm import tqdm\n",
        "\n",
        "# 1. 数据加载\n",
        "df = pd.read_json(\"HAO_comment_classification.json\")\n",
        "df_cleaned = df.dropna(subset=['Comment Classification'])\n",
        "df_cleaned['Comment Classification'] = df_cleaned['Comment Classification'].astype(str).str.split(', ')\n",
        "\n",
        "mlb = MultiLabelBinarizer()\n",
        "label_data_cleaned = mlb.fit_transform(df_cleaned['Comment Classification'])\n",
        "label_df_cleaned = pd.DataFrame(label_data_cleaned, columns=mlb.classes_)\n",
        "X_train_cleaned, X_test_cleaned, y_train_cleaned, y_test_cleaned = train_test_split(df_cleaned['Comment Body'], label_df_cleaned, test_size=0.2, random_state=42)\n",
        "\n",
        "# 2. 使用BERT的tokenizer进行tokenization\n",
        "tokenizer = BertTokenizer.from_pretrained('bert-base-uncased', do_lower_case=True)\n",
        "\n",
        "def tokenize_data(texts, max_length=256):\n",
        "    input_ids = []\n",
        "    attention_masks = []\n",
        "    for text in texts:\n",
        "        encoded_dict = tokenizer.encode_plus(\n",
        "            text,\n",
        "            add_special_tokens=True,\n",
        "            max_length=max_length,\n",
        "            padding='max_length',\n",
        "            return_attention_mask=True,\n",
        "            return_tensors='pt',\n",
        "            truncation=True\n",
        "        )\n",
        "        input_ids.append(encoded_dict['input_ids'])\n",
        "        attention_masks.append(encoded_dict['attention_mask'])\n",
        "    input_ids = torch.cat(input_ids, dim=0)\n",
        "    attention_masks = torch.cat(attention_masks, dim=0)\n",
        "    return input_ids, attention_masks\n",
        "\n",
        "train_input_ids, train_attention_masks = tokenize_data(X_train_cleaned)\n",
        "test_input_ids, test_attention_masks = tokenize_data(X_test_cleaned)\n",
        "train_labels = torch.tensor(y_train_cleaned.values)\n",
        "test_labels = torch.tensor(y_test_cleaned.values)\n",
        "\n",
        "# 3. DataLoader Preparation\n",
        "train_dataset = TensorDataset(train_input_ids, train_attention_masks, train_labels)\n",
        "test_dataset = TensorDataset(test_input_ids, test_attention_masks, test_labels)\n",
        "train_dataloader = DataLoader(train_dataset, batch_size=16, shuffle=True)\n",
        "test_dataloader = DataLoader(test_dataset, batch_size=16, shuffle=False)\n",
        "\n",
        "# 4. Model Preparation\n",
        "device = torch.device(\"cuda\" if torch.cuda.is_available() else \"cpu\")\n",
        "model = BertForSequenceClassification.from_pretrained('bert-base-uncased', num_labels=len(mlb.classes_))\n",
        "model.to(device)\n",
        "optimizer = torch.optim.AdamW(model.parameters(), lr=2e-5)\n",
        "\n",
        "\n",
        "# 5. Model Training\n",
        "epochs = 5\n",
        "for epoch in range(epochs):\n",
        "    model.train()\n",
        "    total_loss = 0\n",
        "    progress_bar = tqdm(train_dataloader, desc=f\"Epoch {epoch+1}\")\n",
        "    for batch in progress_bar:\n",
        "        input_ids = batch[0].to(device)\n",
        "        attention_mask = batch[1].to(device)\n",
        "        labels = batch[2].to(device)\n",
        "\n",
        "        model.zero_grad()\n",
        "        outputs = model(input_ids, token_type_ids=None, attention_mask=attention_mask, labels=labels.float())  # Ensure labels are float type\n",
        "        loss = outputs.loss\n",
        "        total_loss += loss.item()\n",
        "        loss.backward()\n",
        "        optimizer.step()\n",
        "\n",
        "        progress_bar.set_postfix({'loss': total_loss / (epoch + 1)})\n",
        "    avg_train_loss = total_loss / len(train_dataloader)\n",
        "    print(f\"Epoch {epoch+1} - Training loss: {avg_train_loss:.3f}\")\n",
        "\n",
        "# 6. Model Evaluation\n",
        "model.eval()\n",
        "predictions = []\n",
        "for batch in test_dataloader:\n",
        "    input_ids = batch[0].to(device)\n",
        "    attention_mask = batch[1].to(device)\n",
        "\n",
        "    with torch.no_grad():\n",
        "        outputs = model(input_ids, token_type_ids=None, attention_mask=attention_mask)\n",
        "    logits = outputs.logits\n",
        "    logits = logits.detach().cpu().numpy()\n",
        "    predictions.extend(logits)\n",
        "\n",
        "# Convert logits to labels\n",
        "pred_labels = [(np.array(pred) > 0).astype(int) for pred in predictions]\n",
        "\n",
        "# 7. Compute Metrics\n",
        "true_labels_flat = y_test_cleaned.values\n",
        "print(\"Classification Report:\")\n",
        "print(classification_report(true_labels_flat, pred_labels, target_names=mlb.classes_))\n"
      ]
    },
    {
      "cell_type": "code",
      "execution_count": null,
      "metadata": {
        "colab": {
          "base_uri": "https://localhost:8080/"
        },
        "id": "cp_JGCbM6tqu",
        "outputId": "37bb9af5-d62b-44fd-ef0d-7f8beb2a644e"
      },
      "outputs": [
        {
          "name": "stderr",
          "output_type": "stream",
          "text": [
            "Some weights of BertForSequenceClassification were not initialized from the model checkpoint at bert-base-uncased and are newly initialized: ['classifier.bias', 'classifier.weight']\n",
            "You should probably TRAIN this model on a down-stream task to be able to use it for predictions and inference.\n",
            "Epoch 1: 100%|██████████| 46/46 [00:30<00:00,  1.52it/s, loss=22.5]\n"
          ]
        },
        {
          "name": "stdout",
          "output_type": "stream",
          "text": [
            "Epoch 1 - Training loss: 0.488\n"
          ]
        },
        {
          "name": "stderr",
          "output_type": "stream",
          "text": [
            "Epoch 2: 100%|██████████| 46/46 [00:28<00:00,  1.59it/s, loss=6.47]\n"
          ]
        },
        {
          "name": "stdout",
          "output_type": "stream",
          "text": [
            "Epoch 2 - Training loss: 0.281\n"
          ]
        },
        {
          "name": "stderr",
          "output_type": "stream",
          "text": [
            "Epoch 3: 100%|██████████| 46/46 [00:28<00:00,  1.59it/s, loss=3.24]\n"
          ]
        },
        {
          "name": "stdout",
          "output_type": "stream",
          "text": [
            "Epoch 3 - Training loss: 0.211\n"
          ]
        },
        {
          "name": "stderr",
          "output_type": "stream",
          "text": [
            "Epoch 4: 100%|██████████| 46/46 [00:29<00:00,  1.58it/s, loss=2.11]\n"
          ]
        },
        {
          "name": "stdout",
          "output_type": "stream",
          "text": [
            "Epoch 4 - Training loss: 0.183\n"
          ]
        },
        {
          "name": "stderr",
          "output_type": "stream",
          "text": [
            "Epoch 5: 100%|██████████| 46/46 [00:28<00:00,  1.59it/s, loss=1.59]\n"
          ]
        },
        {
          "name": "stdout",
          "output_type": "stream",
          "text": [
            "Epoch 5 - Training loss: 0.173\n"
          ]
        },
        {
          "name": "stderr",
          "output_type": "stream",
          "text": [
            "Epoch 6: 100%|██████████| 46/46 [00:28<00:00,  1.59it/s, loss=1.31]\n"
          ]
        },
        {
          "name": "stdout",
          "output_type": "stream",
          "text": [
            "Epoch 6 - Training loss: 0.171\n"
          ]
        },
        {
          "name": "stderr",
          "output_type": "stream",
          "text": [
            "Epoch 7: 100%|██████████| 46/46 [00:28<00:00,  1.59it/s, loss=1.13]\n"
          ]
        },
        {
          "name": "stdout",
          "output_type": "stream",
          "text": [
            "Epoch 7 - Training loss: 0.171\n"
          ]
        },
        {
          "name": "stderr",
          "output_type": "stream",
          "text": [
            "Epoch 8: 100%|██████████| 46/46 [00:28<00:00,  1.59it/s, loss=0.985]\n"
          ]
        },
        {
          "name": "stdout",
          "output_type": "stream",
          "text": [
            "Epoch 8 - Training loss: 0.171\n"
          ]
        },
        {
          "name": "stderr",
          "output_type": "stream",
          "text": [
            "Epoch 9: 100%|██████████| 46/46 [00:29<00:00,  1.59it/s, loss=0.875]\n"
          ]
        },
        {
          "name": "stdout",
          "output_type": "stream",
          "text": [
            "Epoch 9 - Training loss: 0.171\n"
          ]
        },
        {
          "name": "stderr",
          "output_type": "stream",
          "text": [
            "Epoch 10: 100%|██████████| 46/46 [00:28<00:00,  1.59it/s, loss=0.787]\n"
          ]
        },
        {
          "name": "stdout",
          "output_type": "stream",
          "text": [
            "Epoch 10 - Training loss: 0.171\n",
            "Classification Report:\n",
            "                                    precision    recall  f1-score   support\n",
            "\n",
            "Algorithmic Efficiency/Performance       0.00      0.00      0.00         1\n",
            "                   Code Complexity       0.00      0.00      0.00        14\n",
            "           Code Style & Formatting       0.00      0.00      0.00        21\n",
            "              Compatibility Issues       0.00      0.00      0.00         4\n",
            "        Data & Resource Management       0.00      0.00      0.00         1\n",
            "             Depreciated Functions       0.00      0.00      0.00         1\n",
            "                     Documentation       0.00      0.00      0.00        21\n",
            "                       Duplication       0.00      0.00      0.00         2\n",
            "                      Element Type       0.00      0.00      0.00         2\n",
            "                    Execution Time       0.00      0.00      0.00         1\n",
            "              Feature Completeness       0.00      0.00      0.00         1\n",
            "                    Function Calls       0.00      0.00      0.00         1\n",
            "               Function Parameters       0.00      0.00      0.00         1\n",
            "                   Inline Comments       0.00      0.00      0.00         3\n",
            "                  Input Validation       0.00      0.00      0.00         2\n",
            "          Issues with Outside Code       0.00      0.00      0.00         0\n",
            "                Knowledge Transfer       0.00      0.00      0.00         5\n",
            "                           Logging       0.00      0.00      0.00         4\n",
            "                       Logic Error       0.00      0.00      0.00        11\n",
            "                              Misc       0.00      0.00      0.00         3\n",
            "              Moving Functionality       0.00      0.00      0.00         6\n",
            "                Naming Conventions       0.00      0.00      0.00        19\n",
            "                Other Test related       0.00      0.00      0.00         2\n",
            "                Removing Dead Code       0.00      0.00      0.00         8\n",
            "                 Security Concerns       0.00      0.00      0.00         1\n",
            "              Social Communication       0.00      0.00      0.00         5\n",
            "                        Test Cases       0.00      0.00      0.00         1\n",
            "                     Test Coverage       0.00      0.00      0.00         4\n",
            "                     Understanding       0.00      0.00      0.00        22\n",
            "       Unhandled Errors/Exceptions       0.00      0.00      0.00         3\n",
            "               Unvalidated Element       0.00      0.00      0.00         3\n",
            "            Using standard methods       0.00      0.00      0.00         8\n",
            "           Variable Initialisation       0.00      0.00      0.00         0\n",
            "                        Visibility       0.00      0.00      0.00         2\n",
            "                    Wrong Location       0.00      0.00      0.00         1\n",
            "\n",
            "                         micro avg       0.00      0.00      0.00       184\n",
            "                         macro avg       0.00      0.00      0.00       184\n",
            "                      weighted avg       0.00      0.00      0.00       184\n",
            "                       samples avg       0.00      0.00      0.00       184\n",
            "\n"
          ]
        },
        {
          "name": "stderr",
          "output_type": "stream",
          "text": [
            "/usr/local/lib/python3.10/dist-packages/sklearn/metrics/_classification.py:1344: UndefinedMetricWarning: Precision and F-score are ill-defined and being set to 0.0 in labels with no predicted samples. Use `zero_division` parameter to control this behavior.\n",
            "  _warn_prf(average, modifier, msg_start, len(result))\n",
            "/usr/local/lib/python3.10/dist-packages/sklearn/metrics/_classification.py:1344: UndefinedMetricWarning: Recall and F-score are ill-defined and being set to 0.0 in labels with no true samples. Use `zero_division` parameter to control this behavior.\n",
            "  _warn_prf(average, modifier, msg_start, len(result))\n",
            "/usr/local/lib/python3.10/dist-packages/sklearn/metrics/_classification.py:1344: UndefinedMetricWarning: Precision and F-score are ill-defined and being set to 0.0 due to no predicted samples. Use `zero_division` parameter to control this behavior.\n",
            "  _warn_prf(average, modifier, msg_start, len(result))\n",
            "/usr/local/lib/python3.10/dist-packages/sklearn/metrics/_classification.py:1344: UndefinedMetricWarning: Precision and F-score are ill-defined and being set to 0.0 in samples with no predicted labels. Use `zero_division` parameter to control this behavior.\n",
            "  _warn_prf(average, modifier, msg_start, len(result))\n"
          ]
        }
      ],
      "source": [
        "import pandas as pd\n",
        "import numpy as np\n",
        "from sklearn.model_selection import train_test_split\n",
        "from sklearn.preprocessing import MultiLabelBinarizer\n",
        "from sklearn.metrics import classification_report\n",
        "import torch\n",
        "from torch.utils.data import DataLoader, TensorDataset\n",
        "from transformers import BertTokenizer, BertForSequenceClassification, AdamW, get_linear_schedule_with_warmup\n",
        "from tqdm import tqdm\n",
        "\n",
        "# 1. 数据加载\n",
        "df = pd.read_json(\"HAO_comment_classification.json\")\n",
        "df_cleaned = df.dropna(subset=['Comment Classification'])\n",
        "df_cleaned['Comment Classification'] = df_cleaned['Comment Classification'].astype(str).str.split(', ')\n",
        "\n",
        "mlb = MultiLabelBinarizer()\n",
        "label_data_cleaned = mlb.fit_transform(df_cleaned['Comment Classification'])\n",
        "label_df_cleaned = pd.DataFrame(label_data_cleaned, columns=mlb.classes_)\n",
        "X_train_cleaned, X_test_cleaned, y_train_cleaned, y_test_cleaned = train_test_split(df_cleaned['Comment Body'], label_df_cleaned, test_size=0.2, random_state=42)\n",
        "\n",
        "# 2. 使用BERT的tokenizer进行tokenization\n",
        "tokenizer = BertTokenizer.from_pretrained('bert-base-uncased', do_lower_case=True)\n",
        "\n",
        "def tokenize_data(texts, max_length=256):\n",
        "    input_ids = []\n",
        "    attention_masks = []\n",
        "    for text in texts:\n",
        "        encoded_dict = tokenizer.encode_plus(\n",
        "            text,\n",
        "            add_special_tokens=True,\n",
        "            max_length=max_length,\n",
        "            padding='max_length',\n",
        "            return_attention_mask=True,\n",
        "            return_tensors='pt',\n",
        "            truncation=True\n",
        "        )\n",
        "        input_ids.append(encoded_dict['input_ids'])\n",
        "        attention_masks.append(encoded_dict['attention_mask'])\n",
        "    input_ids = torch.cat(input_ids, dim=0)\n",
        "    attention_masks = torch.cat(attention_masks, dim=0)\n",
        "    return input_ids, attention_masks\n",
        "\n",
        "train_input_ids, train_attention_masks = tokenize_data(X_train_cleaned)\n",
        "test_input_ids, test_attention_masks = tokenize_data(X_test_cleaned)\n",
        "train_labels = torch.tensor(y_train_cleaned.values)\n",
        "test_labels = torch.tensor(y_test_cleaned.values)\n",
        "\n",
        "# 3. DataLoader Preparation\n",
        "train_dataset = TensorDataset(train_input_ids, train_attention_masks, train_labels)\n",
        "test_dataset = TensorDataset(test_input_ids, test_attention_masks, test_labels)\n",
        "train_dataloader = DataLoader(train_dataset, batch_size=16, shuffle=True)\n",
        "test_dataloader = DataLoader(test_dataset, batch_size=16, shuffle=False)\n",
        "\n",
        "# 4. Model Preparation\n",
        "device = torch.device(\"cuda\" if torch.cuda.is_available() else \"cpu\")\n",
        "model = BertForSequenceClassification.from_pretrained('bert-base-uncased', num_labels=len(mlb.classes_))\n",
        "model.config.hidden_dropout_prob = 0.5  # Add dropout\n",
        "model.to(device)\n",
        "optimizer = torch.optim.AdamW(model.parameters(), lr=2e-5)\n",
        "\n",
        "# Add learning rate scheduler\n",
        "scheduler = get_linear_schedule_with_warmup(optimizer,\n",
        "                                            num_warmup_steps=0,\n",
        "                                            num_training_steps=len(train_dataloader) * epochs)\n",
        "\n",
        "# 5. Model Training\n",
        "epochs = 10  # Increased epochs\n",
        "for epoch in range(epochs):\n",
        "    model.train()\n",
        "    total_loss = 0\n",
        "    progress_bar = tqdm(train_dataloader, desc=f\"Epoch {epoch+1}\")\n",
        "    for batch in progress_bar:\n",
        "        input_ids = batch[0].to(device)\n",
        "        attention_mask = batch[1].to(device)\n",
        "        labels = batch[2].to(device)\n",
        "\n",
        "        model.zero_grad()\n",
        "        outputs = model(input_ids, token_type_ids=None, attention_mask=attention_mask, labels=labels.float())\n",
        "        loss = outputs.loss\n",
        "        total_loss += loss.item()\n",
        "        loss.backward()\n",
        "        optimizer.step()\n",
        "\n",
        "        # Update learning rate\n",
        "        scheduler.step()\n",
        "\n",
        "        progress_bar.set_postfix({'loss': total_loss / (epoch + 1)})\n",
        "    avg_train_loss = total_loss / len(train_dataloader)\n",
        "    print(f\"Epoch {epoch+1} - Training loss: {avg_train_loss:.3f}\")\n",
        "\n",
        "# 6. Model Evaluation\n",
        "model.eval()\n",
        "predictions = []\n",
        "for batch in test_dataloader:\n",
        "    input_ids = batch[0].to(device)\n",
        "    attention_mask = batch[1].to(device)\n",
        "\n",
        "    with torch.no_grad():\n",
        "        outputs = model(input_ids, token_type_ids=None, attention_mask=attention_mask)\n",
        "    logits = outputs.logits\n",
        "    logits = logits.detach().cpu().numpy()\n",
        "    predictions.extend(logits)\n",
        "\n",
        "# Adjust decision threshold\n",
        "threshold = 0.3\n",
        "pred_labels = [(np.array(pred) > threshold).astype(int) for pred in predictions]\n",
        "\n",
        "# 7. Compute Metrics\n",
        "true_labels_flat = y_test_cleaned.values\n",
        "print(\"Classification Report:\")\n",
        "print(classification_report(true_labels_flat, pred_labels, target_names=mlb.classes_))\n"
      ]
    },
    {
      "cell_type": "code",
      "execution_count": null,
      "metadata": {
        "colab": {
          "base_uri": "https://localhost:8080/"
        },
        "id": "S-FqLf93cAdr",
        "outputId": "6cf86e6d-5dd1-43df-fa93-9ea8d69e1d63"
      },
      "outputs": [
        {
          "name": "stderr",
          "output_type": "stream",
          "text": [
            "/usr/local/lib/python3.10/dist-packages/transformers/optimization.py:411: FutureWarning: This implementation of AdamW is deprecated and will be removed in a future version. Use the PyTorch implementation torch.optim.AdamW instead, or set `no_deprecation_warning=True` to disable this warning\n",
            "  warnings.warn(\n",
            "Epoch 1: 100%|██████████| 46/46 [00:31<00:00,  1.46it/s, loss=26.1]\n"
          ]
        },
        {
          "name": "stdout",
          "output_type": "stream",
          "text": [
            "Epoch 1 - Training loss: 0.566\n"
          ]
        },
        {
          "name": "stderr",
          "output_type": "stream",
          "text": [
            "Epoch 2: 100%|██████████| 46/46 [00:30<00:00,  1.53it/s, loss=7.76]\n"
          ]
        },
        {
          "name": "stdout",
          "output_type": "stream",
          "text": [
            "Epoch 2 - Training loss: 0.338\n"
          ]
        },
        {
          "name": "stderr",
          "output_type": "stream",
          "text": [
            "Epoch 3: 100%|██████████| 46/46 [00:29<00:00,  1.55it/s, loss=3.29]\n"
          ]
        },
        {
          "name": "stdout",
          "output_type": "stream",
          "text": [
            "Epoch 3 - Training loss: 0.214\n"
          ]
        },
        {
          "name": "stderr",
          "output_type": "stream",
          "text": [
            "Epoch 4: 100%|██████████| 46/46 [00:30<00:00,  1.52it/s, loss=1.89]\n"
          ]
        },
        {
          "name": "stdout",
          "output_type": "stream",
          "text": [
            "Epoch 4 - Training loss: 0.164\n"
          ]
        },
        {
          "name": "stderr",
          "output_type": "stream",
          "text": [
            "Epoch 5: 100%|██████████| 46/46 [00:30<00:00,  1.52it/s, loss=1.33]\n"
          ]
        },
        {
          "name": "stdout",
          "output_type": "stream",
          "text": [
            "Epoch 5 - Training loss: 0.145\n"
          ]
        },
        {
          "name": "stderr",
          "output_type": "stream",
          "text": [
            "Epoch 6: 100%|██████████| 46/46 [00:29<00:00,  1.53it/s, loss=1.04]\n"
          ]
        },
        {
          "name": "stdout",
          "output_type": "stream",
          "text": [
            "Epoch 6 - Training loss: 0.136\n"
          ]
        },
        {
          "name": "stderr",
          "output_type": "stream",
          "text": [
            "Epoch 7: 100%|██████████| 46/46 [00:30<00:00,  1.52it/s, loss=0.859]\n"
          ]
        },
        {
          "name": "stdout",
          "output_type": "stream",
          "text": [
            "Epoch 7 - Training loss: 0.131\n"
          ]
        },
        {
          "name": "stderr",
          "output_type": "stream",
          "text": [
            "Epoch 8: 100%|██████████| 46/46 [00:30<00:00,  1.53it/s, loss=0.74]\n"
          ]
        },
        {
          "name": "stdout",
          "output_type": "stream",
          "text": [
            "Epoch 8 - Training loss: 0.129\n"
          ]
        },
        {
          "name": "stderr",
          "output_type": "stream",
          "text": [
            "Epoch 9: 100%|██████████| 46/46 [00:30<00:00,  1.52it/s, loss=0.654]\n"
          ]
        },
        {
          "name": "stdout",
          "output_type": "stream",
          "text": [
            "Epoch 9 - Training loss: 0.128\n"
          ]
        },
        {
          "name": "stderr",
          "output_type": "stream",
          "text": [
            "Epoch 10: 100%|██████████| 46/46 [00:30<00:00,  1.53it/s, loss=0.588]\n"
          ]
        },
        {
          "name": "stdout",
          "output_type": "stream",
          "text": [
            "Epoch 10 - Training loss: 0.128\n",
            "Classification Report:\n",
            "                                    precision    recall  f1-score   support\n",
            "\n",
            "Algorithmic Efficiency/Performance       0.00      0.00      0.00         1\n",
            "                   Code Complexity       0.00      0.00      0.00        14\n",
            "           Code Style & Formatting       0.00      0.00      0.00        21\n",
            "              Compatibility Issues       0.00      0.00      0.00         4\n",
            "        Data & Resource Management       0.00      0.00      0.00         1\n",
            "             Depreciated Functions       0.00      0.00      0.00         1\n",
            "                     Documentation       0.00      0.00      0.00        21\n",
            "                       Duplication       0.00      0.00      0.00         2\n",
            "                      Element Type       0.00      0.00      0.00         2\n",
            "                    Execution Time       0.00      0.00      0.00         1\n",
            "              Feature Completeness       0.00      0.00      0.00         1\n",
            "                    Function Calls       0.00      0.00      0.00         1\n",
            "               Function Parameters       0.00      0.00      0.00         1\n",
            "                   Inline Comments       0.00      0.00      0.00         3\n",
            "                  Input Validation       0.00      0.00      0.00         2\n",
            "          Issues with Outside Code       0.00      0.00      0.00         0\n",
            "                Knowledge Transfer       0.00      0.00      0.00         5\n",
            "                           Logging       0.00      0.00      0.00         4\n",
            "                       Logic Error       0.00      0.00      0.00        11\n",
            "                              Misc       0.00      0.00      0.00         3\n",
            "              Moving Functionality       0.00      0.00      0.00         6\n",
            "                Naming Conventions       0.00      0.00      0.00        19\n",
            "                Other Test related       0.00      0.00      0.00         2\n",
            "                Removing Dead Code       0.00      0.00      0.00         8\n",
            "                 Security Concerns       0.00      0.00      0.00         1\n",
            "              Social Communication       0.00      0.00      0.00         5\n",
            "                        Test Cases       0.00      0.00      0.00         1\n",
            "                     Test Coverage       0.00      0.00      0.00         4\n",
            "                     Understanding       0.00      0.00      0.00        22\n",
            "       Unhandled Errors/Exceptions       0.00      0.00      0.00         3\n",
            "               Unvalidated Element       0.00      0.00      0.00         3\n",
            "            Using standard methods       0.00      0.00      0.00         8\n",
            "           Variable Initialisation       0.00      0.00      0.00         0\n",
            "                        Visibility       0.00      0.00      0.00         2\n",
            "                    Wrong Location       0.00      0.00      0.00         1\n",
            "\n",
            "                         micro avg       0.00      0.00      0.00       184\n",
            "                         macro avg       0.00      0.00      0.00       184\n",
            "                      weighted avg       0.00      0.00      0.00       184\n",
            "                       samples avg       0.00      0.00      0.00       184\n",
            "\n"
          ]
        },
        {
          "name": "stderr",
          "output_type": "stream",
          "text": [
            "/usr/local/lib/python3.10/dist-packages/sklearn/metrics/_classification.py:1344: UndefinedMetricWarning: Precision and F-score are ill-defined and being set to 0.0 in labels with no predicted samples. Use `zero_division` parameter to control this behavior.\n",
            "  _warn_prf(average, modifier, msg_start, len(result))\n",
            "/usr/local/lib/python3.10/dist-packages/sklearn/metrics/_classification.py:1344: UndefinedMetricWarning: Recall and F-score are ill-defined and being set to 0.0 in labels with no true samples. Use `zero_division` parameter to control this behavior.\n",
            "  _warn_prf(average, modifier, msg_start, len(result))\n",
            "/usr/local/lib/python3.10/dist-packages/sklearn/metrics/_classification.py:1344: UndefinedMetricWarning: Precision and F-score are ill-defined and being set to 0.0 due to no predicted samples. Use `zero_division` parameter to control this behavior.\n",
            "  _warn_prf(average, modifier, msg_start, len(result))\n",
            "/usr/local/lib/python3.10/dist-packages/sklearn/metrics/_classification.py:1344: UndefinedMetricWarning: Precision and F-score are ill-defined and being set to 0.0 in samples with no predicted labels. Use `zero_division` parameter to control this behavior.\n",
            "  _warn_prf(average, modifier, msg_start, len(result))\n"
          ]
        }
      ],
      "source": [
        "import pandas as pd\n",
        "import numpy as np\n",
        "import torch\n",
        "import torch.nn as nn\n",
        "from sklearn.model_selection import train_test_split\n",
        "from sklearn.preprocessing import MultiLabelBinarizer\n",
        "from sklearn.metrics import classification_report\n",
        "from torch.utils.data import DataLoader, TensorDataset\n",
        "from transformers import BertTokenizer, BertModel, AdamW, get_linear_schedule_with_warmup\n",
        "from tqdm import tqdm\n",
        "\n",
        "# 1. 数据加载\n",
        "df = pd.read_json(\"HAO_comment_classification.json\")\n",
        "df_cleaned = df.dropna(subset=['Comment Classification'])\n",
        "df_cleaned['Comment Classification'] = df_cleaned['Comment Classification'].astype(str).str.split(', ')\n",
        "\n",
        "mlb = MultiLabelBinarizer()\n",
        "label_data_cleaned = mlb.fit_transform(df_cleaned['Comment Classification'])\n",
        "label_df_cleaned = pd.DataFrame(label_data_cleaned, columns=mlb.classes_)\n",
        "X_train_cleaned, X_test_cleaned, y_train_cleaned, y_test_cleaned = train_test_split(df_cleaned['Comment Body'], label_df_cleaned, test_size=0.2, random_state=42)\n",
        "\n",
        "# 2. 使用BERT的tokenizer进行tokenization\n",
        "tokenizer = BertTokenizer.from_pretrained('bert-base-uncased', do_lower_case=True)\n",
        "\n",
        "def tokenize_data(texts, max_length=256):\n",
        "    input_ids = []\n",
        "    attention_masks = []\n",
        "    for text in texts:\n",
        "        encoded_dict = tokenizer.encode_plus(\n",
        "            text,\n",
        "            add_special_tokens=True,\n",
        "            max_length=max_length,\n",
        "            padding='max_length',\n",
        "            return_attention_mask=True,\n",
        "            return_tensors='pt',\n",
        "            truncation=True\n",
        "        )\n",
        "        input_ids.append(encoded_dict['input_ids'])\n",
        "        attention_masks.append(encoded_dict['attention_mask'])\n",
        "    input_ids = torch.cat(input_ids, dim=0)\n",
        "    attention_masks = torch.cat(attention_masks, dim=0)\n",
        "    return input_ids, attention_masks\n",
        "\n",
        "train_input_ids, train_attention_masks = tokenize_data(X_train_cleaned)\n",
        "test_input_ids, test_attention_masks = tokenize_data(X_test_cleaned)\n",
        "train_labels = torch.tensor(y_train_cleaned.values)\n",
        "test_labels = torch.tensor(y_test_cleaned.values)\n",
        "\n",
        "# 3. DataLoader Preparation\n",
        "train_dataset = TensorDataset(train_input_ids, train_attention_masks, train_labels)\n",
        "test_dataset = TensorDataset(test_input_ids, test_attention_masks, test_labels)\n",
        "train_dataloader = DataLoader(train_dataset, batch_size=16, shuffle=True)\n",
        "test_dataloader = DataLoader(test_dataset, batch_size=16, shuffle=False)\n",
        "\n",
        "# 4. Custom Model Preparation with additional Fully Connected Layers\n",
        "class CustomBERTModel(nn.Module):\n",
        "    def __init__(self, num_labels):\n",
        "        super(CustomBERTModel, self).__init__()\n",
        "        self.bert = BertModel.from_pretrained('bert-base-uncased')\n",
        "        self.dropout = nn.Dropout(0.3)\n",
        "        self.classifier = nn.Sequential(\n",
        "            nn.Linear(768, 512),\n",
        "            nn.ReLU(),\n",
        "            nn.Dropout(0.3),\n",
        "            nn.Linear(512, num_labels)\n",
        "        )\n",
        "\n",
        "    def forward(self, input_ids, attention_mask, labels=None):\n",
        "        outputs = self.bert(input_ids, attention_mask=attention_mask)\n",
        "        pooled_output = outputs[1]\n",
        "        pooled_output = self.dropout(pooled_output)\n",
        "        logits = self.classifier(pooled_output)\n",
        "\n",
        "        loss = None\n",
        "        if labels is not None:\n",
        "            loss_fct = nn.BCEWithLogitsLoss()\n",
        "            loss = loss_fct(logits.view(-1, self.classifier[-1].out_features), labels.view(-1, self.classifier[-1].out_features).float())\n",
        "        return loss, logits\n",
        "\n",
        "device = torch.device(\"cuda\" if torch.cuda.is_available() else \"cpu\")\n",
        "model = CustomBERTModel(num_labels=len(mlb.classes_))\n",
        "model.to(device)\n",
        "optimizer = AdamW(model.parameters(), lr=2e-5)\n",
        "\n",
        "# Add learning rate scheduler\n",
        "epochs = 10\n",
        "scheduler = get_linear_schedule_with_warmup(optimizer, num_warmup_steps=0, num_training_steps=len(train_dataloader) * epochs)\n",
        "\n",
        "# 5. Model Training\n",
        "for epoch in range(epochs):\n",
        "    model.train()\n",
        "    total_loss = 0\n",
        "    progress_bar = tqdm(train_dataloader, desc=f\"Epoch {epoch+1}\")\n",
        "    for batch in progress_bar:\n",
        "        input_ids = batch[0].to(device)\n",
        "        attention_mask = batch[1].to(device)\n",
        "        labels = batch[2].to(device)\n",
        "\n",
        "        model.zero_grad()\n",
        "        loss, logits = model(input_ids, attention_mask=attention_mask, labels=labels)\n",
        "        total_loss += loss.item()\n",
        "        loss.backward()\n",
        "        optimizer.step()\n",
        "\n",
        "        # Update learning rate\n",
        "        scheduler.step()\n",
        "\n",
        "        progress_bar.set_postfix({'loss': total_loss / (epoch + 1)})\n",
        "    avg_train_loss = total_loss / len(train_dataloader)\n",
        "    print(f\"Epoch {epoch+1} - Training loss: {avg_train_loss:.3f}\")\n",
        "\n",
        "# 6. Model Evaluation\n",
        "model.eval()\n",
        "predictions = []\n",
        "for batch in test_dataloader:\n",
        "    input_ids = batch[0].to(device)\n",
        "    attention_mask = batch[1].to(device)\n",
        "\n",
        "    with torch.no_grad():\n",
        "        loss, logits = model(input_ids, attention_mask=attention_mask)\n",
        "    logits = logits.detach().cpu().numpy()\n",
        "    predictions.extend(logits)\n",
        "\n",
        "# Adjust decision threshold\n",
        "threshold = 0.3\n",
        "pred_labels = [(np.array(pred) > threshold).astype(int) for pred in predictions]\n",
        "\n",
        "# 7. Compute Metrics\n",
        "true_labels_flat = y_test_cleaned.values\n",
        "print(\"Classification Report:\")\n",
        "print(classification_report(true_labels_flat, pred_labels, target_names=mlb.classes_))\n"
      ]
    },
    {
      "cell_type": "code",
      "execution_count": 33,
      "metadata": {
        "colab": {
          "base_uri": "https://localhost:8080/",
          "height": 1000
        },
        "id": "1y9G4bb1cA2g",
        "outputId": "6802e357-7f4d-4504-93db-8d11b8dec91b"
      },
      "outputs": [
        {
          "output_type": "stream",
          "name": "stdout",
          "text": [
            "Initial size: 904\n",
            "Size after dropping NA: 904\n",
            "Size after category filtering: 901\n",
            "(901, 8)\n"
          ]
        },
        {
          "output_type": "stream",
          "name": "stderr",
          "text": [
            "/usr/local/lib/python3.10/dist-packages/transformers/optimization.py:411: FutureWarning: This implementation of AdamW is deprecated and will be removed in a future version. Use the PyTorch implementation torch.optim.AdamW instead, or set `no_deprecation_warning=True` to disable this warning\n",
            "  warnings.warn(\n",
            "Epoch 1: 100%|██████████| 45/45 [00:10<00:00,  4.30it/s, loss=120]\n"
          ]
        },
        {
          "output_type": "stream",
          "name": "stdout",
          "text": [
            "Epoch 1 - Training loss: 2.656, Training accuracy: 0.14, Test accuracy: 0.20\n"
          ]
        },
        {
          "output_type": "stream",
          "name": "stderr",
          "text": [
            "Epoch 2: 100%|██████████| 45/45 [00:10<00:00,  4.35it/s, loss=53]\n"
          ]
        },
        {
          "output_type": "stream",
          "name": "stdout",
          "text": [
            "Epoch 2 - Training loss: 2.356, Training accuracy: 0.24, Test accuracy: 0.26\n"
          ]
        },
        {
          "output_type": "stream",
          "name": "stderr",
          "text": [
            "Epoch 3: 100%|██████████| 45/45 [00:10<00:00,  4.34it/s, loss=32.8]\n"
          ]
        },
        {
          "output_type": "stream",
          "name": "stdout",
          "text": [
            "Epoch 3 - Training loss: 2.185, Training accuracy: 0.33, Test accuracy: 0.35\n"
          ]
        },
        {
          "output_type": "stream",
          "name": "stderr",
          "text": [
            "Epoch 4: 100%|██████████| 45/45 [00:10<00:00,  4.34it/s, loss=22.1]\n"
          ]
        },
        {
          "output_type": "stream",
          "name": "stdout",
          "text": [
            "Epoch 4 - Training loss: 1.961, Training accuracy: 0.42, Test accuracy: 0.40\n"
          ]
        },
        {
          "output_type": "stream",
          "name": "stderr",
          "text": [
            "Epoch 5: 100%|██████████| 45/45 [00:10<00:00,  4.36it/s, loss=15.1]\n"
          ]
        },
        {
          "output_type": "stream",
          "name": "stdout",
          "text": [
            "Epoch 5 - Training loss: 1.674, Training accuracy: 0.55, Test accuracy: 0.40\n"
          ]
        },
        {
          "output_type": "stream",
          "name": "stderr",
          "text": [
            "Epoch 6: 100%|██████████| 45/45 [00:10<00:00,  4.34it/s, loss=10.4]\n"
          ]
        },
        {
          "output_type": "stream",
          "name": "stdout",
          "text": [
            "Epoch 6 - Training loss: 1.392, Training accuracy: 0.63, Test accuracy: 0.43\n"
          ]
        },
        {
          "output_type": "stream",
          "name": "stderr",
          "text": [
            "Epoch 7: 100%|██████████| 45/45 [00:10<00:00,  4.34it/s, loss=7.26]\n"
          ]
        },
        {
          "output_type": "stream",
          "name": "stdout",
          "text": [
            "Epoch 7 - Training loss: 1.129, Training accuracy: 0.69, Test accuracy: 0.42\n"
          ]
        },
        {
          "output_type": "stream",
          "name": "stderr",
          "text": [
            "Epoch 8: 100%|██████████| 45/45 [00:10<00:00,  4.34it/s, loss=5.39]\n"
          ]
        },
        {
          "output_type": "stream",
          "name": "stdout",
          "text": [
            "Epoch 8 - Training loss: 0.958, Training accuracy: 0.74, Test accuracy: 0.40\n"
          ]
        },
        {
          "output_type": "stream",
          "name": "stderr",
          "text": [
            "Epoch 9: 100%|██████████| 45/45 [00:10<00:00,  4.33it/s, loss=3.96]\n"
          ]
        },
        {
          "output_type": "stream",
          "name": "stdout",
          "text": [
            "Epoch 9 - Training loss: 0.791, Training accuracy: 0.80, Test accuracy: 0.44\n"
          ]
        },
        {
          "output_type": "stream",
          "name": "stderr",
          "text": [
            "Epoch 10: 100%|██████████| 45/45 [00:10<00:00,  4.34it/s, loss=2.95]\n"
          ]
        },
        {
          "output_type": "stream",
          "name": "stdout",
          "text": [
            "Epoch 10 - Training loss: 0.655, Training accuracy: 0.87, Test accuracy: 0.46\n"
          ]
        },
        {
          "output_type": "stream",
          "name": "stderr",
          "text": [
            "Epoch 11: 100%|██████████| 45/45 [00:10<00:00,  4.34it/s, loss=2.31]\n"
          ]
        },
        {
          "output_type": "stream",
          "name": "stdout",
          "text": [
            "Epoch 11 - Training loss: 0.566, Training accuracy: 0.89, Test accuracy: 0.49\n"
          ]
        },
        {
          "output_type": "stream",
          "name": "stderr",
          "text": [
            "Epoch 12: 100%|██████████| 45/45 [00:10<00:00,  4.35it/s, loss=1.85]\n"
          ]
        },
        {
          "output_type": "stream",
          "name": "stdout",
          "text": [
            "Epoch 12 - Training loss: 0.493, Training accuracy: 0.91, Test accuracy: 0.47\n"
          ]
        },
        {
          "output_type": "stream",
          "name": "stderr",
          "text": [
            "Epoch 13: 100%|██████████| 45/45 [00:10<00:00,  4.34it/s, loss=1.51]\n"
          ]
        },
        {
          "output_type": "stream",
          "name": "stdout",
          "text": [
            "Epoch 13 - Training loss: 0.437, Training accuracy: 0.93, Test accuracy: 0.47\n"
          ]
        },
        {
          "output_type": "stream",
          "name": "stderr",
          "text": [
            "Epoch 14: 100%|██████████| 45/45 [00:10<00:00,  4.36it/s, loss=1.26]\n"
          ]
        },
        {
          "output_type": "stream",
          "name": "stdout",
          "text": [
            "Epoch 14 - Training loss: 0.393, Training accuracy: 0.94, Test accuracy: 0.47\n"
          ]
        },
        {
          "output_type": "stream",
          "name": "stderr",
          "text": [
            "Epoch 15: 100%|██████████| 45/45 [00:10<00:00,  4.34it/s, loss=1.08]\n"
          ]
        },
        {
          "output_type": "stream",
          "name": "stdout",
          "text": [
            "Epoch 15 - Training loss: 0.362, Training accuracy: 0.94, Test accuracy: 0.48\n"
          ]
        },
        {
          "output_type": "stream",
          "name": "stderr",
          "text": [
            "Epoch 16: 100%|██████████| 45/45 [00:10<00:00,  4.33it/s, loss=0.938]\n"
          ]
        },
        {
          "output_type": "stream",
          "name": "stdout",
          "text": [
            "Epoch 16 - Training loss: 0.333, Training accuracy: 0.95, Test accuracy: 0.46\n"
          ]
        },
        {
          "output_type": "stream",
          "name": "stderr",
          "text": [
            "Epoch 17: 100%|██████████| 45/45 [00:10<00:00,  4.35it/s, loss=0.854]\n"
          ]
        },
        {
          "output_type": "stream",
          "name": "stdout",
          "text": [
            "Epoch 17 - Training loss: 0.323, Training accuracy: 0.96, Test accuracy: 0.48\n"
          ]
        },
        {
          "output_type": "stream",
          "name": "stderr",
          "text": [
            "Epoch 18: 100%|██████████| 45/45 [00:10<00:00,  4.34it/s, loss=0.756]\n"
          ]
        },
        {
          "output_type": "stream",
          "name": "stdout",
          "text": [
            "Epoch 18 - Training loss: 0.302, Training accuracy: 0.96, Test accuracy: 0.48\n"
          ]
        },
        {
          "output_type": "stream",
          "name": "stderr",
          "text": [
            "Epoch 19: 100%|██████████| 45/45 [00:10<00:00,  4.35it/s, loss=0.695]\n"
          ]
        },
        {
          "output_type": "stream",
          "name": "stdout",
          "text": [
            "Epoch 19 - Training loss: 0.294, Training accuracy: 0.97, Test accuracy: 0.48\n"
          ]
        },
        {
          "output_type": "stream",
          "name": "stderr",
          "text": [
            "Epoch 20: 100%|██████████| 45/45 [00:10<00:00,  4.34it/s, loss=0.642]\n"
          ]
        },
        {
          "output_type": "stream",
          "name": "stdout",
          "text": [
            "Epoch 20 - Training loss: 0.285, Training accuracy: 0.97, Test accuracy: 0.48\n"
          ]
        },
        {
          "output_type": "display_data",
          "data": {
            "text/plain": [
              "<Figure size 1000x500 with 1 Axes>"
            ],
            "image/png": "[encoded data removed]"
          },
          "metadata": {}
        }
      ],
      "source": [
        "import pandas as pd\n",
        "import numpy as np\n",
        "from sklearn.model_selection import train_test_split\n",
        "from transformers import BertTokenizer, BertModel, AdamW, get_linear_schedule_with_warmup\n",
        "import torch\n",
        "from torch.utils.data import DataLoader, TensorDataset\n",
        "import torch.nn as nn\n",
        "from sklearn.metrics import classification_report, accuracy_score\n",
        "import matplotlib.pyplot as plt\n",
        "from tqdm import tqdm\n",
        "\n",
        "# 1. 数据加载\n",
        "df = pd.read_json(\"HAO_comment_classification.json\")\n",
        "print(f\"Initial size: {len(df)}\")\n",
        "\n",
        "df_cleaned = df.dropna(subset=['Comment Classification'])\n",
        "print(f\"Size after dropping NA: {len(df_cleaned)}\")\n",
        "\n",
        "# Transform multi-label to single label\n",
        "df_cleaned['SingleLabel'] = df_cleaned['Comment Classification'].apply(lambda x: x[0])\n",
        "\n",
        "# 保留在38个类别中的标签\n",
        "categories = [\n",
        "    \"Naming Conventions\", \"Code Style & Formatting\", \"Code Complexity\", \"Duplication\",\n",
        "    \"Using standard methods\", \"Moving Functionality\", \"Removing Dead Code\", \"Visibility\",\n",
        "    \"Depreciated Functions\", \"Inline Comments\", \"Documentation\", \"Logging\", \"Feature Completeness\",\n",
        "    \"Wrong Location\", \"Variable Initialisation\", \"Logic Error\", \"Comparison Statements\",\n",
        "    \"Function Parameters\", \"Function Calls\", \"Unvalidated Element\", \"Element Type\",\n",
        "    \"Issues with Outside Code\", \"Unhandled Errors/Exceptions\", \"Input Validation\",\n",
        "    \"Compatibility Issues\", \"Security Concerns\", \"Algorithmic Efficiency/Performance\",\n",
        "    \"Data & Resource Management\", \"Execution Time\", \"Network Usage\", \"Test Coverage\",\n",
        "    \"Test Cases\", \"Test Results\", \"Other Test related\", \"Social Communication\",\n",
        "    \"Knowledge Transfer\", \"Understanding\", \"Misc\"\n",
        "]\n",
        "\n",
        "# Filter based on the frequency of categories\n",
        "value_counts = df_cleaned['SingleLabel'].value_counts()\n",
        "categories_to_keep = value_counts[value_counts >= 5].index.tolist()\n",
        "\n",
        "df_cleaned = df_cleaned[df_cleaned['SingleLabel'].isin(categories_to_keep)]\n",
        "print(f\"Size after category filtering: {len(df_cleaned)}\")\n",
        "\n",
        "# Map the labels to their corresponding IDs\n",
        "categories = sorted(categories_to_keep)\n",
        "label_map = {label: i for i, label in enumerate(categories)}\n",
        "df_cleaned['SingleLabelID'] = df_cleaned['SingleLabel'].map(label_map)\n",
        "\n",
        "print(df_cleaned.shape)\n",
        "\n",
        "# Now, split the dataset\n",
        "if not df_cleaned.empty:\n",
        "    X_train_cleaned, X_test_cleaned, y_train_cleaned, y_test_cleaned = train_test_split(\n",
        "        df_cleaned['Comment Body'], df_cleaned['SingleLabelID'], test_size=0.2, random_state=42\n",
        "    )\n",
        "else:\n",
        "    print(\"Cannot split the dataset as it's empty!\")\n",
        "\n",
        "# 2. 使用BERT的tokenizer进行tokenization\n",
        "tokenizer = BertTokenizer.from_pretrained('bert-base-uncased', do_lower_case=True)\n",
        "\n",
        "def tokenize_data(texts, max_length=256):\n",
        "    input_ids = []\n",
        "    attention_masks = []\n",
        "    for text in texts:\n",
        "        encoded_dict = tokenizer.encode_plus(\n",
        "            text,\n",
        "            add_special_tokens=True,\n",
        "            max_length=max_length,\n",
        "            padding='max_length',\n",
        "            return_attention_mask=True,\n",
        "            return_tensors='pt',\n",
        "            truncation=True\n",
        "        )\n",
        "        input_ids.append(encoded_dict['input_ids'])\n",
        "        attention_masks.append(encoded_dict['attention_mask'])\n",
        "    input_ids = torch.cat(input_ids, dim=0)\n",
        "    attention_masks = torch.cat(attention_masks, dim=0)\n",
        "    return input_ids, attention_masks\n",
        "\n",
        "train_input_ids, train_attention_masks = tokenize_data(X_train_cleaned)\n",
        "test_input_ids, test_attention_masks = tokenize_data(X_test_cleaned)\n",
        "train_labels = torch.tensor(y_train_cleaned.values).long()\n",
        "test_labels = torch.tensor(y_test_cleaned.values).long()\n",
        "\n",
        "# 3. DataLoader Preparation\n",
        "train_dataset = TensorDataset(train_input_ids, train_attention_masks, train_labels)\n",
        "test_dataset = TensorDataset(test_input_ids, test_attention_masks, test_labels)\n",
        "train_dataloader = DataLoader(train_dataset, batch_size=16, shuffle=True)\n",
        "test_dataloader = DataLoader(test_dataset, batch_size=16, shuffle=False)\n",
        "\n",
        "# Define a custom BERT model\n",
        "class CustomBERTModel(nn.Module):\n",
        "    def __init__(self, num_labels):\n",
        "        super(CustomBERTModel, self).__init__()\n",
        "        self.bert = BertModel.from_pretrained('bert-base-uncased')\n",
        "        self.dropout = nn.Dropout(0.3)\n",
        "        self.classifier = nn.Linear(768, num_labels)\n",
        "\n",
        "    def forward(self, input_ids, attention_mask, labels=None):\n",
        "        outputs = self.bert(input_ids, attention_mask=attention_mask)\n",
        "        pooled_output = outputs[1]\n",
        "        pooled_output = self.dropout(pooled_output)\n",
        "        logits = self.classifier(pooled_output)\n",
        "        loss = None\n",
        "        if labels is not None:\n",
        "            loss_fct = nn.CrossEntropyLoss()\n",
        "            loss = loss_fct(logits.view(-1, self.classifier.out_features), labels.view(-1))\n",
        "        return loss, logits\n",
        "\n",
        "# Set device and move model to the device\n",
        "device = torch.device(\"cuda\" if torch.cuda.is_available() else \"cpu\")\n",
        "model = CustomBERTModel(num_labels=len(label_map))\n",
        "model.to(device)\n",
        "optimizer = AdamW(model.parameters(), lr=2e-5)\n",
        "\n",
        "# Learning rate scheduler\n",
        "epochs = 20\n",
        "scheduler = get_linear_schedule_with_warmup(optimizer, num_warmup_steps=0, num_training_steps=len(train_dataloader) * epochs)\n",
        "\n",
        "# Train the model\n",
        "train_accuracies = []\n",
        "test_accuracies = []  # Store test accuracies\n",
        "for epoch in range(epochs):\n",
        "    model.train()\n",
        "    total_loss = 0\n",
        "    predictions_train = []\n",
        "    true_labels_train = []\n",
        "    progress_bar = tqdm(train_dataloader, desc=f\"Epoch {epoch+1}\")\n",
        "    for batch in progress_bar:\n",
        "        input_ids = batch[0].to(device)\n",
        "        attention_mask = batch[1].to(device)\n",
        "        labels = batch[2].to(device)\n",
        "        model.zero_grad()\n",
        "        loss, logits = model(input_ids, attention_mask=attention_mask, labels=labels)\n",
        "        total_loss += loss.item()\n",
        "        loss.backward()\n",
        "        optimizer.step()\n",
        "        scheduler.step()\n",
        "        logits_train = logits.argmax(dim=1).detach().cpu().numpy()\n",
        "        predictions_train.extend(logits_train)\n",
        "        true_labels_train.extend(labels.cpu().numpy())\n",
        "        progress_bar.set_postfix({'loss': total_loss / (epoch + 1)})\n",
        "\n",
        "    train_accuracy = accuracy_score(true_labels_train, predictions_train)\n",
        "    train_accuracies.append(train_accuracy)\n",
        "\n",
        "    # Evaluate on the test set\n",
        "    model.eval()\n",
        "    predictions_test = []\n",
        "    true_labels_test = []\n",
        "    for batch in test_dataloader:\n",
        "        input_ids = batch[0].to(device)\n",
        "        attention_mask = batch[1].to(device)\n",
        "        labels = batch[2].to(device)\n",
        "        with torch.no_grad():\n",
        "            _, logits = model(input_ids, attention_mask=attention_mask)\n",
        "        logits_test = logits.argmax(dim=1).detach().cpu().numpy()\n",
        "        predictions_test.extend(logits_test)\n",
        "        true_labels_test.extend(labels.cpu().numpy())\n",
        "\n",
        "    test_accuracy = accuracy_score(true_labels_test, predictions_test)\n",
        "    test_accuracies.append(test_accuracy)\n",
        "    print(f\"Epoch {epoch+1} - Training loss: {total_loss/len(train_dataloader):.3f}, Training accuracy: {train_accuracy:.2f}, Test accuracy: {test_accuracy:.2f}\")\n",
        "\n",
        "# Plot training and test accuracies\n",
        "plt.figure(figsize=(10, 5))\n",
        "plt.plot(range(1, epochs + 1), train_accuracies, label=\"Training Accuracy\")\n",
        "plt.plot(range(1, epochs + 1), test_accuracies, label=\"Test Accuracy\", linestyle='--')\n",
        "plt.xlabel(\"Epochs\")\n",
        "plt.ylabel(\"Accuracy\")\n",
        "plt.title(\"Training and Test Accuracy across Epochs\")\n",
        "plt.legend()\n",
        "plt.show()"
      ]
    },
    {
      "cell_type": "code",
      "execution_count": null,
      "metadata": {
        "colab": {
          "base_uri": "https://localhost:8080/"
        },
        "id": "UfwdSzSHF5S3",
        "outputId": "1473be9d-1d61-423e-c3a9-67680c982a7c"
      },
      "outputs": [
        {
          "name": "stdout",
          "output_type": "stream",
          "text": [
            "(0, 8)\n"
          ]
        }
      ],
      "source": [
        "print(df_cleaned.shape)"
      ]
    },
    {
      "cell_type": "code",
      "execution_count": null,
      "metadata": {
        "colab": {
          "base_uri": "https://localhost:8080/"
        },
        "id": "FfuaQitYANBb",
        "outputId": "4b7d2941-a6a1-42ae-8ff3-1e41c9346ee7"
      },
      "outputs": [
        {
          "name": "stdout",
          "output_type": "stream",
          "text": [
            "{'R': 0, 'C': 1, 'V': 2, 'M': 3, 'K': 4, 'S': 5, 'U': 6, 'N': 7, 'L': 8, 'D': 9, 'I': 10, 'E': 11, 'F': 12, 'W': 13, 'O': 14, 'A': 15, 'T': 16}\n"
          ]
        }
      ],
      "source": [
        "print(label_map)\n"
      ]
    },
    {
      "cell_type": "code",
      "execution_count": null,
      "metadata": {
        "colab": {
          "base_uri": "https://localhost:8080/"
        },
        "id": "UyqaYHIrcA48",
        "outputId": "387116b6-d8ab-4e49-b93d-6d7bfb1df84e"
      },
      "outputs": [
        {
          "name": "stderr",
          "output_type": "stream",
          "text": [
            "/usr/local/lib/python3.10/dist-packages/transformers/optimization.py:411: FutureWarning: This implementation of AdamW is deprecated and will be removed in a future version. Use the PyTorch implementation torch.optim.AdamW instead, or set `no_deprecation_warning=True` to disable this warning\n",
            "  warnings.warn(\n",
            "Epoch 1: 100%|██████████| 46/46 [00:28<00:00,  1.60it/s, loss=120]\n"
          ]
        },
        {
          "name": "stdout",
          "output_type": "stream",
          "text": [
            "Epoch 1 - Training loss: 2.599, Training Accuracy: 0.18\n"
          ]
        },
        {
          "name": "stderr",
          "output_type": "stream",
          "text": [
            "Epoch 2: 100%|██████████| 46/46 [00:29<00:00,  1.55it/s, loss=54.1]\n"
          ]
        },
        {
          "name": "stdout",
          "output_type": "stream",
          "text": [
            "Epoch 2 - Training loss: 2.353, Training Accuracy: 0.28\n"
          ]
        },
        {
          "name": "stderr",
          "output_type": "stream",
          "text": [
            "Epoch 3: 100%|██████████| 46/46 [00:30<00:00,  1.52it/s, loss=33.4]\n"
          ]
        },
        {
          "name": "stdout",
          "output_type": "stream",
          "text": [
            "Epoch 3 - Training loss: 2.177, Training Accuracy: 0.32\n"
          ]
        },
        {
          "name": "stderr",
          "output_type": "stream",
          "text": [
            "Epoch 4: 100%|██████████| 46/46 [00:30<00:00,  1.53it/s, loss=23.2]\n"
          ]
        },
        {
          "name": "stdout",
          "output_type": "stream",
          "text": [
            "Epoch 4 - Training loss: 2.020, Training Accuracy: 0.42\n"
          ]
        },
        {
          "name": "stderr",
          "output_type": "stream",
          "text": [
            "Epoch 5: 100%|██████████| 46/46 [00:30<00:00,  1.53it/s, loss=16.6]\n"
          ]
        },
        {
          "name": "stdout",
          "output_type": "stream",
          "text": [
            "Epoch 5 - Training loss: 1.808, Training Accuracy: 0.51\n"
          ]
        },
        {
          "name": "stderr",
          "output_type": "stream",
          "text": [
            "Epoch 6: 100%|██████████| 46/46 [00:30<00:00,  1.52it/s, loss=12.2]\n"
          ]
        },
        {
          "name": "stdout",
          "output_type": "stream",
          "text": [
            "Epoch 6 - Training loss: 1.596, Training Accuracy: 0.57\n"
          ]
        },
        {
          "name": "stderr",
          "output_type": "stream",
          "text": [
            "Epoch 7: 100%|██████████| 46/46 [00:30<00:00,  1.53it/s, loss=9.34]\n"
          ]
        },
        {
          "name": "stdout",
          "output_type": "stream",
          "text": [
            "Epoch 7 - Training loss: 1.421, Training Accuracy: 0.64\n"
          ]
        },
        {
          "name": "stderr",
          "output_type": "stream",
          "text": [
            "Epoch 8: 100%|██████████| 46/46 [00:30<00:00,  1.48it/s, loss=7.4]\n"
          ]
        },
        {
          "name": "stdout",
          "output_type": "stream",
          "text": [
            "Epoch 8 - Training loss: 1.287, Training Accuracy: 0.68\n"
          ]
        },
        {
          "name": "stderr",
          "output_type": "stream",
          "text": [
            "Epoch 9: 100%|██████████| 46/46 [00:30<00:00,  1.52it/s, loss=6.22]\n"
          ]
        },
        {
          "name": "stdout",
          "output_type": "stream",
          "text": [
            "Epoch 9 - Training loss: 1.217, Training Accuracy: 0.70\n"
          ]
        },
        {
          "name": "stderr",
          "output_type": "stream",
          "text": [
            "Epoch 10: 100%|██████████| 46/46 [00:30<00:00,  1.52it/s, loss=5.24]\n"
          ]
        },
        {
          "name": "stdout",
          "output_type": "stream",
          "text": [
            "Epoch 10 - Training loss: 1.140, Training Accuracy: 0.73\n",
            "Classification Report:\n",
            "              precision    recall  f1-score   support\n",
            "\n",
            "           R       0.00      0.00      0.00         8\n",
            "           C       0.45      0.62      0.52        37\n",
            "           V       0.00      0.00      0.00         2\n",
            "           M       1.00      0.11      0.20         9\n",
            "           K       0.00      0.00      0.00         4\n",
            "           S       0.00      0.00      0.00         6\n",
            "           U       0.47      0.67      0.55        36\n",
            "           N       0.69      0.58      0.63        19\n",
            "           L       0.64      0.47      0.54        15\n",
            "           D       0.33      0.64      0.44        25\n",
            "           I       0.00      0.00      0.00         5\n",
            "           E       0.00      0.00      0.00         3\n",
            "           F       0.00      0.00      0.00         3\n",
            "           W       0.00      0.00      0.00         1\n",
            "           O       0.00      0.00      0.00         2\n",
            "           A       0.00      0.00      0.00         1\n",
            "           T       0.00      0.00      0.00         5\n",
            "\n",
            "    accuracy                           0.45       181\n",
            "   macro avg       0.21      0.18      0.17       181\n",
            "weighted avg       0.41      0.45      0.40       181\n",
            "\n",
            "Train Accuracy: 0.50\n",
            "Test Accuracy: 0.45\n"
          ]
        },
        {
          "name": "stderr",
          "output_type": "stream",
          "text": [
            "/usr/local/lib/python3.10/dist-packages/sklearn/metrics/_classification.py:1344: UndefinedMetricWarning: Precision and F-score are ill-defined and being set to 0.0 in labels with no predicted samples. Use `zero_division` parameter to control this behavior.\n",
            "  _warn_prf(average, modifier, msg_start, len(result))\n",
            "/usr/local/lib/python3.10/dist-packages/sklearn/metrics/_classification.py:1344: UndefinedMetricWarning: Precision and F-score are ill-defined and being set to 0.0 in labels with no predicted samples. Use `zero_division` parameter to control this behavior.\n",
            "  _warn_prf(average, modifier, msg_start, len(result))\n",
            "/usr/local/lib/python3.10/dist-packages/sklearn/metrics/_classification.py:1344: UndefinedMetricWarning: Precision and F-score are ill-defined and being set to 0.0 in labels with no predicted samples. Use `zero_division` parameter to control this behavior.\n",
            "  _warn_prf(average, modifier, msg_start, len(result))\n"
          ]
        }
      ],
      "source": [
        "import pandas as pd\n",
        "import numpy as np\n",
        "import torch\n",
        "import torch.nn as nn\n",
        "from sklearn.model_selection import train_test_split\n",
        "from sklearn.metrics import classification_report\n",
        "from torch.utils.data import DataLoader, TensorDataset\n",
        "from transformers import BertTokenizer, BertModel, AdamW, get_linear_schedule_with_warmup\n",
        "from tqdm import tqdm\n",
        "\n",
        "# 1. 数据加载\n",
        "df = pd.read_json(\"HAO_comment_classification.json\")\n",
        "df_cleaned = df.dropna(subset=['Comment Classification'])\n",
        "df_cleaned['SingleLabel'] = df_cleaned['Comment Classification'].apply(lambda x: x[0])\n",
        "\n",
        "label_map = {label: i for i, label in enumerate(df_cleaned['SingleLabel'].unique())}\n",
        "df_cleaned['SingleLabelID'] = df_cleaned['SingleLabel'].map(label_map)\n",
        "\n",
        "X_train_cleaned, X_test_cleaned, y_train_cleaned, y_test_cleaned = train_test_split(\n",
        "    df_cleaned['Comment Body'], df_cleaned['SingleLabelID'], test_size=0.2, random_state=42\n",
        ")\n",
        "\n",
        "# 2. 使用BERT的tokenizer进行tokenization\n",
        "tokenizer = BertTokenizer.from_pretrained('bert-base-uncased', do_lower_case=True)\n",
        "\n",
        "def tokenize_data(texts, max_length=256):\n",
        "    input_ids = []\n",
        "    attention_masks = []\n",
        "    for text in texts:\n",
        "        encoded_dict = tokenizer.encode_plus(\n",
        "            text,\n",
        "            add_special_tokens=True,\n",
        "            max_length=max_length,\n",
        "            padding='max_length',\n",
        "            return_attention_mask=True,\n",
        "            return_tensors='pt',\n",
        "            truncation=True\n",
        "        )\n",
        "        input_ids.append(encoded_dict['input_ids'])\n",
        "        attention_masks.append(encoded_dict['attention_mask'])\n",
        "    input_ids = torch.cat(input_ids, dim=0)\n",
        "    attention_masks = torch.cat(attention_masks, dim=0)\n",
        "    return input_ids, attention_masks\n",
        "\n",
        "train_input_ids, train_attention_masks = tokenize_data(X_train_cleaned)\n",
        "test_input_ids, test_attention_masks = tokenize_data(X_test_cleaned)\n",
        "train_labels = torch.tensor(y_train_cleaned.values).long()\n",
        "test_labels = torch.tensor(y_test_cleaned.values).long()\n",
        "\n",
        "# 3. DataLoader Preparation\n",
        "train_dataset = TensorDataset(train_input_ids, train_attention_masks, train_labels)\n",
        "test_dataset = TensorDataset(test_input_ids, test_attention_masks, test_labels)\n",
        "train_dataloader = DataLoader(train_dataset, batch_size=16, shuffle=True)\n",
        "test_dataloader = DataLoader(test_dataset, batch_size=16, shuffle=False)\n",
        "\n",
        "# 4. Custom Model Preparation with additional Fully Connected Layers\n",
        "class CustomBERTModel(nn.Module):\n",
        "    def __init__(self, num_labels):\n",
        "        super(CustomBERTModel, self).__init__()\n",
        "        self.bert = BertModel.from_pretrained('bert-base-uncased')\n",
        "        self.dropout = nn.Dropout(0.3)\n",
        "        self.classifier = nn.Linear(768, num_labels)\n",
        "\n",
        "    def forward(self, input_ids, attention_mask, labels=None):\n",
        "        outputs = self.bert(input_ids, attention_mask=attention_mask)\n",
        "        pooled_output = outputs[1]\n",
        "        pooled_output = self.dropout(pooled_output)\n",
        "        logits = self.classifier(pooled_output)\n",
        "\n",
        "        loss = None\n",
        "        if labels is not None:\n",
        "            loss_fct = nn.CrossEntropyLoss()\n",
        "            loss = loss_fct(logits.view(-1, self.classifier.out_features), labels.view(-1))\n",
        "        return loss, logits\n",
        "\n",
        "device = torch.device(\"cuda\" if torch.cuda.is_available() else \"cpu\")\n",
        "model = CustomBERTModel(num_labels=len(label_map))\n",
        "model.to(device)\n",
        "optimizer = AdamW(model.parameters(), lr=2e-5)\n",
        "\n",
        "# Add learning rate scheduler\n",
        "epochs = 10\n",
        "scheduler = get_linear_schedule_with_warmup(optimizer, num_warmup_steps=0, num_training_steps=len(train_dataloader) * epochs)\n",
        "\n",
        "# 5. Model Training\n",
        "train_accuracies = []\n",
        "test_accuracies = []\n",
        "for epoch in range(epochs):\n",
        "    model.train()\n",
        "    total_loss = 0\n",
        "    correct_train_preds = 0\n",
        "    total_train_preds = 0\n",
        "\n",
        "    progress_bar = tqdm(train_dataloader, desc=f\"Epoch {epoch+1}\")\n",
        "    for batch in progress_bar:\n",
        "        input_ids = batch[0].to(device)\n",
        "        attention_mask = batch[1].to(device)\n",
        "        labels = batch[2].to(device)\n",
        "\n",
        "        model.zero_grad()\n",
        "        loss, logits = model(input_ids, attention_mask=attention_mask, labels=labels)\n",
        "        total_loss += loss.item()\n",
        "\n",
        "        # Calculate training accuracy\n",
        "        preds = torch.argmax(logits, dim=1).flatten()\n",
        "        correct_train_preds += (preds == labels).cpu().numpy().sum()\n",
        "        total_train_preds += len(labels)\n",
        "\n",
        "        loss.backward()\n",
        "        optimizer.step()\n",
        "\n",
        "        # Update learning rate\n",
        "        scheduler.step()\n",
        "\n",
        "        progress_bar.set_postfix({'loss': total_loss / (epoch + 1)})\n",
        "\n",
        "    avg_train_loss = total_loss / len(train_dataloader)\n",
        "    train_accuracy = correct_train_preds / total_train_preds\n",
        "    train_accuracies.append(train_accuracy)\n",
        "    print(f\"Epoch {epoch+1} - Training loss: {avg_train_loss:.3f}, Training Accuracy: {train_accuracy:.2f}\")\n",
        "\n",
        "# 6. Model Evaluation\n",
        "model.eval()\n",
        "predictions = []\n",
        "correct_test_preds = 0\n",
        "total_test_preds = 0\n",
        "for batch in test_dataloader:\n",
        "    input_ids = batch[0].to(device)\n",
        "    attention_mask = batch[1].to(device)\n",
        "    labels = batch[2].to(device)\n",
        "\n",
        "    with torch.no_grad():\n",
        "        loss, logits = model(input_ids, attention_mask=attention_mask, labels=labels)\n",
        "    preds = torch.argmax(logits, dim=1).flatten()\n",
        "    predictions.extend(preds.cpu().numpy())\n",
        "    correct_test_preds += (preds == labels).cpu().numpy().sum()\n",
        "    total_test_preds += len(labels)\n",
        "\n",
        "test_accuracy = correct_test_preds / total_test_preds\n",
        "test_accuracies.append(test_accuracy)\n",
        "\n",
        "# 7. Compute Metrics\n",
        "true_labels_flat = y_test_cleaned.values\n",
        "print(\"Classification Report:\")\n",
        "print(classification_report(true_labels_flat, predictions, target_names=label_map.keys()))\n",
        "\n",
        "print(f\"Train Accuracy: {np.mean(train_accuracies):.2f}\")\n",
        "print(f\"Test Accuracy: {test_accuracy:.2f}\")"
      ]
    }
  ],
  "metadata": {
    "colab": {
      "provenance": [],
      "machine_shape": "hm",
      "gpuType": "A100",
      "mount_file_id": "13rwD5Y9yxOpyFba4Q7xg9zQRd41zt9Zu",
      "authorship_tag": "ABX9TyNn4oxV9WdT8D5mteKjstB9",
      "include_colab_link": true
    },
    "kernelspec": {
      "display_name": "Python 3",
      "name": "python3"
    },
    "language_info": {
      "name": "python"
    },
    "accelerator": "GPU"
  },
  "nbformat": 4,
  "nbformat_minor": 0
}