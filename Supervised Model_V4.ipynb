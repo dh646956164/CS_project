{
  "cells": [
    {
      "cell_type": "markdown",
      "metadata": {
        "id": "view-in-github",
        "colab_type": "text"
      },
      "source": [
        "<a href=\"https://colab.research.google.com/github/dh646956164/CS_project/blob/main/Supervised%20Model_V4.ipynb\" target=\"_parent\"><img src=\"https://colab.research.google.com/assets/colab-badge.svg\" alt=\"Open In Colab\"/></a>"
      ]
    },
    {
      "cell_type": "code",
      "source": [
        "# Logistic Regression Model\n",
        "import pandas as pd\n",
        "from sklearn.model_selection import train_test_split\n",
        "from sklearn.feature_extraction.text import TfidfVectorizer\n",
        "from sklearn.linear_model import LogisticRegression\n",
        "from sklearn.metrics import accuracy_score, classification_report\n",
        "\n",
        "# Load the newly uploaded file containing labeled training data\n",
        "file_path_with_labels = \"HAO_comment_classification.json\"\n",
        "data_with_labels = pd.read_json(file_path_with_labels)\n",
        "\n",
        "# Display the first few rows of the dataset to understand its structure\n",
        "data_with_labels.head()\n",
        "\n",
        "# Get the features and labels\n",
        "X = data_with_labels[\"Comment Body\"]\n",
        "y = data_with_labels[\"Comment Classification\"]\n",
        "\n",
        "# Split the data into training and test sets (80-20 split)\n",
        "X_train, X_test, y_train, y_test = train_test_split(X, y, test_size=0.2, random_state=358)\n",
        "\n",
        "# Display the size of the training and test sets\n",
        "X_train.shape, X_test.shape\n",
        "\n",
        "# Initialize the TF-IDF vectorizer\n",
        "tfidf_vectorizer = TfidfVectorizer()\n",
        "\n",
        "# Fit and transform the TF-IDF features on the training set\n",
        "X_train_tfidf = tfidf_vectorizer.fit_transform(X_train)\n",
        "\n",
        "# Transform the test set using the same vectorizer\n",
        "X_test_tfidf = tfidf_vectorizer.transform(X_test)\n",
        "\n",
        "# Display the shape of the transformed features\n",
        "X_train_tfidf.shape, X_test_tfidf.shape\n",
        "\n",
        "# Initialize the Logistic Regression model\n",
        "logreg_model = LogisticRegression(max_iter=10000, random_state=358)\n",
        "\n",
        "# Train the model\n",
        "logreg_model.fit(X_train_tfidf, y_train)\n",
        "\n",
        "# Make predictions on the training and test sets\n",
        "y_train_pred = logreg_model.predict(X_train_tfidf)\n",
        "y_test_pred = logreg_model.predict(X_test_tfidf)\n",
        "\n",
        "# Calculate accuracy on the training and test sets\n",
        "train_accuracy = accuracy_score(y_train, y_train_pred)\n",
        "test_accuracy = accuracy_score(y_test, y_test_pred)\n",
        "\n",
        "# Display the accuracy on the training and test sets\n",
        "train_accuracy, test_accuracy"
      ],
      "metadata": {
        "colab": {
          "base_uri": "https://localhost:8080/"
        },
        "id": "p7-qMSB8mgyn",
        "outputId": "ad9e7cb3-e27b-4da8-fb70-68333ebd862a"
      },
      "execution_count": 12,
      "outputs": [
        {
          "output_type": "execute_result",
          "data": {
            "text/plain": [
              "(0.627939142461964, 0.35911602209944754)"
            ]
          },
          "metadata": {},
          "execution_count": 12
        }
      ]
    },
    {
      "cell_type": "code",
      "source": [
        "report = classification_report(y_test, y_test_pred)\n",
        "print(report)"
      ],
      "metadata": {
        "id": "1wKYOUoueXsu",
        "outputId": "9182f628-95bc-4530-ca94-65e1ad4f8de1",
        "colab": {
          "base_uri": "https://localhost:8080/"
        }
      },
      "execution_count": 13,
      "outputs": [
        {
          "output_type": "stream",
          "name": "stdout",
          "text": [
            "                             precision    recall  f1-score   support\n",
            "\n",
            "            Code Complexity       0.25      0.06      0.10        17\n",
            "    Code Style & Formatting       0.35      0.86      0.50        21\n",
            "       Compatibility Issues       0.00      0.00      0.00         4\n",
            " Data & Resource Management       0.00      0.00      0.00         2\n",
            "      Depreciated Functions       0.00      0.00      0.00         1\n",
            "              Documentation       0.41      0.71      0.52        21\n",
            "                Duplication       0.00      0.00      0.00         2\n",
            "               Element Type       0.00      0.00      0.00         3\n",
            "             Execution Time       0.00      0.00      0.00         2\n",
            "       Feature Completeness       0.00      0.00      0.00         1\n",
            "        Function Parameters       0.00      0.00      0.00         1\n",
            "            Inline Comments       0.00      0.00      0.00         2\n",
            "           Input Validation       0.00      0.00      0.00         2\n",
            "   Issues with Outside Code       0.00      0.00      0.00         1\n",
            "         Knowledge Transfer       0.00      0.00      0.00         3\n",
            "                    Logging       1.00      0.25      0.40         4\n",
            "                Logic Error       0.00      0.00      0.00         8\n",
            "                       Misc       0.00      0.00      0.00         4\n",
            "       Moving Functionality       1.00      0.17      0.29         6\n",
            "         Naming Conventions       0.40      0.81      0.53        21\n",
            "         Other Test related       0.00      0.00      0.00         2\n",
            "         Removing Dead Code       0.00      0.00      0.00         7\n",
            "          Security Concerns       0.00      0.00      0.00         2\n",
            "       Social Communication       0.00      0.00      0.00         3\n",
            "                 Test Cases       0.00      0.00      0.00         2\n",
            "              Test Coverage       0.00      0.00      0.00         1\n",
            "              Understanding       0.22      0.40      0.29        20\n",
            "Unhandled Errors/Exceptions       1.00      0.17      0.29         6\n",
            "        Unvalidated Element       0.00      0.00      0.00         2\n",
            "     Using standard methods       0.33      0.40      0.36         5\n",
            "                 Visibility       1.00      0.20      0.33         5\n",
            "\n",
            "                   accuracy                           0.36       181\n",
            "                  macro avg       0.19      0.13      0.12       181\n",
            "               weighted avg       0.31      0.36      0.27       181\n",
            "\n"
          ]
        },
        {
          "output_type": "stream",
          "name": "stderr",
          "text": [
            "/usr/local/lib/python3.10/dist-packages/sklearn/metrics/_classification.py:1344: UndefinedMetricWarning: Precision and F-score are ill-defined and being set to 0.0 in labels with no predicted samples. Use `zero_division` parameter to control this behavior.\n",
            "  _warn_prf(average, modifier, msg_start, len(result))\n",
            "/usr/local/lib/python3.10/dist-packages/sklearn/metrics/_classification.py:1344: UndefinedMetricWarning: Precision and F-score are ill-defined and being set to 0.0 in labels with no predicted samples. Use `zero_division` parameter to control this behavior.\n",
            "  _warn_prf(average, modifier, msg_start, len(result))\n",
            "/usr/local/lib/python3.10/dist-packages/sklearn/metrics/_classification.py:1344: UndefinedMetricWarning: Precision and F-score are ill-defined and being set to 0.0 in labels with no predicted samples. Use `zero_division` parameter to control this behavior.\n",
            "  _warn_prf(average, modifier, msg_start, len(result))\n"
          ]
        }
      ]
    },
    {
      "cell_type": "code",
      "source": [
        "# Random Forest Model\n",
        "import pandas as pd\n",
        "from sklearn.feature_extraction.text import TfidfVectorizer\n",
        "from sklearn.ensemble import RandomForestClassifier\n",
        "\n",
        "# Load the newly uploaded file containing labeled training data\n",
        "file_path_with_labels = \"HAO_comment_classification.json\"\n",
        "data_with_labels = pd.read_json(file_path_with_labels)\n",
        "\n",
        "# Display the first few rows of the dataset to understand its structure\n",
        "data_with_labels.head()\n",
        "\n",
        "from sklearn.model_selection import train_test_split\n",
        "\n",
        "# Get the features and labels\n",
        "X = data_with_labels[\"Comment Body\"]\n",
        "y = data_with_labels[\"Comment Classification\"]\n",
        "\n",
        "# Split the data into training and test sets (80-20 split)\n",
        "X_train, X_test, y_train, y_test = train_test_split(X, y, test_size=0.2, random_state=188)\n",
        "\n",
        "# Display the size of the training and test sets\n",
        "X_train.shape, X_test.shape\n",
        "\n",
        "# Initialize the TF-IDF vectorizer\n",
        "tfidf_vectorizer = TfidfVectorizer()\n",
        "\n",
        "# Fit and transform the TF-IDF features on the training set\n",
        "X_train_tfidf = tfidf_vectorizer.fit_transform(X_train)\n",
        "\n",
        "# Transform the test set using the same vectorizer\n",
        "X_test_tfidf = tfidf_vectorizer.transform(X_test)\n",
        "\n",
        "# Display the shape of the transformed features\n",
        "X_train_tfidf.shape, X_test_tfidf.shape\n",
        "\n",
        "# Initialize the Random Forest model\n",
        "random_forest_model = RandomForestClassifier(random_state=188)\n",
        "\n",
        "# Train the model\n",
        "random_forest_model.fit(X_train_tfidf, y_train)\n",
        "\n",
        "# Make predictions on the training and test sets\n",
        "y_train_rf_pred = random_forest_model.predict(X_train_tfidf)\n",
        "y_test_rf_pred = random_forest_model.predict(X_test_tfidf)\n",
        "\n",
        "# Calculate accuracy on the training and test sets\n",
        "from sklearn.metrics import accuracy_score # Note: Include this import at the top of the code\n",
        "train_rf_accuracy = accuracy_score(y_train, y_train_rf_pred)\n",
        "test_rf_accuracy = accuracy_score(y_test, y_test_rf_pred)\n",
        "\n",
        "train_rf_accuracy, test_rf_accuracy\n"
      ],
      "metadata": {
        "colab": {
          "base_uri": "https://localhost:8080/"
        },
        "id": "qf1gJWP4mh8i",
        "outputId": "2cb4bc44-b3d7-41d1-a99c-6b7fec3c627b"
      },
      "execution_count": 14,
      "outputs": [
        {
          "output_type": "execute_result",
          "data": {
            "text/plain": [
              "(0.9930843706777317, 0.4419889502762431)"
            ]
          },
          "metadata": {},
          "execution_count": 14
        }
      ]
    },
    {
      "cell_type": "code",
      "source": [
        "report = classification_report(y_test, y_test_pred)\n",
        "print(report)"
      ],
      "metadata": {
        "id": "DhZO0KfJeb9i",
        "outputId": "8f612d01-0959-4f85-fd99-831ee56bf9f9",
        "colab": {
          "base_uri": "https://localhost:8080/"
        }
      },
      "execution_count": 15,
      "outputs": [
        {
          "output_type": "stream",
          "name": "stdout",
          "text": [
            "                                    precision    recall  f1-score   support\n",
            "\n",
            "Algorithmic Efficiency/Performance       0.00      0.00      0.00         2\n",
            "                   Code Complexity       0.00      0.00      0.00        20\n",
            "           Code Style & Formatting       0.12      0.30      0.17        20\n",
            "              Compatibility Issues       0.00      0.00      0.00         1\n",
            "             Depreciated Functions       0.00      0.00      0.00         1\n",
            "                     Documentation       0.27      0.43      0.33        23\n",
            "                       Duplication       0.00      0.00      0.00         2\n",
            "                      Element Type       0.00      0.00      0.00         2\n",
            "              Feature Completeness       0.00      0.00      0.00         2\n",
            "                    Function Calls       0.00      0.00      0.00         1\n",
            "               Function Parameters       0.00      0.00      0.00         1\n",
            "                   Inline Comments       0.00      0.00      0.00         3\n",
            "                  Input Validation       0.00      0.00      0.00         2\n",
            "                Knowledge Transfer       0.00      0.00      0.00         8\n",
            "                           Logging       0.00      0.00      0.00         7\n",
            "                       Logic Error       0.00      0.00      0.00         6\n",
            "                              Misc       0.00      0.00      0.00         4\n",
            "              Moving Functionality       0.00      0.00      0.00         6\n",
            "                Naming Conventions       0.19      0.31      0.23        26\n",
            "                Other Test related       0.00      0.00      0.00         2\n",
            "                Removing Dead Code       0.00      0.00      0.00         7\n",
            "                 Security Concerns       0.00      0.00      0.00         2\n",
            "              Social Communication       0.00      0.00      0.00         3\n",
            "                        Test Cases       0.00      0.00      0.00         1\n",
            "                     Test Coverage       0.00      0.00      0.00         1\n",
            "                     Understanding       0.14      0.38      0.20        13\n",
            "       Unhandled Errors/Exceptions       0.00      0.00      0.00         2\n",
            "               Unvalidated Element       0.00      0.00      0.00         1\n",
            "            Using standard methods       0.00      0.00      0.00         8\n",
            "                        Visibility       0.00      0.00      0.00         4\n",
            "\n",
            "                          accuracy                           0.16       181\n",
            "                         macro avg       0.02      0.05      0.03       181\n",
            "                      weighted avg       0.08      0.16      0.11       181\n",
            "\n"
          ]
        },
        {
          "output_type": "stream",
          "name": "stderr",
          "text": [
            "/usr/local/lib/python3.10/dist-packages/sklearn/metrics/_classification.py:1344: UndefinedMetricWarning: Precision and F-score are ill-defined and being set to 0.0 in labels with no predicted samples. Use `zero_division` parameter to control this behavior.\n",
            "  _warn_prf(average, modifier, msg_start, len(result))\n",
            "/usr/local/lib/python3.10/dist-packages/sklearn/metrics/_classification.py:1344: UndefinedMetricWarning: Precision and F-score are ill-defined and being set to 0.0 in labels with no predicted samples. Use `zero_division` parameter to control this behavior.\n",
            "  _warn_prf(average, modifier, msg_start, len(result))\n",
            "/usr/local/lib/python3.10/dist-packages/sklearn/metrics/_classification.py:1344: UndefinedMetricWarning: Precision and F-score are ill-defined and being set to 0.0 in labels with no predicted samples. Use `zero_division` parameter to control this behavior.\n",
            "  _warn_prf(average, modifier, msg_start, len(result))\n"
          ]
        }
      ]
    },
    {
      "cell_type": "code",
      "source": [
        "# Support Vector Machine (SVM) Model\n",
        "import pandas as pd\n",
        "from sklearn.feature_extraction.text import TfidfVectorizer\n",
        "from sklearn.svm import SVC\n",
        "\n",
        "# Load the newly uploaded file containing labeled training data\n",
        "file_path_with_labels = \"HAO_comment_classification.json\"\n",
        "data_with_labels = pd.read_json(file_path_with_labels)\n",
        "\n",
        "# Display the first few rows of the dataset to understand its structure\n",
        "data_with_labels.head()\n",
        "\n",
        "from sklearn.model_selection import train_test_split\n",
        "\n",
        "# Get the features and labels\n",
        "X = data_with_labels[\"Comment Body\"]\n",
        "y = data_with_labels[\"Comment Classification\"]\n",
        "\n",
        "# Split the data into training and test sets (80-20 split)\n",
        "X_train, X_test, y_train, y_test = train_test_split(X, y, test_size=0.2, random_state=196)\n",
        "\n",
        "# Display the size of the training and test sets\n",
        "X_train.shape, X_test.shape\n",
        "\n",
        "# Initialize the TF-IDF vectorizer\n",
        "tfidf_vectorizer = TfidfVectorizer()\n",
        "\n",
        "# Fit and transform the TF-IDF features on the training set\n",
        "X_train_tfidf = tfidf_vectorizer.fit_transform(X_train)\n",
        "\n",
        "# Transform the test set using the same vectorizer\n",
        "X_test_tfidf = tfidf_vectorizer.transform(X_test)\n",
        "\n",
        "# Display the shape of the transformed features\n",
        "X_train_tfidf.shape, X_test_tfidf.shape\n",
        "\n",
        "# Initialize the Support Vector Machine model\n",
        "svm_model = SVC(random_state=196)\n",
        "\n",
        "# Train the model\n",
        "svm_model.fit(X_train_tfidf, y_train)\n",
        "\n",
        "# Make predictions on the training and test sets\n",
        "y_train_svm_pred = svm_model.predict(X_train_tfidf)\n",
        "y_test_svm_pred = svm_model.predict(X_test_tfidf)\n",
        "\n",
        "# Calculate accuracy on the training and test sets\n",
        "from sklearn.metrics import accuracy_score # Note: This import was missing in the original code\n",
        "train_svm_accuracy = accuracy_score(y_train, y_train_svm_pred)\n",
        "test_svm_accuracy = accuracy_score(y_test, y_test_svm_pred)\n",
        "\n",
        "train_svm_accuracy, test_svm_accuracy\n"
      ],
      "metadata": {
        "colab": {
          "base_uri": "https://localhost:8080/"
        },
        "id": "SKfuhAeSmiXr",
        "outputId": "f56412d9-0e09-4d97-aa24-2e238ea9cb45"
      },
      "execution_count": 16,
      "outputs": [
        {
          "output_type": "execute_result",
          "data": {
            "text/plain": [
              "(0.8879668049792531, 0.34806629834254144)"
            ]
          },
          "metadata": {},
          "execution_count": 16
        }
      ]
    },
    {
      "cell_type": "code",
      "source": [
        "report = classification_report(y_test, y_test_pred)\n",
        "print(report)"
      ],
      "metadata": {
        "id": "UpjZSebMeiPq",
        "outputId": "ffa356fe-3cbf-447c-b52a-5d4a554ebac9",
        "colab": {
          "base_uri": "https://localhost:8080/"
        }
      },
      "execution_count": 17,
      "outputs": [
        {
          "output_type": "stream",
          "name": "stdout",
          "text": [
            "                                                          precision    recall  f1-score   support\n",
            "\n",
            "                      Algorithmic Efficiency/Performance       0.00      0.00      0.00         1\n",
            "                                         Code Complexity       0.00      0.00      0.00        16\n",
            "                                 Code Style & Formatting       0.12      0.27      0.16        22\n",
            "                                    Compatibility Issues       0.00      0.00      0.00         2\n",
            "                              Data & Resource Management       0.00      0.00      0.00         2\n",
            "                                           Documentation       0.22      0.32      0.26        25\n",
            "                                             Duplication       0.00      0.00      0.00         2\n",
            "                                            Element Type       0.00      0.00      0.00         6\n",
            "                                          Execution Time       0.00      0.00      0.00         1\n",
            "                                    Feature Completeness       0.00      0.00      0.00         3\n",
            "                                     Function Parameters       0.00      0.00      0.00         3\n",
            "Function Parameters, Knowledge Transfer, Code Complexity       0.00      0.00      0.00         1\n",
            "                                         Inline Comments       0.00      0.00      0.00         5\n",
            "                                        Input Validation       0.00      0.00      0.00         1\n",
            "                                      Knowledge Transfer       0.00      0.00      0.00         2\n",
            "                                                 Logging       0.00      0.00      0.00         4\n",
            "                                             Logic Error       0.00      0.00      0.00         8\n",
            "                             Logic Error, Wrong Location       0.00      0.00      0.00         1\n",
            "                                                    Misc       0.00      0.00      0.00         4\n",
            "                                    Moving Functionality       0.00      0.00      0.00         5\n",
            "                                      Naming Conventions       0.14      0.29      0.19        21\n",
            "                                      Other Test related       0.00      0.00      0.00         3\n",
            "                                      Removing Dead Code       0.00      0.00      0.00         4\n",
            "                                       Security Concerns       0.00      0.00      0.00         2\n",
            "                                    Social Communication       0.00      0.00      0.00         6\n",
            "                                           Test Coverage       0.00      0.00      0.00         1\n",
            "                                           Understanding       0.11      0.25      0.15        16\n",
            "                             Unhandled Errors/Exceptions       0.00      0.00      0.00         3\n",
            "                                     Unvalidated Element       0.00      0.00      0.00         1\n",
            "                                  Using standard methods       0.17      0.11      0.13         9\n",
            "                                 Variable Initialisation       0.00      0.00      0.00         1\n",
            "                                              Visibility       0.00      0.00      0.00         0\n",
            "\n",
            "                                                accuracy                           0.14       181\n",
            "                                               macro avg       0.02      0.04      0.03       181\n",
            "                                            weighted avg       0.08      0.14      0.10       181\n",
            "\n"
          ]
        },
        {
          "output_type": "stream",
          "name": "stderr",
          "text": [
            "/usr/local/lib/python3.10/dist-packages/sklearn/metrics/_classification.py:1344: UndefinedMetricWarning: Precision and F-score are ill-defined and being set to 0.0 in labels with no predicted samples. Use `zero_division` parameter to control this behavior.\n",
            "  _warn_prf(average, modifier, msg_start, len(result))\n",
            "/usr/local/lib/python3.10/dist-packages/sklearn/metrics/_classification.py:1344: UndefinedMetricWarning: Recall and F-score are ill-defined and being set to 0.0 in labels with no true samples. Use `zero_division` parameter to control this behavior.\n",
            "  _warn_prf(average, modifier, msg_start, len(result))\n",
            "/usr/local/lib/python3.10/dist-packages/sklearn/metrics/_classification.py:1344: UndefinedMetricWarning: Precision and F-score are ill-defined and being set to 0.0 in labels with no predicted samples. Use `zero_division` parameter to control this behavior.\n",
            "  _warn_prf(average, modifier, msg_start, len(result))\n",
            "/usr/local/lib/python3.10/dist-packages/sklearn/metrics/_classification.py:1344: UndefinedMetricWarning: Recall and F-score are ill-defined and being set to 0.0 in labels with no true samples. Use `zero_division` parameter to control this behavior.\n",
            "  _warn_prf(average, modifier, msg_start, len(result))\n",
            "/usr/local/lib/python3.10/dist-packages/sklearn/metrics/_classification.py:1344: UndefinedMetricWarning: Precision and F-score are ill-defined and being set to 0.0 in labels with no predicted samples. Use `zero_division` parameter to control this behavior.\n",
            "  _warn_prf(average, modifier, msg_start, len(result))\n",
            "/usr/local/lib/python3.10/dist-packages/sklearn/metrics/_classification.py:1344: UndefinedMetricWarning: Recall and F-score are ill-defined and being set to 0.0 in labels with no true samples. Use `zero_division` parameter to control this behavior.\n",
            "  _warn_prf(average, modifier, msg_start, len(result))\n"
          ]
        }
      ]
    },
    {
      "cell_type": "code",
      "source": [
        "# BERT (Bidirectional Encoder Representations from Transformers) Model\n",
        "import os\n",
        "import itertools\n",
        "import pandas as pd\n",
        "import numpy as np\n",
        "from sklearn.model_selection import train_test_split\n",
        "from transformers import BertTokenizer, BertModel, AdamW, get_linear_schedule_with_warmup\n",
        "import torch\n",
        "from torch.utils.data import DataLoader, TensorDataset\n",
        "import torch.nn as nn\n",
        "from sklearn.metrics import classification_report, accuracy_score\n",
        "import matplotlib.pyplot as plt\n",
        "from tqdm import tqdm\n",
        "\n",
        "# Setting an environment variable\n",
        "os.environ['CUDA_LAUNCH_BLOCKING'] = \"1\"\n",
        "\n",
        "# 1. Load data\n",
        "df = pd.read_json(\"HAO_comment_classification.json\")\n",
        "\n",
        "# Cleaning the data\n",
        "df_cleaned = df.dropna(subset=['Comment Classification'])\n",
        "df_cleaned['SingleLabel'] = df_cleaned['Comment Classification'].apply(lambda x: x[0])\n",
        "\n",
        "# 2. Manually specified 35 target categories\n",
        "df['SingleLabel'] = df['Comment Classification'].apply(lambda x: x[0] if isinstance(x, list) and x else None)\n",
        "\n",
        "# 2. 手工指定的35个目标类别\n",
        "target_categories = [\n",
        "    \"Removing Dead Code\", \"Code Complexity\", \"Code Style & Formatting\", \"Visibility\", \"Moving Functionality\",\n",
        "    \"Knowledge Transfer\", \"Security Concerns\", \"Using standard methods\", \"Naming Conventions\", \"Logic Error\",\n",
        "    \"Documentation\", \"Understanding\", \"Unvalidated Element\", \"Duplication\", \"Misc\", \"Inline Comments\",\n",
        "    \"Social Communication\", \"Element Type\", \"Depreciated Functions\", \"Feature Completeness\",\n",
        "    \"Unhandled Errors/Exceptions\", \"Wrong Location\", \"Function Parameters\", \"Other Test related\",\n",
        "    \"Compatibility Issues\", \"Algorithmic Efficiency/Performance\", \"Logging\", \"Test Cases\", \"Test Coverage\",\n",
        "    \"Variable Initialisation\", \"Function Calls\", \"Data & Resource Management\", \"Input Validation\",\n",
        "    \"Issues with Outside Code\", \"Execution Time\"\n",
        "]\n",
        "\n",
        "# Filtering the rows to only include target categories\n",
        "df_cleaned = df[df['SingleLabel'].isin(target_categories)]\n",
        "\n",
        "# Create a mapping from target categories to their respective IDs\n",
        "label_map = {label: i for i, label in enumerate(target_categories)}\n",
        "df['LabelID'] = df['Comment Classification'].map(label_map)\n",
        "\n",
        "# Keep only the rows containing the target category\n",
        "df_cleaned = df.dropna(subset=['LabelID'])\n",
        "\n",
        "print(f\"Size after category filtering: {len(df_cleaned)}\")\n",
        "\n",
        "# Split the dataset into training and testing sets\n",
        "X_train_cleaned, X_test_cleaned, y_train_cleaned, y_test_cleaned = train_test_split(\n",
        "    df_cleaned['Comment Body'], df_cleaned['LabelID'], test_size=0.2, random_state=42\n",
        ")\n",
        "\n",
        "\n",
        "\n",
        "# Tokenization using BERT's tokenizer\n",
        "tokenizer = BertTokenizer.from_pretrained('bert-base-uncased', do_lower_case=True)\n",
        "\n",
        "def tokenize_data(texts, max_length=256):\n",
        "    input_ids = []\n",
        "    attention_masks = []\n",
        "    for text in texts:\n",
        "        encoded_dict = tokenizer.encode_plus(\n",
        "            text,\n",
        "            add_special_tokens=True,\n",
        "            max_length=max_length,\n",
        "            padding='max_length',\n",
        "            return_attention_mask=True,\n",
        "            return_tensors='pt',\n",
        "            truncation=True\n",
        "        )\n",
        "        input_ids.append(encoded_dict['input_ids'])\n",
        "        attention_masks.append(encoded_dict['attention_mask'])\n",
        "    input_ids = torch.cat(input_ids, dim=0)\n",
        "    attention_masks = torch.cat(attention_masks, dim=0)\n",
        "    return input_ids, attention_masks\n",
        "\n",
        "train_input_ids, train_attention_masks = tokenize_data(X_train_cleaned)\n",
        "test_input_ids, test_attention_masks = tokenize_data(X_test_cleaned)\n",
        "train_labels = torch.tensor(y_train_cleaned.values).long()\n",
        "test_labels = torch.tensor(y_test_cleaned.values).long()\n",
        "\n",
        "# Preparing DataLoaders\n",
        "train_dataset = TensorDataset(train_input_ids, train_attention_masks, train_labels)\n",
        "test_dataset = TensorDataset(test_input_ids, test_attention_masks, test_labels)\n",
        "train_dataloader = DataLoader(train_dataset, batch_size=16, shuffle=True)\n",
        "test_dataloader = DataLoader(test_dataset, batch_size=16, shuffle=False)\n",
        "\n",
        "# Define the model structure\n",
        "class CustomBERTModel(nn.Module):\n",
        "    def __init__(self, num_labels=len(label_map)):\n",
        "        super(CustomBERTModel, self).__init__()\n",
        "        self.bert = BertModel.from_pretrained('bert-base-uncased')\n",
        "        self.dropout = nn.Dropout(0.3)\n",
        "        self.classifier = nn.Linear(768, num_labels)\n",
        "\n",
        "    def forward(self, input_ids, attention_mask, labels=None):\n",
        "        outputs = self.bert(input_ids, attention_mask=attention_mask)\n",
        "        pooled_output = outputs[1]\n",
        "        pooled_output = self.dropout(pooled_output)\n",
        "        logits = self.classifier(pooled_output)\n",
        "        loss = None\n",
        "        if labels is not None:\n",
        "            loss_fct = nn.CrossEntropyLoss()\n",
        "            loss = loss_fct(logits.view(-1, self.classifier.out_features), labels.view(-1))\n",
        "        return loss, logits\n",
        "\n",
        "# Set device and model parameters\n",
        "device = torch.device(\"cuda\" if torch.cuda.is_available() else \"cpu\")\n",
        "model = CustomBERTModel()\n",
        "model.to(device)\n",
        "optimizer = AdamW(model.parameters(), lr=2e-5)\n",
        "\n",
        "# Learning rate scheduler\n",
        "epochs = 500\n",
        "scheduler = get_linear_schedule_with_warmup(optimizer, num_warmup_steps=0, num_training_steps=len(train_dataloader) * epochs)\n",
        "\n",
        "train_accuracies = []\n",
        "test_accuracies = []\n",
        "\n",
        "# Training loop\n",
        "for epoch in range(epochs):\n",
        "    model.train()\n",
        "    total_loss = 0\n",
        "    predictions_train = []\n",
        "    true_labels_train = []\n",
        "    progress_bar = tqdm(train_dataloader, desc=f\"Epoch {epoch+1}\")\n",
        "    for batch in progress_bar:\n",
        "        input_ids = batch[0].to(device)\n",
        "        attention_mask = batch[1].to(device)\n",
        "        labels = batch[2].to(device)\n",
        "        model.zero_grad()\n",
        "        loss, logits = model(input_ids, attention_mask=attention_mask, labels=labels)\n",
        "        total_loss += loss.item()\n",
        "        loss.backward()\n",
        "        optimizer.step()\n",
        "        scheduler.step()\n",
        "        logits_train = logits.argmax(dim=1).detach().cpu().numpy()\n",
        "        predictions_train.extend(logits_train)\n",
        "        true_labels_train.extend(labels.cpu().numpy())\n",
        "        progress_bar.set_postfix({'loss': total_loss / (epoch + 1)})\n",
        "\n",
        "    train_accuracy = accuracy_score(true_labels_train, predictions_train)\n",
        "    train_accuracies.append(train_accuracy)\n",
        "\n",
        "    # Evaluate on test set\n",
        "    model.eval()\n",
        "    predictions_test = []\n",
        "    true_labels_test = []\n",
        "    for batch in test_dataloader:\n",
        "        input_ids = batch[0].to(device)\n",
        "        attention_mask = batch[1].to(device)\n",
        "        labels = batch[2].to(device)\n",
        "        with torch.no_grad():\n",
        "            _, logits = model(input_ids, attention_mask=attention_mask)\n",
        "        logits_test = logits.argmax(dim=1).detach().cpu().numpy()\n",
        "        predictions_test.extend(logits_test)\n",
        "        true_labels_test.extend(labels.cpu().numpy())\n",
        "\n",
        "    test_accuracy = accuracy_score(true_labels_test, predictions_test)\n",
        "    test_accuracies.append(test_accuracy)\n",
        "    print(f\"Epoch {epoch+1} - Training loss: {total_loss/len(train_dataloader):.3f}, Training accuracy: {train_accuracy:.2f}, Test accuracy: {test_accuracy:.2f}\")\n",
        "\n",
        "# Plot training and test accuracies\n",
        "plt.figure(figsize=(10, 5))\n",
        "plt.plot(range(1, epochs + 1), train_accuracies, label=\"Training Accuracy\")\n",
        "plt.plot(range(1, epochs + 1), test_accuracies, label=\"Test Accuracy\", linestyle='--')\n",
        "plt.xlabel(\"Epochs\")\n",
        "plt.ylabel(\"Accuracy\")\n",
        "plt.title(\"Training and Test Accuracy across Epochs\")\n",
        "plt.legend()\n",
        "plt.show()"
      ],
      "metadata": {
        "id": "TX8JidJ7DA0D",
        "outputId": "0e56cea8-2691-4d32-dc4c-d7e187c56a87",
        "colab": {
          "base_uri": "https://localhost:8080/",
          "height": 1000
        }
      },
      "execution_count": 22,
      "outputs": [
        {
          "metadata": {
            "tags": null
          },
          "name": "stdout",
          "output_type": "stream",
          "text": [
            "Size after category filtering: 898\n"
          ]
        },
        {
          "metadata": {
            "tags": null
          },
          "name": "stderr",
          "output_type": "stream",
          "text": [
            "/usr/local/lib/python3.10/dist-packages/transformers/optimization.py:411: FutureWarning: This implementation of AdamW is deprecated and will be removed in a future version. Use the PyTorch implementation torch.optim.AdamW instead, or set `no_deprecation_warning=True` to disable this warning\n",
            "  warnings.warn(\n",
            "Epoch 1: 100%|██████████| 45/45 [00:33<00:00,  1.34it/s, loss=152]\n"
          ]
        },
        {
          "metadata": {
            "tags": null
          },
          "name": "stdout",
          "output_type": "stream",
          "text": [
            "Epoch 1 - Training loss: 3.376, Training accuracy: 0.10, Test accuracy: 0.12\n"
          ]
        },
        {
          "metadata": {
            "tags": null
          },
          "name": "stderr",
          "output_type": "stream",
          "text": [
            "Epoch 2: 100%|██████████| 45/45 [00:30<00:00,  1.45it/s, loss=68.5]\n"
          ]
        },
        {
          "metadata": {
            "tags": null
          },
          "name": "stdout",
          "output_type": "stream",
          "text": [
            "Epoch 2 - Training loss: 3.045, Training accuracy: 0.17, Test accuracy: 0.23\n"
          ]
        },
        {
          "metadata": {
            "tags": null
          },
          "name": "stderr",
          "output_type": "stream",
          "text": [
            "Epoch 3: 100%|██████████| 45/45 [00:32<00:00,  1.37it/s, loss=41.5]\n"
          ]
        },
        {
          "metadata": {
            "tags": null
          },
          "name": "stdout",
          "output_type": "stream",
          "text": [
            "Epoch 3 - Training loss: 2.766, Training accuracy: 0.30, Test accuracy: 0.25\n"
          ]
        },
        {
          "metadata": {
            "tags": null
          },
          "name": "stderr",
          "output_type": "stream",
          "text": [
            "Epoch 4: 100%|██████████| 45/45 [00:31<00:00,  1.44it/s, loss=28.1]\n"
          ]
        },
        {
          "metadata": {
            "tags": null
          },
          "name": "stdout",
          "output_type": "stream",
          "text": [
            "Epoch 4 - Training loss: 2.495, Training accuracy: 0.38, Test accuracy: 0.33\n"
          ]
        },
        {
          "metadata": {
            "tags": null
          },
          "name": "stderr",
          "output_type": "stream",
          "text": [
            "Epoch 5: 100%|██████████| 45/45 [00:30<00:00,  1.45it/s, loss=19.7]\n"
          ]
        },
        {
          "metadata": {
            "tags": null
          },
          "name": "stdout",
          "output_type": "stream",
          "text": [
            "Epoch 5 - Training loss: 2.187, Training accuracy: 0.45, Test accuracy: 0.33\n"
          ]
        },
        {
          "metadata": {
            "tags": null
          },
          "name": "stderr",
          "output_type": "stream",
          "text": [
            "Epoch 6: 100%|██████████| 45/45 [00:30<00:00,  1.45it/s, loss=13.9]\n"
          ]
        },
        {
          "metadata": {
            "tags": null
          },
          "name": "stdout",
          "output_type": "stream",
          "text": [
            "Epoch 6 - Training loss: 1.855, Training accuracy: 0.54, Test accuracy: 0.34\n"
          ]
        },
        {
          "metadata": {
            "tags": null
          },
          "name": "stderr",
          "output_type": "stream",
          "text": [
            "Epoch 7: 100%|██████████| 45/45 [00:31<00:00,  1.45it/s, loss=10]\n"
          ]
        },
        {
          "metadata": {
            "tags": null
          },
          "name": "stdout",
          "output_type": "stream",
          "text": [
            "Epoch 7 - Training loss: 1.561, Training accuracy: 0.61, Test accuracy: 0.36\n"
          ]
        },
        {
          "metadata": {
            "tags": null
          },
          "name": "stderr",
          "output_type": "stream",
          "text": [
            "Epoch 8: 100%|██████████| 45/45 [00:31<00:00,  1.44it/s, loss=7.43]\n"
          ]
        },
        {
          "metadata": {
            "tags": null
          },
          "name": "stdout",
          "output_type": "stream",
          "text": [
            "Epoch 8 - Training loss: 1.320, Training accuracy: 0.67, Test accuracy: 0.35\n"
          ]
        },
        {
          "metadata": {
            "tags": null
          },
          "name": "stderr",
          "output_type": "stream",
          "text": [
            "Epoch 9: 100%|██████████| 45/45 [00:31<00:00,  1.45it/s, loss=5.6]\n"
          ]
        },
        {
          "metadata": {
            "tags": null
          },
          "name": "stdout",
          "output_type": "stream",
          "text": [
            "Epoch 9 - Training loss: 1.120, Training accuracy: 0.76, Test accuracy: 0.37\n"
          ]
        },
        {
          "metadata": {
            "tags": null
          },
          "name": "stderr",
          "output_type": "stream",
          "text": [
            "Epoch 10: 100%|██████████| 45/45 [00:30<00:00,  1.45it/s, loss=4.29]\n"
          ]
        },
        {
          "metadata": {
            "tags": null
          },
          "name": "stdout",
          "output_type": "stream",
          "text": [
            "Epoch 10 - Training loss: 0.954, Training accuracy: 0.81, Test accuracy: 0.38\n"
          ]
        },
        {
          "metadata": {
            "tags": null
          },
          "name": "stderr",
          "output_type": "stream",
          "text": [
            "Epoch 11: 100%|██████████| 45/45 [00:31<00:00,  1.45it/s, loss=3.34]\n"
          ]
        },
        {
          "metadata": {
            "tags": null
          },
          "name": "stdout",
          "output_type": "stream",
          "text": [
            "Epoch 11 - Training loss: 0.815, Training accuracy: 0.86, Test accuracy: 0.38\n"
          ]
        },
        {
          "metadata": {
            "tags": null
          },
          "name": "stderr",
          "output_type": "stream",
          "text": [
            "Epoch 12: 100%|██████████| 45/45 [00:30<00:00,  1.45it/s, loss=2.57]\n"
          ]
        },
        {
          "metadata": {
            "tags": null
          },
          "name": "stdout",
          "output_type": "stream",
          "text": [
            "Epoch 12 - Training loss: 0.685, Training accuracy: 0.89, Test accuracy: 0.39\n"
          ]
        },
        {
          "metadata": {
            "tags": null
          },
          "name": "stderr",
          "output_type": "stream",
          "text": [
            "Epoch 13: 100%|██████████| 45/45 [00:30<00:00,  1.45it/s, loss=2.06]\n"
          ]
        },
        {
          "metadata": {
            "tags": null
          },
          "name": "stdout",
          "output_type": "stream",
          "text": [
            "Epoch 13 - Training loss: 0.596, Training accuracy: 0.91, Test accuracy: 0.39\n"
          ]
        },
        {
          "metadata": {
            "tags": null
          },
          "name": "stderr",
          "output_type": "stream",
          "text": [
            "Epoch 14: 100%|██████████| 45/45 [00:30<00:00,  1.45it/s, loss=1.65]\n"
          ]
        },
        {
          "metadata": {
            "tags": null
          },
          "name": "stdout",
          "output_type": "stream",
          "text": [
            "Epoch 14 - Training loss: 0.513, Training accuracy: 0.94, Test accuracy: 0.39\n"
          ]
        },
        {
          "metadata": {
            "tags": null
          },
          "name": "stderr",
          "output_type": "stream",
          "text": [
            "Epoch 15: 100%|██████████| 45/45 [00:30<00:00,  1.45it/s, loss=1.32]\n"
          ]
        },
        {
          "metadata": {
            "tags": null
          },
          "name": "stdout",
          "output_type": "stream",
          "text": [
            "Epoch 15 - Training loss: 0.441, Training accuracy: 0.94, Test accuracy: 0.41\n"
          ]
        },
        {
          "metadata": {
            "tags": null
          },
          "name": "stderr",
          "output_type": "stream",
          "text": [
            "Epoch 16: 100%|██████████| 45/45 [00:31<00:00,  1.45it/s, loss=1.1]\n"
          ]
        },
        {
          "metadata": {
            "tags": null
          },
          "name": "stdout",
          "output_type": "stream",
          "text": [
            "Epoch 16 - Training loss: 0.392, Training accuracy: 0.96, Test accuracy: 0.44\n"
          ]
        },
        {
          "metadata": {
            "tags": null
          },
          "name": "stderr",
          "output_type": "stream",
          "text": [
            "Epoch 17: 100%|██████████| 45/45 [00:31<00:00,  1.45it/s, loss=0.89]\n"
          ]
        },
        {
          "metadata": {
            "tags": null
          },
          "name": "stdout",
          "output_type": "stream",
          "text": [
            "Epoch 17 - Training loss: 0.336, Training accuracy: 0.97, Test accuracy: 0.41\n"
          ]
        },
        {
          "metadata": {
            "tags": null
          },
          "name": "stderr",
          "output_type": "stream",
          "text": [
            "Epoch 18: 100%|██████████| 45/45 [00:30<00:00,  1.46it/s, loss=0.739]\n"
          ]
        },
        {
          "metadata": {
            "tags": null
          },
          "name": "stdout",
          "output_type": "stream",
          "text": [
            "Epoch 18 - Training loss: 0.296, Training accuracy: 0.97, Test accuracy: 0.42\n"
          ]
        },
        {
          "metadata": {
            "tags": null
          },
          "name": "stderr",
          "output_type": "stream",
          "text": [
            "Epoch 19: 100%|██████████| 45/45 [00:30<00:00,  1.45it/s, loss=0.612]\n"
          ]
        },
        {
          "metadata": {
            "tags": null
          },
          "name": "stdout",
          "output_type": "stream",
          "text": [
            "Epoch 19 - Training loss: 0.259, Training accuracy: 0.97, Test accuracy: 0.41\n"
          ]
        },
        {
          "metadata": {
            "tags": null
          },
          "name": "stderr",
          "output_type": "stream",
          "text": [
            "Epoch 20: 100%|██████████| 45/45 [00:30<00:00,  1.45it/s, loss=0.525]\n"
          ]
        },
        {
          "metadata": {
            "tags": null
          },
          "name": "stdout",
          "output_type": "stream",
          "text": [
            "Epoch 20 - Training loss: 0.233, Training accuracy: 0.98, Test accuracy: 0.40\n"
          ]
        },
        {
          "metadata": {
            "tags": null
          },
          "name": "stderr",
          "output_type": "stream",
          "text": [
            "Epoch 21: 100%|██████████| 45/45 [00:30<00:00,  1.45it/s, loss=0.457]\n"
          ]
        },
        {
          "metadata": {
            "tags": null
          },
          "name": "stdout",
          "output_type": "stream",
          "text": [
            "Epoch 21 - Training loss: 0.213, Training accuracy: 0.98, Test accuracy: 0.41\n"
          ]
        },
        {
          "metadata": {
            "tags": null
          },
          "name": "stderr",
          "output_type": "stream",
          "text": [
            "Epoch 22: 100%|██████████| 45/45 [00:30<00:00,  1.45it/s, loss=0.391]\n"
          ]
        },
        {
          "metadata": {
            "tags": null
          },
          "name": "stdout",
          "output_type": "stream",
          "text": [
            "Epoch 22 - Training loss: 0.191, Training accuracy: 0.98, Test accuracy: 0.42\n"
          ]
        },
        {
          "metadata": {
            "tags": null
          },
          "name": "stderr",
          "output_type": "stream",
          "text": [
            "Epoch 23: 100%|██████████| 45/45 [00:30<00:00,  1.45it/s, loss=0.334]\n"
          ]
        },
        {
          "metadata": {
            "tags": null
          },
          "name": "stdout",
          "output_type": "stream",
          "text": [
            "Epoch 23 - Training loss: 0.171, Training accuracy: 0.99, Test accuracy: 0.42\n"
          ]
        },
        {
          "metadata": {
            "tags": null
          },
          "name": "stderr",
          "output_type": "stream",
          "text": [
            "Epoch 24: 100%|██████████| 45/45 [00:30<00:00,  1.45it/s, loss=0.291]\n"
          ]
        },
        {
          "metadata": {
            "tags": null
          },
          "name": "stdout",
          "output_type": "stream",
          "text": [
            "Epoch 24 - Training loss: 0.155, Training accuracy: 0.99, Test accuracy: 0.41\n"
          ]
        },
        {
          "metadata": {
            "tags": null
          },
          "name": "stderr",
          "output_type": "stream",
          "text": [
            "Epoch 25: 100%|██████████| 45/45 [00:31<00:00,  1.45it/s, loss=0.248]\n"
          ]
        },
        {
          "metadata": {
            "tags": null
          },
          "name": "stdout",
          "output_type": "stream",
          "text": [
            "Epoch 25 - Training loss: 0.138, Training accuracy: 0.99, Test accuracy: 0.41\n"
          ]
        },
        {
          "metadata": {
            "tags": null
          },
          "name": "stderr",
          "output_type": "stream",
          "text": [
            "Epoch 26: 100%|██████████| 45/45 [00:30<00:00,  1.45it/s, loss=0.228]\n"
          ]
        },
        {
          "metadata": {
            "tags": null
          },
          "name": "stdout",
          "output_type": "stream",
          "text": [
            "Epoch 26 - Training loss: 0.132, Training accuracy: 0.99, Test accuracy: 0.41\n"
          ]
        },
        {
          "metadata": {
            "tags": null
          },
          "name": "stderr",
          "output_type": "stream",
          "text": [
            "Epoch 27: 100%|██████████| 45/45 [00:30<00:00,  1.45it/s, loss=0.195]\n"
          ]
        },
        {
          "metadata": {
            "tags": null
          },
          "name": "stdout",
          "output_type": "stream",
          "text": [
            "Epoch 27 - Training loss: 0.117, Training accuracy: 0.99, Test accuracy: 0.42\n"
          ]
        },
        {
          "metadata": {
            "tags": null
          },
          "name": "stderr",
          "output_type": "stream",
          "text": [
            "Epoch 28: 100%|██████████| 45/45 [00:30<00:00,  1.45it/s, loss=0.175]\n"
          ]
        },
        {
          "metadata": {
            "tags": null
          },
          "name": "stdout",
          "output_type": "stream",
          "text": [
            "Epoch 28 - Training loss: 0.109, Training accuracy: 0.99, Test accuracy: 0.42\n"
          ]
        },
        {
          "metadata": {
            "tags": null
          },
          "name": "stderr",
          "output_type": "stream",
          "text": [
            "Epoch 29: 100%|██████████| 45/45 [00:31<00:00,  1.45it/s, loss=0.151]\n"
          ]
        },
        {
          "metadata": {
            "tags": null
          },
          "name": "stdout",
          "output_type": "stream",
          "text": [
            "Epoch 29 - Training loss: 0.097, Training accuracy: 0.99, Test accuracy: 0.43\n"
          ]
        },
        {
          "metadata": {
            "tags": null
          },
          "name": "stderr",
          "output_type": "stream",
          "text": [
            "Epoch 30: 100%|██████████| 45/45 [00:30<00:00,  1.45it/s, loss=0.132]\n"
          ]
        },
        {
          "metadata": {
            "tags": null
          },
          "name": "stdout",
          "output_type": "stream",
          "text": [
            "Epoch 30 - Training loss: 0.088, Training accuracy: 0.99, Test accuracy: 0.41\n"
          ]
        },
        {
          "metadata": {
            "tags": null
          },
          "name": "stderr",
          "output_type": "stream",
          "text": [
            "Epoch 31: 100%|██████████| 45/45 [00:30<00:00,  1.45it/s, loss=0.118]\n"
          ]
        },
        {
          "metadata": {
            "tags": null
          },
          "name": "stdout",
          "output_type": "stream",
          "text": [
            "Epoch 31 - Training loss: 0.082, Training accuracy: 0.99, Test accuracy: 0.42\n"
          ]
        },
        {
          "metadata": {
            "tags": null
          },
          "name": "stderr",
          "output_type": "stream",
          "text": [
            "Epoch 32: 100%|██████████| 45/45 [00:30<00:00,  1.45it/s, loss=0.109]\n"
          ]
        },
        {
          "metadata": {
            "tags": null
          },
          "name": "stdout",
          "output_type": "stream",
          "text": [
            "Epoch 32 - Training loss: 0.078, Training accuracy: 0.99, Test accuracy: 0.40\n"
          ]
        },
        {
          "metadata": {
            "tags": null
          },
          "name": "stderr",
          "output_type": "stream",
          "text": [
            "Epoch 33: 100%|██████████| 45/45 [00:30<00:00,  1.45it/s, loss=0.1]\n"
          ]
        },
        {
          "metadata": {
            "tags": null
          },
          "name": "stdout",
          "output_type": "stream",
          "text": [
            "Epoch 33 - Training loss: 0.073, Training accuracy: 0.99, Test accuracy: 0.42\n"
          ]
        },
        {
          "metadata": {
            "tags": null
          },
          "name": "stderr",
          "output_type": "stream",
          "text": [
            "Epoch 34: 100%|██████████| 45/45 [00:30<00:00,  1.45it/s, loss=0.0956]\n"
          ]
        },
        {
          "metadata": {
            "tags": null
          },
          "name": "stdout",
          "output_type": "stream",
          "text": [
            "Epoch 34 - Training loss: 0.072, Training accuracy: 0.99, Test accuracy: 0.42\n"
          ]
        },
        {
          "metadata": {
            "tags": null
          },
          "name": "stderr",
          "output_type": "stream",
          "text": [
            "Epoch 35: 100%|██████████| 45/45 [00:30<00:00,  1.45it/s, loss=0.0832]\n"
          ]
        },
        {
          "metadata": {
            "tags": null
          },
          "name": "stdout",
          "output_type": "stream",
          "text": [
            "Epoch 35 - Training loss: 0.065, Training accuracy: 0.99, Test accuracy: 0.44\n"
          ]
        },
        {
          "metadata": {
            "tags": null
          },
          "name": "stderr",
          "output_type": "stream",
          "text": [
            "Epoch 36: 100%|██████████| 45/45 [00:30<00:00,  1.45it/s, loss=0.0768]\n"
          ]
        },
        {
          "metadata": {
            "tags": null
          },
          "name": "stdout",
          "output_type": "stream",
          "text": [
            "Epoch 36 - Training loss: 0.061, Training accuracy: 0.99, Test accuracy: 0.44\n"
          ]
        },
        {
          "metadata": {
            "tags": null
          },
          "name": "stderr",
          "output_type": "stream",
          "text": [
            "Epoch 37: 100%|██████████| 45/45 [00:30<00:00,  1.45it/s, loss=0.0724]\n"
          ]
        },
        {
          "metadata": {
            "tags": null
          },
          "name": "stdout",
          "output_type": "stream",
          "text": [
            "Epoch 37 - Training loss: 0.060, Training accuracy: 0.99, Test accuracy: 0.45\n"
          ]
        },
        {
          "metadata": {
            "tags": null
          },
          "name": "stderr",
          "output_type": "stream",
          "text": [
            "Epoch 38: 100%|██████████| 45/45 [00:30<00:00,  1.45it/s, loss=0.062]\n"
          ]
        },
        {
          "metadata": {
            "tags": null
          },
          "name": "stdout",
          "output_type": "stream",
          "text": [
            "Epoch 38 - Training loss: 0.052, Training accuracy: 1.00, Test accuracy: 0.43\n"
          ]
        },
        {
          "metadata": {
            "tags": null
          },
          "name": "stderr",
          "output_type": "stream",
          "text": [
            "Epoch 39: 100%|██████████| 45/45 [00:30<00:00,  1.45it/s, loss=0.0607]\n"
          ]
        },
        {
          "metadata": {
            "tags": null
          },
          "name": "stdout",
          "output_type": "stream",
          "text": [
            "Epoch 39 - Training loss: 0.053, Training accuracy: 0.99, Test accuracy: 0.42\n"
          ]
        },
        {
          "metadata": {
            "tags": null
          },
          "name": "stderr",
          "output_type": "stream",
          "text": [
            "Epoch 40: 100%|██████████| 45/45 [00:30<00:00,  1.45it/s, loss=0.0603]\n"
          ]
        },
        {
          "metadata": {
            "tags": null
          },
          "name": "stdout",
          "output_type": "stream",
          "text": [
            "Epoch 40 - Training loss: 0.054, Training accuracy: 0.99, Test accuracy: 0.42\n"
          ]
        },
        {
          "metadata": {
            "tags": null
          },
          "name": "stderr",
          "output_type": "stream",
          "text": [
            "Epoch 41: 100%|██████████| 45/45 [00:30<00:00,  1.45it/s, loss=0.0496]\n"
          ]
        },
        {
          "metadata": {
            "tags": null
          },
          "name": "stdout",
          "output_type": "stream",
          "text": [
            "Epoch 41 - Training loss: 0.045, Training accuracy: 1.00, Test accuracy: 0.43\n"
          ]
        },
        {
          "metadata": {
            "tags": null
          },
          "name": "stderr",
          "output_type": "stream",
          "text": [
            "Epoch 42: 100%|██████████| 45/45 [00:30<00:00,  1.46it/s, loss=0.0453]\n"
          ]
        },
        {
          "metadata": {
            "tags": null
          },
          "name": "stdout",
          "output_type": "stream",
          "text": [
            "Epoch 42 - Training loss: 0.042, Training accuracy: 0.99, Test accuracy: 0.42\n"
          ]
        },
        {
          "metadata": {
            "tags": null
          },
          "name": "stderr",
          "output_type": "stream",
          "text": [
            "Epoch 43: 100%|██████████| 45/45 [00:30<00:00,  1.45it/s, loss=0.0444]\n"
          ]
        },
        {
          "metadata": {
            "tags": null
          },
          "name": "stdout",
          "output_type": "stream",
          "text": [
            "Epoch 43 - Training loss: 0.042, Training accuracy: 0.99, Test accuracy: 0.43\n"
          ]
        },
        {
          "metadata": {
            "tags": null
          },
          "name": "stderr",
          "output_type": "stream",
          "text": [
            "Epoch 44: 100%|██████████| 45/45 [00:30<00:00,  1.45it/s, loss=0.0427]\n"
          ]
        },
        {
          "metadata": {
            "tags": null
          },
          "name": "stdout",
          "output_type": "stream",
          "text": [
            "Epoch 44 - Training loss: 0.042, Training accuracy: 0.99, Test accuracy: 0.42\n"
          ]
        },
        {
          "metadata": {
            "tags": null
          },
          "name": "stderr",
          "output_type": "stream",
          "text": [
            "Epoch 45: 100%|██████████| 45/45 [00:31<00:00,  1.45it/s, loss=0.0406]\n"
          ]
        },
        {
          "metadata": {
            "tags": null
          },
          "name": "stdout",
          "output_type": "stream",
          "text": [
            "Epoch 45 - Training loss: 0.041, Training accuracy: 0.99, Test accuracy: 0.43\n"
          ]
        },
        {
          "metadata": {
            "tags": null
          },
          "name": "stderr",
          "output_type": "stream",
          "text": [
            "Epoch 46: 100%|██████████| 45/45 [00:31<00:00,  1.45it/s, loss=0.0352]\n"
          ]
        },
        {
          "metadata": {
            "tags": null
          },
          "name": "stdout",
          "output_type": "stream",
          "text": [
            "Epoch 46 - Training loss: 0.036, Training accuracy: 1.00, Test accuracy: 0.42\n"
          ]
        },
        {
          "metadata": {
            "tags": null
          },
          "name": "stderr",
          "output_type": "stream",
          "text": [
            "Epoch 47: 100%|██████████| 45/45 [00:30<00:00,  1.45it/s, loss=0.0347]\n"
          ]
        },
        {
          "metadata": {
            "tags": null
          },
          "name": "stdout",
          "output_type": "stream",
          "text": [
            "Epoch 47 - Training loss: 0.036, Training accuracy: 0.99, Test accuracy: 0.42\n"
          ]
        },
        {
          "metadata": {
            "tags": null
          },
          "name": "stderr",
          "output_type": "stream",
          "text": [
            "Epoch 48: 100%|██████████| 45/45 [00:30<00:00,  1.45it/s, loss=0.0307]\n"
          ]
        },
        {
          "metadata": {
            "tags": null
          },
          "name": "stdout",
          "output_type": "stream",
          "text": [
            "Epoch 48 - Training loss: 0.033, Training accuracy: 0.99, Test accuracy: 0.43\n"
          ]
        },
        {
          "metadata": {
            "tags": null
          },
          "name": "stderr",
          "output_type": "stream",
          "text": [
            "Epoch 49: 100%|██████████| 45/45 [00:30<00:00,  1.45it/s, loss=0.0307]\n"
          ]
        },
        {
          "metadata": {
            "tags": null
          },
          "name": "stdout",
          "output_type": "stream",
          "text": [
            "Epoch 49 - Training loss: 0.033, Training accuracy: 1.00, Test accuracy: 0.42\n"
          ]
        },
        {
          "metadata": {
            "tags": null
          },
          "name": "stderr",
          "output_type": "stream",
          "text": [
            "Epoch 50: 100%|██████████| 45/45 [00:30<00:00,  1.46it/s, loss=0.028]\n"
          ]
        },
        {
          "metadata": {
            "tags": null
          },
          "name": "stdout",
          "output_type": "stream",
          "text": [
            "Epoch 50 - Training loss: 0.031, Training accuracy: 1.00, Test accuracy: 0.43\n"
          ]
        },
        {
          "metadata": {
            "tags": null
          },
          "name": "stderr",
          "output_type": "stream",
          "text": [
            "Epoch 51: 100%|██████████| 45/45 [00:31<00:00,  1.45it/s, loss=0.0277]\n"
          ]
        },
        {
          "metadata": {
            "tags": null
          },
          "name": "stdout",
          "output_type": "stream",
          "text": [
            "Epoch 51 - Training loss: 0.031, Training accuracy: 0.99, Test accuracy: 0.44\n"
          ]
        },
        {
          "metadata": {
            "tags": null
          },
          "name": "stderr",
          "output_type": "stream",
          "text": [
            "Epoch 52: 100%|██████████| 45/45 [00:30<00:00,  1.45it/s, loss=0.028]\n"
          ]
        },
        {
          "metadata": {
            "tags": null
          },
          "name": "stdout",
          "output_type": "stream",
          "text": [
            "Epoch 52 - Training loss: 0.032, Training accuracy: 0.99, Test accuracy: 0.43\n"
          ]
        },
        {
          "metadata": {
            "tags": null
          },
          "name": "stderr",
          "output_type": "stream",
          "text": [
            "Epoch 53: 100%|██████████| 45/45 [00:30<00:00,  1.45it/s, loss=0.0253]\n"
          ]
        },
        {
          "metadata": {
            "tags": null
          },
          "name": "stdout",
          "output_type": "stream",
          "text": [
            "Epoch 53 - Training loss: 0.030, Training accuracy: 0.99, Test accuracy: 0.43\n"
          ]
        },
        {
          "metadata": {
            "tags": null
          },
          "name": "stderr",
          "output_type": "stream",
          "text": [
            "Epoch 54: 100%|██████████| 45/45 [00:30<00:00,  1.45it/s, loss=0.0227]\n"
          ]
        },
        {
          "metadata": {
            "tags": null
          },
          "name": "stdout",
          "output_type": "stream",
          "text": [
            "Epoch 54 - Training loss: 0.027, Training accuracy: 0.99, Test accuracy: 0.42\n"
          ]
        },
        {
          "metadata": {
            "tags": null
          },
          "name": "stderr",
          "output_type": "stream",
          "text": [
            "Epoch 55: 100%|██████████| 45/45 [00:30<00:00,  1.45it/s, loss=0.0224]\n"
          ]
        },
        {
          "metadata": {
            "tags": null
          },
          "name": "stdout",
          "output_type": "stream",
          "text": [
            "Epoch 55 - Training loss: 0.027, Training accuracy: 1.00, Test accuracy: 0.43\n"
          ]
        },
        {
          "metadata": {
            "tags": null
          },
          "name": "stderr",
          "output_type": "stream",
          "text": [
            "Epoch 56: 100%|██████████| 45/45 [00:30<00:00,  1.45it/s, loss=0.0216]\n"
          ]
        },
        {
          "metadata": {
            "tags": null
          },
          "name": "stdout",
          "output_type": "stream",
          "text": [
            "Epoch 56 - Training loss: 0.027, Training accuracy: 1.00, Test accuracy: 0.42\n"
          ]
        },
        {
          "metadata": {
            "tags": null
          },
          "name": "stderr",
          "output_type": "stream",
          "text": [
            "Epoch 57: 100%|██████████| 45/45 [00:31<00:00,  1.45it/s, loss=0.022]\n"
          ]
        },
        {
          "metadata": {
            "tags": null
          },
          "name": "stdout",
          "output_type": "stream",
          "text": [
            "Epoch 57 - Training loss: 0.028, Training accuracy: 0.99, Test accuracy: 0.41\n"
          ]
        },
        {
          "metadata": {
            "tags": null
          },
          "name": "stderr",
          "output_type": "stream",
          "text": [
            "Epoch 58: 100%|██████████| 45/45 [00:31<00:00,  1.45it/s, loss=0.0215]\n"
          ]
        },
        {
          "metadata": {
            "tags": null
          },
          "name": "stdout",
          "output_type": "stream",
          "text": [
            "Epoch 58 - Training loss: 0.028, Training accuracy: 0.99, Test accuracy: 0.43\n"
          ]
        },
        {
          "metadata": {
            "tags": null
          },
          "name": "stderr",
          "output_type": "stream",
          "text": [
            "Epoch 59: 100%|██████████| 45/45 [00:30<00:00,  1.45it/s, loss=0.0188]\n"
          ]
        },
        {
          "metadata": {
            "tags": null
          },
          "name": "stdout",
          "output_type": "stream",
          "text": [
            "Epoch 59 - Training loss: 0.025, Training accuracy: 0.99, Test accuracy: 0.42\n"
          ]
        },
        {
          "metadata": {
            "tags": null
          },
          "name": "stderr",
          "output_type": "stream",
          "text": [
            "Epoch 60: 100%|██████████| 45/45 [00:30<00:00,  1.45it/s, loss=0.0167]\n"
          ]
        },
        {
          "metadata": {
            "tags": null
          },
          "name": "stdout",
          "output_type": "stream",
          "text": [
            "Epoch 60 - Training loss: 0.022, Training accuracy: 1.00, Test accuracy: 0.43\n"
          ]
        },
        {
          "metadata": {
            "tags": null
          },
          "name": "stderr",
          "output_type": "stream",
          "text": [
            "Epoch 61: 100%|██████████| 45/45 [00:30<00:00,  1.45it/s, loss=0.0172]\n"
          ]
        },
        {
          "metadata": {
            "tags": null
          },
          "name": "stdout",
          "output_type": "stream",
          "text": [
            "Epoch 61 - Training loss: 0.023, Training accuracy: 0.99, Test accuracy: 0.43\n"
          ]
        },
        {
          "metadata": {
            "tags": null
          },
          "name": "stderr",
          "output_type": "stream",
          "text": [
            "Epoch 62: 100%|██████████| 45/45 [00:30<00:00,  1.45it/s, loss=0.0166]\n"
          ]
        },
        {
          "metadata": {
            "tags": null
          },
          "name": "stdout",
          "output_type": "stream",
          "text": [
            "Epoch 62 - Training loss: 0.023, Training accuracy: 1.00, Test accuracy: 0.44\n"
          ]
        },
        {
          "metadata": {
            "tags": null
          },
          "name": "stderr",
          "output_type": "stream",
          "text": [
            "Epoch 63: 100%|██████████| 45/45 [00:30<00:00,  1.45it/s, loss=0.0162]\n"
          ]
        },
        {
          "metadata": {
            "tags": null
          },
          "name": "stdout",
          "output_type": "stream",
          "text": [
            "Epoch 63 - Training loss: 0.023, Training accuracy: 0.99, Test accuracy: 0.42\n"
          ]
        },
        {
          "metadata": {
            "tags": null
          },
          "name": "stderr",
          "output_type": "stream",
          "text": [
            "Epoch 64: 100%|██████████| 45/45 [00:30<00:00,  1.45it/s, loss=0.0153]\n"
          ]
        },
        {
          "metadata": {
            "tags": null
          },
          "name": "stdout",
          "output_type": "stream",
          "text": [
            "Epoch 64 - Training loss: 0.022, Training accuracy: 1.00, Test accuracy: 0.43\n"
          ]
        },
        {
          "metadata": {
            "tags": null
          },
          "name": "stderr",
          "output_type": "stream",
          "text": [
            "Epoch 65: 100%|██████████| 45/45 [00:30<00:00,  1.45it/s, loss=0.015]\n"
          ]
        },
        {
          "metadata": {
            "tags": null
          },
          "name": "stdout",
          "output_type": "stream",
          "text": [
            "Epoch 65 - Training loss: 0.022, Training accuracy: 0.99, Test accuracy: 0.43\n"
          ]
        },
        {
          "metadata": {
            "tags": null
          },
          "name": "stderr",
          "output_type": "stream",
          "text": [
            "Epoch 66: 100%|██████████| 45/45 [00:30<00:00,  1.45it/s, loss=0.0138]\n"
          ]
        },
        {
          "metadata": {
            "tags": null
          },
          "name": "stdout",
          "output_type": "stream",
          "text": [
            "Epoch 66 - Training loss: 0.020, Training accuracy: 0.99, Test accuracy: 0.42\n"
          ]
        },
        {
          "metadata": {
            "tags": null
          },
          "name": "stderr",
          "output_type": "stream",
          "text": [
            "Epoch 67: 100%|██████████| 45/45 [00:30<00:00,  1.45it/s, loss=0.0137]\n"
          ]
        },
        {
          "metadata": {
            "tags": null
          },
          "name": "stdout",
          "output_type": "stream",
          "text": [
            "Epoch 67 - Training loss: 0.020, Training accuracy: 0.99, Test accuracy: 0.43\n"
          ]
        },
        {
          "metadata": {
            "tags": null
          },
          "name": "stderr",
          "output_type": "stream",
          "text": [
            "Epoch 68: 100%|██████████| 45/45 [00:30<00:00,  1.45it/s, loss=0.0142]\n"
          ]
        },
        {
          "metadata": {
            "tags": null
          },
          "name": "stdout",
          "output_type": "stream",
          "text": [
            "Epoch 68 - Training loss: 0.022, Training accuracy: 0.99, Test accuracy: 0.42\n"
          ]
        },
        {
          "metadata": {
            "tags": null
          },
          "name": "stderr",
          "output_type": "stream",
          "text": [
            "Epoch 69: 100%|██████████| 45/45 [00:30<00:00,  1.45it/s, loss=0.0191]\n"
          ]
        },
        {
          "metadata": {
            "tags": null
          },
          "name": "stdout",
          "output_type": "stream",
          "text": [
            "Epoch 69 - Training loss: 0.029, Training accuracy: 0.99, Test accuracy: 0.40\n"
          ]
        },
        {
          "metadata": {
            "tags": null
          },
          "name": "stderr",
          "output_type": "stream",
          "text": [
            "Epoch 70: 100%|██████████| 45/45 [00:30<00:00,  1.45it/s, loss=0.0315]\n"
          ]
        },
        {
          "metadata": {
            "tags": null
          },
          "name": "stdout",
          "output_type": "stream",
          "text": [
            "Epoch 70 - Training loss: 0.049, Training accuracy: 0.99, Test accuracy: 0.40\n"
          ]
        },
        {
          "metadata": {
            "tags": null
          },
          "name": "stderr",
          "output_type": "stream",
          "text": [
            "Epoch 71: 100%|██████████| 45/45 [00:30<00:00,  1.45it/s, loss=0.0305]\n"
          ]
        },
        {
          "metadata": {
            "tags": null
          },
          "name": "stdout",
          "output_type": "stream",
          "text": [
            "Epoch 71 - Training loss: 0.048, Training accuracy: 0.99, Test accuracy: 0.37\n"
          ]
        },
        {
          "metadata": {
            "tags": null
          },
          "name": "stderr",
          "output_type": "stream",
          "text": [
            "Epoch 72: 100%|██████████| 45/45 [00:30<00:00,  1.45it/s, loss=0.0882]\n"
          ]
        },
        {
          "metadata": {
            "tags": null
          },
          "name": "stdout",
          "output_type": "stream",
          "text": [
            "Epoch 72 - Training loss: 0.141, Training accuracy: 0.96, Test accuracy: 0.38\n"
          ]
        },
        {
          "metadata": {
            "tags": null
          },
          "name": "stderr",
          "output_type": "stream",
          "text": [
            "Epoch 73: 100%|██████████| 45/45 [00:31<00:00,  1.45it/s, loss=0.0566]\n"
          ]
        },
        {
          "metadata": {
            "tags": null
          },
          "name": "stdout",
          "output_type": "stream",
          "text": [
            "Epoch 73 - Training loss: 0.092, Training accuracy: 0.98, Test accuracy: 0.38\n"
          ]
        },
        {
          "metadata": {
            "tags": null
          },
          "name": "stderr",
          "output_type": "stream",
          "text": [
            "Epoch 74: 100%|██████████| 45/45 [00:30<00:00,  1.45it/s, loss=0.0274]\n"
          ]
        },
        {
          "metadata": {
            "tags": null
          },
          "name": "stdout",
          "output_type": "stream",
          "text": [
            "Epoch 74 - Training loss: 0.045, Training accuracy: 0.99, Test accuracy: 0.41\n"
          ]
        },
        {
          "metadata": {
            "tags": null
          },
          "name": "stderr",
          "output_type": "stream",
          "text": [
            "Epoch 75: 100%|██████████| 45/45 [00:30<00:00,  1.45it/s, loss=0.0131]\n"
          ]
        },
        {
          "metadata": {
            "tags": null
          },
          "name": "stdout",
          "output_type": "stream",
          "text": [
            "Epoch 75 - Training loss: 0.022, Training accuracy: 1.00, Test accuracy: 0.40\n"
          ]
        },
        {
          "metadata": {
            "tags": null
          },
          "name": "stderr",
          "output_type": "stream",
          "text": [
            "Epoch 76: 100%|██████████| 45/45 [00:30<00:00,  1.45it/s, loss=0.0115]\n"
          ]
        },
        {
          "metadata": {
            "tags": null
          },
          "name": "stdout",
          "output_type": "stream",
          "text": [
            "Epoch 76 - Training loss: 0.019, Training accuracy: 1.00, Test accuracy: 0.40\n"
          ]
        },
        {
          "metadata": {
            "tags": null
          },
          "name": "stderr",
          "output_type": "stream",
          "text": [
            "Epoch 77: 100%|██████████| 45/45 [00:30<00:00,  1.45it/s, loss=0.0104]\n"
          ]
        },
        {
          "metadata": {
            "tags": null
          },
          "name": "stdout",
          "output_type": "stream",
          "text": [
            "Epoch 77 - Training loss: 0.018, Training accuracy: 1.00, Test accuracy: 0.41\n"
          ]
        },
        {
          "metadata": {
            "tags": null
          },
          "name": "stderr",
          "output_type": "stream",
          "text": [
            "Epoch 78: 100%|██████████| 45/45 [00:30<00:00,  1.45it/s, loss=0.0115]\n"
          ]
        },
        {
          "metadata": {
            "tags": null
          },
          "name": "stdout",
          "output_type": "stream",
          "text": [
            "Epoch 78 - Training loss: 0.020, Training accuracy: 0.99, Test accuracy: 0.42\n"
          ]
        },
        {
          "metadata": {
            "tags": null
          },
          "name": "stderr",
          "output_type": "stream",
          "text": [
            "Epoch 79: 100%|██████████| 45/45 [00:30<00:00,  1.45it/s, loss=0.00983]\n"
          ]
        },
        {
          "metadata": {
            "tags": null
          },
          "name": "stdout",
          "output_type": "stream",
          "text": [
            "Epoch 79 - Training loss: 0.017, Training accuracy: 0.99, Test accuracy: 0.42\n"
          ]
        },
        {
          "metadata": {
            "tags": null
          },
          "name": "stderr",
          "output_type": "stream",
          "text": [
            "Epoch 80: 100%|██████████| 45/45 [00:30<00:00,  1.45it/s, loss=0.0104]\n"
          ]
        },
        {
          "metadata": {
            "tags": null
          },
          "name": "stdout",
          "output_type": "stream",
          "text": [
            "Epoch 80 - Training loss: 0.018, Training accuracy: 0.99, Test accuracy: 0.42\n"
          ]
        },
        {
          "metadata": {
            "tags": null
          },
          "name": "stderr",
          "output_type": "stream",
          "text": [
            "Epoch 81: 100%|██████████| 45/45 [00:30<00:00,  1.45it/s, loss=0.0101]\n"
          ]
        },
        {
          "metadata": {
            "tags": null
          },
          "name": "stdout",
          "output_type": "stream",
          "text": [
            "Epoch 81 - Training loss: 0.018, Training accuracy: 0.99, Test accuracy: 0.42\n"
          ]
        },
        {
          "metadata": {
            "tags": null
          },
          "name": "stderr",
          "output_type": "stream",
          "text": [
            "Epoch 82: 100%|██████████| 45/45 [00:30<00:00,  1.45it/s, loss=0.00939]\n"
          ]
        },
        {
          "metadata": {
            "tags": null
          },
          "name": "stdout",
          "output_type": "stream",
          "text": [
            "Epoch 82 - Training loss: 0.017, Training accuracy: 0.99, Test accuracy: 0.42\n"
          ]
        },
        {
          "metadata": {
            "tags": null
          },
          "name": "stderr",
          "output_type": "stream",
          "text": [
            "Epoch 83: 100%|██████████| 45/45 [00:30<00:00,  1.45it/s, loss=0.00802]\n"
          ]
        },
        {
          "metadata": {
            "tags": null
          },
          "name": "stdout",
          "output_type": "stream",
          "text": [
            "Epoch 83 - Training loss: 0.015, Training accuracy: 1.00, Test accuracy: 0.41\n"
          ]
        },
        {
          "metadata": {
            "tags": null
          },
          "name": "stderr",
          "output_type": "stream",
          "text": [
            "Epoch 84: 100%|██████████| 45/45 [00:31<00:00,  1.45it/s, loss=0.00936]\n"
          ]
        },
        {
          "metadata": {
            "tags": null
          },
          "name": "stdout",
          "output_type": "stream",
          "text": [
            "Epoch 84 - Training loss: 0.017, Training accuracy: 0.99, Test accuracy: 0.41\n"
          ]
        },
        {
          "metadata": {
            "tags": null
          },
          "name": "stderr",
          "output_type": "stream",
          "text": [
            "Epoch 85: 100%|██████████| 45/45 [00:31<00:00,  1.45it/s, loss=0.00815]\n"
          ]
        },
        {
          "metadata": {
            "tags": null
          },
          "name": "stdout",
          "output_type": "stream",
          "text": [
            "Epoch 85 - Training loss: 0.015, Training accuracy: 1.00, Test accuracy: 0.41\n"
          ]
        },
        {
          "metadata": {
            "tags": null
          },
          "name": "stderr",
          "output_type": "stream",
          "text": [
            "Epoch 86: 100%|██████████| 45/45 [00:30<00:00,  1.45it/s, loss=0.0078]\n"
          ]
        },
        {
          "metadata": {
            "tags": null
          },
          "name": "stdout",
          "output_type": "stream",
          "text": [
            "Epoch 86 - Training loss: 0.015, Training accuracy: 0.99, Test accuracy: 0.42\n"
          ]
        },
        {
          "metadata": {
            "tags": null
          },
          "name": "stderr",
          "output_type": "stream",
          "text": [
            "Epoch 87: 100%|██████████| 45/45 [00:30<00:00,  1.45it/s, loss=0.00833]\n"
          ]
        },
        {
          "metadata": {
            "tags": null
          },
          "name": "stdout",
          "output_type": "stream",
          "text": [
            "Epoch 87 - Training loss: 0.016, Training accuracy: 0.99, Test accuracy: 0.41\n"
          ]
        },
        {
          "metadata": {
            "tags": null
          },
          "name": "stderr",
          "output_type": "stream",
          "text": [
            "Epoch 88: 100%|██████████| 45/45 [00:30<00:00,  1.45it/s, loss=0.0114]\n"
          ]
        },
        {
          "metadata": {
            "tags": null
          },
          "name": "stdout",
          "output_type": "stream",
          "text": [
            "Epoch 88 - Training loss: 0.022, Training accuracy: 0.99, Test accuracy: 0.42\n"
          ]
        },
        {
          "metadata": {
            "tags": null
          },
          "name": "stderr",
          "output_type": "stream",
          "text": [
            "Epoch 89: 100%|██████████| 45/45 [00:30<00:00,  1.45it/s, loss=0.0206]\n"
          ]
        },
        {
          "metadata": {
            "tags": null
          },
          "name": "stdout",
          "output_type": "stream",
          "text": [
            "Epoch 89 - Training loss: 0.041, Training accuracy: 0.99, Test accuracy: 0.41\n"
          ]
        },
        {
          "metadata": {
            "tags": null
          },
          "name": "stderr",
          "output_type": "stream",
          "text": [
            "Epoch 90: 100%|██████████| 45/45 [00:30<00:00,  1.45it/s, loss=0.00732]\n"
          ]
        },
        {
          "metadata": {
            "tags": null
          },
          "name": "stdout",
          "output_type": "stream",
          "text": [
            "Epoch 90 - Training loss: 0.015, Training accuracy: 1.00, Test accuracy: 0.40\n"
          ]
        },
        {
          "metadata": {
            "tags": null
          },
          "name": "stderr",
          "output_type": "stream",
          "text": [
            "Epoch 91: 100%|██████████| 45/45 [00:30<00:00,  1.45it/s, loss=0.00732]\n"
          ]
        },
        {
          "metadata": {
            "tags": null
          },
          "name": "stdout",
          "output_type": "stream",
          "text": [
            "Epoch 91 - Training loss: 0.015, Training accuracy: 1.00, Test accuracy: 0.39\n"
          ]
        },
        {
          "metadata": {
            "tags": null
          },
          "name": "stderr",
          "output_type": "stream",
          "text": [
            "Epoch 92: 100%|██████████| 45/45 [00:31<00:00,  1.45it/s, loss=0.00729]\n"
          ]
        },
        {
          "metadata": {
            "tags": null
          },
          "name": "stdout",
          "output_type": "stream",
          "text": [
            "Epoch 92 - Training loss: 0.015, Training accuracy: 1.00, Test accuracy: 0.39\n"
          ]
        },
        {
          "metadata": {
            "tags": null
          },
          "name": "stderr",
          "output_type": "stream",
          "text": [
            "Epoch 93: 100%|██████████| 45/45 [00:31<00:00,  1.45it/s, loss=0.00704]\n"
          ]
        },
        {
          "metadata": {
            "tags": null
          },
          "name": "stdout",
          "output_type": "stream",
          "text": [
            "Epoch 93 - Training loss: 0.015, Training accuracy: 0.99, Test accuracy: 0.41\n"
          ]
        },
        {
          "metadata": {
            "tags": null
          },
          "name": "stderr",
          "output_type": "stream",
          "text": [
            "Epoch 94: 100%|██████████| 45/45 [00:30<00:00,  1.45it/s, loss=0.00672]\n"
          ]
        },
        {
          "metadata": {
            "tags": null
          },
          "name": "stdout",
          "output_type": "stream",
          "text": [
            "Epoch 94 - Training loss: 0.014, Training accuracy: 1.00, Test accuracy: 0.41\n"
          ]
        },
        {
          "metadata": {
            "tags": null
          },
          "name": "stderr",
          "output_type": "stream",
          "text": [
            "Epoch 95: 100%|██████████| 45/45 [00:30<00:00,  1.45it/s, loss=0.00797]\n"
          ]
        },
        {
          "metadata": {
            "tags": null
          },
          "name": "stdout",
          "output_type": "stream",
          "text": [
            "Epoch 95 - Training loss: 0.017, Training accuracy: 0.99, Test accuracy: 0.41\n"
          ]
        },
        {
          "metadata": {
            "tags": null
          },
          "name": "stderr",
          "output_type": "stream",
          "text": [
            "Epoch 96: 100%|██████████| 45/45 [00:30<00:00,  1.45it/s, loss=0.00655]\n"
          ]
        },
        {
          "metadata": {
            "tags": null
          },
          "name": "stdout",
          "output_type": "stream",
          "text": [
            "Epoch 96 - Training loss: 0.014, Training accuracy: 0.99, Test accuracy: 0.41\n"
          ]
        },
        {
          "metadata": {
            "tags": null
          },
          "name": "stderr",
          "output_type": "stream",
          "text": [
            "Epoch 97: 100%|██████████| 45/45 [00:30<00:00,  1.45it/s, loss=0.00631]\n"
          ]
        },
        {
          "metadata": {
            "tags": null
          },
          "name": "stdout",
          "output_type": "stream",
          "text": [
            "Epoch 97 - Training loss: 0.014, Training accuracy: 0.99, Test accuracy: 0.41\n"
          ]
        },
        {
          "metadata": {
            "tags": null
          },
          "name": "stderr",
          "output_type": "stream",
          "text": [
            "Epoch 98: 100%|██████████| 45/45 [00:30<00:00,  1.45it/s, loss=0.00688]\n"
          ]
        },
        {
          "metadata": {
            "tags": null
          },
          "name": "stdout",
          "output_type": "stream",
          "text": [
            "Epoch 98 - Training loss: 0.015, Training accuracy: 0.99, Test accuracy: 0.41\n"
          ]
        },
        {
          "metadata": {
            "tags": null
          },
          "name": "stderr",
          "output_type": "stream",
          "text": [
            "Epoch 99: 100%|██████████| 45/45 [00:30<00:00,  1.45it/s, loss=0.00614]\n"
          ]
        },
        {
          "metadata": {
            "tags": null
          },
          "name": "stdout",
          "output_type": "stream",
          "text": [
            "Epoch 99 - Training loss: 0.014, Training accuracy: 1.00, Test accuracy: 0.41\n"
          ]
        },
        {
          "metadata": {
            "tags": null
          },
          "name": "stderr",
          "output_type": "stream",
          "text": [
            "Epoch 100: 100%|██████████| 45/45 [00:30<00:00,  1.45it/s, loss=0.00673]\n"
          ]
        },
        {
          "metadata": {
            "tags": null
          },
          "name": "stdout",
          "output_type": "stream",
          "text": [
            "Epoch 100 - Training loss: 0.015, Training accuracy: 0.99, Test accuracy: 0.41\n"
          ]
        },
        {
          "metadata": {
            "tags": null
          },
          "name": "stderr",
          "output_type": "stream",
          "text": [
            "Epoch 101: 100%|██████████| 45/45 [00:30<00:00,  1.45it/s, loss=0.00515]\n"
          ]
        },
        {
          "metadata": {
            "tags": null
          },
          "name": "stdout",
          "output_type": "stream",
          "text": [
            "Epoch 101 - Training loss: 0.012, Training accuracy: 1.00, Test accuracy: 0.41\n"
          ]
        },
        {
          "metadata": {
            "tags": null
          },
          "name": "stderr",
          "output_type": "stream",
          "text": [
            "Epoch 102: 100%|██████████| 45/45 [00:31<00:00,  1.45it/s, loss=0.00511]\n"
          ]
        },
        {
          "metadata": {
            "tags": null
          },
          "name": "stdout",
          "output_type": "stream",
          "text": [
            "Epoch 102 - Training loss: 0.012, Training accuracy: 1.00, Test accuracy: 0.40\n"
          ]
        },
        {
          "metadata": {
            "tags": null
          },
          "name": "stderr",
          "output_type": "stream",
          "text": [
            "Epoch 103: 100%|██████████| 45/45 [00:30<00:00,  1.45it/s, loss=0.00538]\n"
          ]
        },
        {
          "metadata": {
            "tags": null
          },
          "name": "stdout",
          "output_type": "stream",
          "text": [
            "Epoch 103 - Training loss: 0.012, Training accuracy: 0.99, Test accuracy: 0.40\n"
          ]
        },
        {
          "metadata": {
            "tags": null
          },
          "name": "stderr",
          "output_type": "stream",
          "text": [
            "Epoch 104: 100%|██████████| 45/45 [00:30<00:00,  1.45it/s, loss=0.00549]\n"
          ]
        },
        {
          "metadata": {
            "tags": null
          },
          "name": "stdout",
          "output_type": "stream",
          "text": [
            "Epoch 104 - Training loss: 0.013, Training accuracy: 0.99, Test accuracy: 0.41\n"
          ]
        },
        {
          "metadata": {
            "tags": null
          },
          "name": "stderr",
          "output_type": "stream",
          "text": [
            "Epoch 105: 100%|██████████| 45/45 [00:31<00:00,  1.45it/s, loss=0.00522]\n"
          ]
        },
        {
          "metadata": {
            "tags": null
          },
          "name": "stdout",
          "output_type": "stream",
          "text": [
            "Epoch 105 - Training loss: 0.012, Training accuracy: 0.99, Test accuracy: 0.41\n"
          ]
        },
        {
          "metadata": {
            "tags": null
          },
          "name": "stderr",
          "output_type": "stream",
          "text": [
            "Epoch 106: 100%|██████████| 45/45 [00:30<00:00,  1.45it/s, loss=0.00549]\n"
          ]
        },
        {
          "metadata": {
            "tags": null
          },
          "name": "stdout",
          "output_type": "stream",
          "text": [
            "Epoch 106 - Training loss: 0.013, Training accuracy: 0.99, Test accuracy: 0.41\n"
          ]
        },
        {
          "metadata": {
            "tags": null
          },
          "name": "stderr",
          "output_type": "stream",
          "text": [
            "Epoch 107: 100%|██████████| 45/45 [00:30<00:00,  1.45it/s, loss=0.00547]\n"
          ]
        },
        {
          "metadata": {
            "tags": null
          },
          "name": "stdout",
          "output_type": "stream",
          "text": [
            "Epoch 107 - Training loss: 0.013, Training accuracy: 0.99, Test accuracy: 0.41\n"
          ]
        },
        {
          "metadata": {
            "tags": null
          },
          "name": "stderr",
          "output_type": "stream",
          "text": [
            "Epoch 108: 100%|██████████| 45/45 [00:30<00:00,  1.45it/s, loss=0.0049]\n"
          ]
        },
        {
          "metadata": {
            "tags": null
          },
          "name": "stdout",
          "output_type": "stream",
          "text": [
            "Epoch 108 - Training loss: 0.012, Training accuracy: 1.00, Test accuracy: 0.41\n"
          ]
        },
        {
          "metadata": {
            "tags": null
          },
          "name": "stderr",
          "output_type": "stream",
          "text": [
            "Epoch 109: 100%|██████████| 45/45 [00:31<00:00,  1.45it/s, loss=0.00471]\n"
          ]
        },
        {
          "metadata": {
            "tags": null
          },
          "name": "stdout",
          "output_type": "stream",
          "text": [
            "Epoch 109 - Training loss: 0.011, Training accuracy: 0.99, Test accuracy: 0.41\n"
          ]
        },
        {
          "metadata": {
            "tags": null
          },
          "name": "stderr",
          "output_type": "stream",
          "text": [
            "Epoch 110: 100%|██████████| 45/45 [00:30<00:00,  1.45it/s, loss=0.00431]\n"
          ]
        },
        {
          "metadata": {
            "tags": null
          },
          "name": "stdout",
          "output_type": "stream",
          "text": [
            "Epoch 110 - Training loss: 0.011, Training accuracy: 1.00, Test accuracy: 0.41\n"
          ]
        },
        {
          "metadata": {
            "tags": null
          },
          "name": "stderr",
          "output_type": "stream",
          "text": [
            "Epoch 111: 100%|██████████| 45/45 [00:30<00:00,  1.45it/s, loss=0.00451]\n"
          ]
        },
        {
          "metadata": {
            "tags": null
          },
          "name": "stdout",
          "output_type": "stream",
          "text": [
            "Epoch 111 - Training loss: 0.011, Training accuracy: 1.00, Test accuracy: 0.41\n"
          ]
        },
        {
          "metadata": {
            "tags": null
          },
          "name": "stderr",
          "output_type": "stream",
          "text": [
            "Epoch 112: 100%|██████████| 45/45 [00:31<00:00,  1.45it/s, loss=0.00447]\n"
          ]
        },
        {
          "metadata": {
            "tags": null
          },
          "name": "stdout",
          "output_type": "stream",
          "text": [
            "Epoch 112 - Training loss: 0.011, Training accuracy: 1.00, Test accuracy: 0.41\n"
          ]
        },
        {
          "metadata": {
            "tags": null
          },
          "name": "stderr",
          "output_type": "stream",
          "text": [
            "Epoch 113: 100%|██████████| 45/45 [00:30<00:00,  1.45it/s, loss=0.00477]\n"
          ]
        },
        {
          "metadata": {
            "tags": null
          },
          "name": "stdout",
          "output_type": "stream",
          "text": [
            "Epoch 113 - Training loss: 0.012, Training accuracy: 0.99, Test accuracy: 0.41\n"
          ]
        },
        {
          "metadata": {
            "tags": null
          },
          "name": "stderr",
          "output_type": "stream",
          "text": [
            "Epoch 114: 100%|██████████| 45/45 [00:30<00:00,  1.45it/s, loss=0.00485]\n"
          ]
        },
        {
          "metadata": {
            "tags": null
          },
          "name": "stdout",
          "output_type": "stream",
          "text": [
            "Epoch 114 - Training loss: 0.012, Training accuracy: 1.00, Test accuracy: 0.41\n"
          ]
        },
        {
          "metadata": {
            "tags": null
          },
          "name": "stderr",
          "output_type": "stream",
          "text": [
            "Epoch 115: 100%|██████████| 45/45 [00:30<00:00,  1.45it/s, loss=0.00421]\n"
          ]
        },
        {
          "metadata": {
            "tags": null
          },
          "name": "stdout",
          "output_type": "stream",
          "text": [
            "Epoch 115 - Training loss: 0.011, Training accuracy: 1.00, Test accuracy: 0.41\n"
          ]
        },
        {
          "metadata": {
            "tags": null
          },
          "name": "stderr",
          "output_type": "stream",
          "text": [
            "Epoch 116: 100%|██████████| 45/45 [00:30<00:00,  1.45it/s, loss=0.00399]\n"
          ]
        },
        {
          "metadata": {
            "tags": null
          },
          "name": "stdout",
          "output_type": "stream",
          "text": [
            "Epoch 116 - Training loss: 0.010, Training accuracy: 1.00, Test accuracy: 0.40\n"
          ]
        },
        {
          "metadata": {
            "tags": null
          },
          "name": "stderr",
          "output_type": "stream",
          "text": [
            "Epoch 117: 100%|██████████| 45/45 [00:30<00:00,  1.45it/s, loss=0.00429]\n"
          ]
        },
        {
          "metadata": {
            "tags": null
          },
          "name": "stdout",
          "output_type": "stream",
          "text": [
            "Epoch 117 - Training loss: 0.011, Training accuracy: 0.99, Test accuracy: 0.40\n"
          ]
        },
        {
          "metadata": {
            "tags": null
          },
          "name": "stderr",
          "output_type": "stream",
          "text": [
            "Epoch 118: 100%|██████████| 45/45 [00:31<00:00,  1.45it/s, loss=0.00399]\n"
          ]
        },
        {
          "metadata": {
            "tags": null
          },
          "name": "stdout",
          "output_type": "stream",
          "text": [
            "Epoch 118 - Training loss: 0.010, Training accuracy: 0.99, Test accuracy: 0.41\n"
          ]
        },
        {
          "metadata": {
            "tags": null
          },
          "name": "stderr",
          "output_type": "stream",
          "text": [
            "Epoch 119: 100%|██████████| 45/45 [00:30<00:00,  1.45it/s, loss=0.00414]\n"
          ]
        },
        {
          "metadata": {
            "tags": null
          },
          "name": "stdout",
          "output_type": "stream",
          "text": [
            "Epoch 119 - Training loss: 0.011, Training accuracy: 0.99, Test accuracy: 0.42\n"
          ]
        },
        {
          "metadata": {
            "tags": null
          },
          "name": "stderr",
          "output_type": "stream",
          "text": [
            "Epoch 120: 100%|██████████| 45/45 [00:30<00:00,  1.45it/s, loss=0.00408]\n"
          ]
        },
        {
          "metadata": {
            "tags": null
          },
          "name": "stdout",
          "output_type": "stream",
          "text": [
            "Epoch 120 - Training loss: 0.011, Training accuracy: 0.99, Test accuracy: 0.41\n"
          ]
        },
        {
          "metadata": {
            "tags": null
          },
          "name": "stderr",
          "output_type": "stream",
          "text": [
            "Epoch 121: 100%|██████████| 45/45 [00:30<00:00,  1.45it/s, loss=0.00426]\n"
          ]
        },
        {
          "metadata": {
            "tags": null
          },
          "name": "stdout",
          "output_type": "stream",
          "text": [
            "Epoch 121 - Training loss: 0.011, Training accuracy: 0.99, Test accuracy: 0.42\n"
          ]
        },
        {
          "metadata": {
            "tags": null
          },
          "name": "stderr",
          "output_type": "stream",
          "text": [
            "Epoch 122: 100%|██████████| 45/45 [00:30<00:00,  1.45it/s, loss=0.00362]\n"
          ]
        },
        {
          "metadata": {
            "tags": null
          },
          "name": "stdout",
          "output_type": "stream",
          "text": [
            "Epoch 122 - Training loss: 0.010, Training accuracy: 1.00, Test accuracy: 0.42\n"
          ]
        },
        {
          "metadata": {
            "tags": null
          },
          "name": "stderr",
          "output_type": "stream",
          "text": [
            "Epoch 123: 100%|██████████| 45/45 [00:31<00:00,  1.45it/s, loss=0.00452]\n"
          ]
        },
        {
          "metadata": {
            "tags": null
          },
          "name": "stdout",
          "output_type": "stream",
          "text": [
            "Epoch 123 - Training loss: 0.012, Training accuracy: 0.99, Test accuracy: 0.41\n"
          ]
        },
        {
          "metadata": {
            "tags": null
          },
          "name": "stderr",
          "output_type": "stream",
          "text": [
            "Epoch 124: 100%|██████████| 45/45 [00:30<00:00,  1.45it/s, loss=0.00358]\n"
          ]
        },
        {
          "metadata": {
            "tags": null
          },
          "name": "stdout",
          "output_type": "stream",
          "text": [
            "Epoch 124 - Training loss: 0.010, Training accuracy: 1.00, Test accuracy: 0.41\n"
          ]
        },
        {
          "metadata": {
            "tags": null
          },
          "name": "stderr",
          "output_type": "stream",
          "text": [
            "Epoch 125: 100%|██████████| 45/45 [00:31<00:00,  1.45it/s, loss=0.00387]\n"
          ]
        },
        {
          "metadata": {
            "tags": null
          },
          "name": "stdout",
          "output_type": "stream",
          "text": [
            "Epoch 125 - Training loss: 0.011, Training accuracy: 0.99, Test accuracy: 0.41\n"
          ]
        },
        {
          "metadata": {
            "tags": null
          },
          "name": "stderr",
          "output_type": "stream",
          "text": [
            "Epoch 126: 100%|██████████| 45/45 [00:30<00:00,  1.45it/s, loss=0.00384]\n"
          ]
        },
        {
          "metadata": {
            "tags": null
          },
          "name": "stdout",
          "output_type": "stream",
          "text": [
            "Epoch 126 - Training loss: 0.011, Training accuracy: 0.99, Test accuracy: 0.41\n"
          ]
        },
        {
          "metadata": {
            "tags": null
          },
          "name": "stderr",
          "output_type": "stream",
          "text": [
            "Epoch 127: 100%|██████████| 45/45 [00:30<00:00,  1.45it/s, loss=0.00406]\n"
          ]
        },
        {
          "metadata": {
            "tags": null
          },
          "name": "stdout",
          "output_type": "stream",
          "text": [
            "Epoch 127 - Training loss: 0.011, Training accuracy: 1.00, Test accuracy: 0.41\n"
          ]
        },
        {
          "metadata": {
            "tags": null
          },
          "name": "stderr",
          "output_type": "stream",
          "text": [
            "Epoch 128: 100%|██████████| 45/45 [00:30<00:00,  1.45it/s, loss=0.00373]\n"
          ]
        },
        {
          "metadata": {
            "tags": null
          },
          "name": "stdout",
          "output_type": "stream",
          "text": [
            "Epoch 128 - Training loss: 0.011, Training accuracy: 1.00, Test accuracy: 0.41\n"
          ]
        },
        {
          "metadata": {
            "tags": null
          },
          "name": "stderr",
          "output_type": "stream",
          "text": [
            "Epoch 129: 100%|██████████| 45/45 [00:30<00:00,  1.45it/s, loss=0.00359]\n"
          ]
        },
        {
          "metadata": {
            "tags": null
          },
          "name": "stdout",
          "output_type": "stream",
          "text": [
            "Epoch 129 - Training loss: 0.010, Training accuracy: 1.00, Test accuracy: 0.41\n"
          ]
        },
        {
          "metadata": {
            "tags": null
          },
          "name": "stderr",
          "output_type": "stream",
          "text": [
            "Epoch 130: 100%|██████████| 45/45 [00:30<00:00,  1.45it/s, loss=0.00387]\n"
          ]
        },
        {
          "metadata": {
            "tags": null
          },
          "name": "stdout",
          "output_type": "stream",
          "text": [
            "Epoch 130 - Training loss: 0.011, Training accuracy: 0.99, Test accuracy: 0.41\n"
          ]
        },
        {
          "metadata": {
            "tags": null
          },
          "name": "stderr",
          "output_type": "stream",
          "text": [
            "Epoch 131: 100%|██████████| 45/45 [00:30<00:00,  1.45it/s, loss=0.00393]\n"
          ]
        },
        {
          "metadata": {
            "tags": null
          },
          "name": "stdout",
          "output_type": "stream",
          "text": [
            "Epoch 131 - Training loss: 0.011, Training accuracy: 0.99, Test accuracy: 0.40\n"
          ]
        },
        {
          "metadata": {
            "tags": null
          },
          "name": "stderr",
          "output_type": "stream",
          "text": [
            "Epoch 132: 100%|██████████| 45/45 [00:30<00:00,  1.45it/s, loss=0.00357]\n"
          ]
        },
        {
          "metadata": {
            "tags": null
          },
          "name": "stdout",
          "output_type": "stream",
          "text": [
            "Epoch 132 - Training loss: 0.010, Training accuracy: 0.99, Test accuracy: 0.40\n"
          ]
        },
        {
          "metadata": {
            "tags": null
          },
          "name": "stderr",
          "output_type": "stream",
          "text": [
            "Epoch 133: 100%|██████████| 45/45 [00:30<00:00,  1.45it/s, loss=0.00318]\n"
          ]
        },
        {
          "metadata": {
            "tags": null
          },
          "name": "stdout",
          "output_type": "stream",
          "text": [
            "Epoch 133 - Training loss: 0.009, Training accuracy: 1.00, Test accuracy: 0.41\n"
          ]
        },
        {
          "metadata": {
            "tags": null
          },
          "name": "stderr",
          "output_type": "stream",
          "text": [
            "Epoch 134: 100%|██████████| 45/45 [00:30<00:00,  1.45it/s, loss=0.0035]\n"
          ]
        },
        {
          "metadata": {
            "tags": null
          },
          "name": "stdout",
          "output_type": "stream",
          "text": [
            "Epoch 134 - Training loss: 0.010, Training accuracy: 1.00, Test accuracy: 0.40\n"
          ]
        },
        {
          "metadata": {
            "tags": null
          },
          "name": "stderr",
          "output_type": "stream",
          "text": [
            "Epoch 135: 100%|██████████| 45/45 [00:31<00:00,  1.45it/s, loss=0.00336]\n"
          ]
        },
        {
          "metadata": {
            "tags": null
          },
          "name": "stdout",
          "output_type": "stream",
          "text": [
            "Epoch 135 - Training loss: 0.010, Training accuracy: 0.99, Test accuracy: 0.41\n"
          ]
        },
        {
          "metadata": {
            "tags": null
          },
          "name": "stderr",
          "output_type": "stream",
          "text": [
            "Epoch 136: 100%|██████████| 45/45 [00:30<00:00,  1.45it/s, loss=0.00337]\n"
          ]
        },
        {
          "metadata": {
            "tags": null
          },
          "name": "stdout",
          "output_type": "stream",
          "text": [
            "Epoch 136 - Training loss: 0.010, Training accuracy: 0.99, Test accuracy: 0.40\n"
          ]
        },
        {
          "metadata": {
            "tags": null
          },
          "name": "stderr",
          "output_type": "stream",
          "text": [
            "Epoch 137: 100%|██████████| 45/45 [00:30<00:00,  1.45it/s, loss=0.00382]\n"
          ]
        },
        {
          "metadata": {
            "tags": null
          },
          "name": "stdout",
          "output_type": "stream",
          "text": [
            "Epoch 137 - Training loss: 0.012, Training accuracy: 0.99, Test accuracy: 0.41\n"
          ]
        },
        {
          "metadata": {
            "tags": null
          },
          "name": "stderr",
          "output_type": "stream",
          "text": [
            "Epoch 138: 100%|██████████| 45/45 [00:30<00:00,  1.45it/s, loss=0.00301]\n"
          ]
        },
        {
          "metadata": {
            "tags": null
          },
          "name": "stdout",
          "output_type": "stream",
          "text": [
            "Epoch 138 - Training loss: 0.009, Training accuracy: 1.00, Test accuracy: 0.41\n"
          ]
        },
        {
          "metadata": {
            "tags": null
          },
          "name": "stderr",
          "output_type": "stream",
          "text": [
            "Epoch 139: 100%|██████████| 45/45 [00:30<00:00,  1.45it/s, loss=0.00319]\n"
          ]
        },
        {
          "metadata": {
            "tags": null
          },
          "name": "stdout",
          "output_type": "stream",
          "text": [
            "Epoch 139 - Training loss: 0.010, Training accuracy: 0.99, Test accuracy: 0.41\n"
          ]
        },
        {
          "metadata": {
            "tags": null
          },
          "name": "stderr",
          "output_type": "stream",
          "text": [
            "Epoch 140: 100%|██████████| 45/45 [00:31<00:00,  1.45it/s, loss=0.00372]\n"
          ]
        },
        {
          "metadata": {
            "tags": null
          },
          "name": "stdout",
          "output_type": "stream",
          "text": [
            "Epoch 140 - Training loss: 0.012, Training accuracy: 0.99, Test accuracy: 0.41\n"
          ]
        },
        {
          "metadata": {
            "tags": null
          },
          "name": "stderr",
          "output_type": "stream",
          "text": [
            "Epoch 141: 100%|██████████| 45/45 [00:30<00:00,  1.45it/s, loss=0.00335]\n"
          ]
        },
        {
          "metadata": {
            "tags": null
          },
          "name": "stdout",
          "output_type": "stream",
          "text": [
            "Epoch 141 - Training loss: 0.010, Training accuracy: 0.99, Test accuracy: 0.40\n"
          ]
        },
        {
          "metadata": {
            "tags": null
          },
          "name": "stderr",
          "output_type": "stream",
          "text": [
            "Epoch 142: 100%|██████████| 45/45 [00:30<00:00,  1.45it/s, loss=0.00366]\n"
          ]
        },
        {
          "metadata": {
            "tags": null
          },
          "name": "stdout",
          "output_type": "stream",
          "text": [
            "Epoch 142 - Training loss: 0.012, Training accuracy: 0.99, Test accuracy: 0.41\n"
          ]
        },
        {
          "metadata": {
            "tags": null
          },
          "name": "stderr",
          "output_type": "stream",
          "text": [
            "Epoch 143: 100%|██████████| 45/45 [00:30<00:00,  1.45it/s, loss=0.00259]\n"
          ]
        },
        {
          "metadata": {
            "tags": null
          },
          "name": "stdout",
          "output_type": "stream",
          "text": [
            "Epoch 143 - Training loss: 0.008, Training accuracy: 1.00, Test accuracy: 0.41\n"
          ]
        },
        {
          "metadata": {
            "tags": null
          },
          "name": "stderr",
          "output_type": "stream",
          "text": [
            "Epoch 144: 100%|██████████| 45/45 [00:30<00:00,  1.45it/s, loss=0.00351]\n"
          ]
        },
        {
          "metadata": {
            "tags": null
          },
          "name": "stdout",
          "output_type": "stream",
          "text": [
            "Epoch 144 - Training loss: 0.011, Training accuracy: 0.99, Test accuracy: 0.41\n"
          ]
        },
        {
          "metadata": {
            "tags": null
          },
          "name": "stderr",
          "output_type": "stream",
          "text": [
            "Epoch 145: 100%|██████████| 45/45 [00:30<00:00,  1.45it/s, loss=0.0028]\n"
          ]
        },
        {
          "metadata": {
            "tags": null
          },
          "name": "stdout",
          "output_type": "stream",
          "text": [
            "Epoch 145 - Training loss: 0.009, Training accuracy: 1.00, Test accuracy: 0.40\n"
          ]
        },
        {
          "metadata": {
            "tags": null
          },
          "name": "stderr",
          "output_type": "stream",
          "text": [
            "Epoch 146: 100%|██████████| 45/45 [00:30<00:00,  1.45it/s, loss=0.00307]\n"
          ]
        },
        {
          "metadata": {
            "tags": null
          },
          "name": "stdout",
          "output_type": "stream",
          "text": [
            "Epoch 146 - Training loss: 0.010, Training accuracy: 0.99, Test accuracy: 0.41\n"
          ]
        },
        {
          "metadata": {
            "tags": null
          },
          "name": "stderr",
          "output_type": "stream",
          "text": [
            "Epoch 147: 100%|██████████| 45/45 [00:30<00:00,  1.45it/s, loss=0.00272]\n"
          ]
        },
        {
          "metadata": {
            "tags": null
          },
          "name": "stdout",
          "output_type": "stream",
          "text": [
            "Epoch 147 - Training loss: 0.009, Training accuracy: 1.00, Test accuracy: 0.40\n"
          ]
        },
        {
          "metadata": {
            "tags": null
          },
          "name": "stderr",
          "output_type": "stream",
          "text": [
            "Epoch 148: 100%|██████████| 45/45 [00:30<00:00,  1.45it/s, loss=0.00282]\n"
          ]
        },
        {
          "metadata": {
            "tags": null
          },
          "name": "stdout",
          "output_type": "stream",
          "text": [
            "Epoch 148 - Training loss: 0.009, Training accuracy: 0.99, Test accuracy: 0.41\n"
          ]
        },
        {
          "metadata": {
            "tags": null
          },
          "name": "stderr",
          "output_type": "stream",
          "text": [
            "Epoch 149: 100%|██████████| 45/45 [00:30<00:00,  1.45it/s, loss=0.00271]\n"
          ]
        },
        {
          "metadata": {
            "tags": null
          },
          "name": "stdout",
          "output_type": "stream",
          "text": [
            "Epoch 149 - Training loss: 0.009, Training accuracy: 1.00, Test accuracy: 0.40\n"
          ]
        },
        {
          "metadata": {
            "tags": null
          },
          "name": "stderr",
          "output_type": "stream",
          "text": [
            "Epoch 150: 100%|██████████| 45/45 [00:30<00:00,  1.45it/s, loss=0.00283]\n"
          ]
        },
        {
          "metadata": {
            "tags": null
          },
          "name": "stdout",
          "output_type": "stream",
          "text": [
            "Epoch 150 - Training loss: 0.009, Training accuracy: 0.99, Test accuracy: 0.41\n"
          ]
        },
        {
          "metadata": {
            "tags": null
          },
          "name": "stderr",
          "output_type": "stream",
          "text": [
            "Epoch 151: 100%|██████████| 45/45 [00:31<00:00,  1.45it/s, loss=0.00316]\n"
          ]
        },
        {
          "metadata": {
            "tags": null
          },
          "name": "stdout",
          "output_type": "stream",
          "text": [
            "Epoch 151 - Training loss: 0.011, Training accuracy: 0.99, Test accuracy: 0.42\n"
          ]
        },
        {
          "metadata": {
            "tags": null
          },
          "name": "stderr",
          "output_type": "stream",
          "text": [
            "Epoch 152: 100%|██████████| 45/45 [00:30<00:00,  1.45it/s, loss=0.0029]\n"
          ]
        },
        {
          "metadata": {
            "tags": null
          },
          "name": "stdout",
          "output_type": "stream",
          "text": [
            "Epoch 152 - Training loss: 0.010, Training accuracy: 1.00, Test accuracy: 0.41\n"
          ]
        },
        {
          "metadata": {
            "tags": null
          },
          "name": "stderr",
          "output_type": "stream",
          "text": [
            "Epoch 153: 100%|██████████| 45/45 [00:31<00:00,  1.45it/s, loss=0.00295]\n"
          ]
        },
        {
          "metadata": {
            "tags": null
          },
          "name": "stdout",
          "output_type": "stream",
          "text": [
            "Epoch 153 - Training loss: 0.010, Training accuracy: 0.99, Test accuracy: 0.41\n"
          ]
        },
        {
          "metadata": {
            "tags": null
          },
          "name": "stderr",
          "output_type": "stream",
          "text": [
            "Epoch 154: 100%|██████████| 45/45 [00:30<00:00,  1.45it/s, loss=0.003]\n"
          ]
        },
        {
          "metadata": {
            "tags": null
          },
          "name": "stdout",
          "output_type": "stream",
          "text": [
            "Epoch 154 - Training loss: 0.010, Training accuracy: 0.99, Test accuracy: 0.40\n"
          ]
        },
        {
          "metadata": {
            "tags": null
          },
          "name": "stderr",
          "output_type": "stream",
          "text": [
            "Epoch 155: 100%|██████████| 45/45 [00:30<00:00,  1.45it/s, loss=0.00279]\n"
          ]
        },
        {
          "metadata": {
            "tags": null
          },
          "name": "stdout",
          "output_type": "stream",
          "text": [
            "Epoch 155 - Training loss: 0.010, Training accuracy: 0.99, Test accuracy: 0.41\n"
          ]
        },
        {
          "metadata": {
            "tags": null
          },
          "name": "stderr",
          "output_type": "stream",
          "text": [
            "Epoch 156: 100%|██████████| 45/45 [00:31<00:00,  1.45it/s, loss=0.00267]\n"
          ]
        },
        {
          "metadata": {
            "tags": null
          },
          "name": "stdout",
          "output_type": "stream",
          "text": [
            "Epoch 156 - Training loss: 0.009, Training accuracy: 0.99, Test accuracy: 0.41\n"
          ]
        },
        {
          "metadata": {
            "tags": null
          },
          "name": "stderr",
          "output_type": "stream",
          "text": [
            "Epoch 157: 100%|██████████| 45/45 [00:30<00:00,  1.45it/s, loss=0.00336]\n"
          ]
        },
        {
          "metadata": {
            "tags": null
          },
          "name": "stdout",
          "output_type": "stream",
          "text": [
            "Epoch 157 - Training loss: 0.012, Training accuracy: 0.99, Test accuracy: 0.41\n"
          ]
        },
        {
          "metadata": {
            "tags": null
          },
          "name": "stderr",
          "output_type": "stream",
          "text": [
            "Epoch 158: 100%|██████████| 45/45 [00:30<00:00,  1.45it/s, loss=0.00308]\n"
          ]
        },
        {
          "metadata": {
            "tags": null
          },
          "name": "stdout",
          "output_type": "stream",
          "text": [
            "Epoch 158 - Training loss: 0.011, Training accuracy: 0.99, Test accuracy: 0.40\n"
          ]
        },
        {
          "metadata": {
            "tags": null
          },
          "name": "stderr",
          "output_type": "stream",
          "text": [
            "Epoch 159: 100%|██████████| 45/45 [00:30<00:00,  1.45it/s, loss=0.00285]\n"
          ]
        },
        {
          "metadata": {
            "tags": null
          },
          "name": "stdout",
          "output_type": "stream",
          "text": [
            "Epoch 159 - Training loss: 0.010, Training accuracy: 0.99, Test accuracy: 0.40\n"
          ]
        },
        {
          "metadata": {
            "tags": null
          },
          "name": "stderr",
          "output_type": "stream",
          "text": [
            "Epoch 160: 100%|██████████| 45/45 [00:30<00:00,  1.45it/s, loss=0.00271]\n"
          ]
        },
        {
          "metadata": {
            "tags": null
          },
          "name": "stdout",
          "output_type": "stream",
          "text": [
            "Epoch 160 - Training loss: 0.010, Training accuracy: 1.00, Test accuracy: 0.41\n"
          ]
        },
        {
          "metadata": {
            "tags": null
          },
          "name": "stderr",
          "output_type": "stream",
          "text": [
            "Epoch 161: 100%|██████████| 45/45 [00:31<00:00,  1.45it/s, loss=0.00269]\n"
          ]
        },
        {
          "metadata": {
            "tags": null
          },
          "name": "stdout",
          "output_type": "stream",
          "text": [
            "Epoch 161 - Training loss: 0.010, Training accuracy: 0.99, Test accuracy: 0.41\n"
          ]
        },
        {
          "metadata": {
            "tags": null
          },
          "name": "stderr",
          "output_type": "stream",
          "text": [
            "Epoch 162: 100%|██████████| 45/45 [00:30<00:00,  1.45it/s, loss=0.00274]\n"
          ]
        },
        {
          "metadata": {
            "tags": null
          },
          "name": "stdout",
          "output_type": "stream",
          "text": [
            "Epoch 162 - Training loss: 0.010, Training accuracy: 0.99, Test accuracy: 0.42\n"
          ]
        },
        {
          "metadata": {
            "tags": null
          },
          "name": "stderr",
          "output_type": "stream",
          "text": [
            "Epoch 163: 100%|██████████| 45/45 [00:30<00:00,  1.45it/s, loss=0.00247]\n"
          ]
        },
        {
          "metadata": {
            "tags": null
          },
          "name": "stdout",
          "output_type": "stream",
          "text": [
            "Epoch 163 - Training loss: 0.009, Training accuracy: 0.99, Test accuracy: 0.40\n"
          ]
        },
        {
          "metadata": {
            "tags": null
          },
          "name": "stderr",
          "output_type": "stream",
          "text": [
            "Epoch 164: 100%|██████████| 45/45 [00:30<00:00,  1.45it/s, loss=0.00229]\n"
          ]
        },
        {
          "metadata": {
            "tags": null
          },
          "name": "stdout",
          "output_type": "stream",
          "text": [
            "Epoch 164 - Training loss: 0.008, Training accuracy: 0.99, Test accuracy: 0.41\n"
          ]
        },
        {
          "metadata": {
            "tags": null
          },
          "name": "stderr",
          "output_type": "stream",
          "text": [
            "Epoch 165: 100%|██████████| 45/45 [00:30<00:00,  1.45it/s, loss=0.00271]\n"
          ]
        },
        {
          "metadata": {
            "tags": null
          },
          "name": "stdout",
          "output_type": "stream",
          "text": [
            "Epoch 165 - Training loss: 0.010, Training accuracy: 0.99, Test accuracy: 0.41\n"
          ]
        },
        {
          "metadata": {
            "tags": null
          },
          "name": "stderr",
          "output_type": "stream",
          "text": [
            "Epoch 166: 100%|██████████| 45/45 [00:30<00:00,  1.45it/s, loss=0.00273]\n"
          ]
        },
        {
          "metadata": {
            "tags": null
          },
          "name": "stdout",
          "output_type": "stream",
          "text": [
            "Epoch 166 - Training loss: 0.010, Training accuracy: 0.99, Test accuracy: 0.42\n"
          ]
        },
        {
          "metadata": {
            "tags": null
          },
          "name": "stderr",
          "output_type": "stream",
          "text": [
            "Epoch 167: 100%|██████████| 45/45 [00:30<00:00,  1.45it/s, loss=0.00255]\n"
          ]
        },
        {
          "metadata": {
            "tags": null
          },
          "name": "stdout",
          "output_type": "stream",
          "text": [
            "Epoch 167 - Training loss: 0.009, Training accuracy: 1.00, Test accuracy: 0.42\n"
          ]
        },
        {
          "metadata": {
            "tags": null
          },
          "name": "stderr",
          "output_type": "stream",
          "text": [
            "Epoch 168: 100%|██████████| 45/45 [00:31<00:00,  1.45it/s, loss=0.00261]\n"
          ]
        },
        {
          "metadata": {
            "tags": null
          },
          "name": "stdout",
          "output_type": "stream",
          "text": [
            "Epoch 168 - Training loss: 0.010, Training accuracy: 0.99, Test accuracy: 0.42\n"
          ]
        },
        {
          "metadata": {
            "tags": null
          },
          "name": "stderr",
          "output_type": "stream",
          "text": [
            "Epoch 169: 100%|██████████| 45/45 [00:30<00:00,  1.45it/s, loss=0.00231]\n"
          ]
        },
        {
          "metadata": {
            "tags": null
          },
          "name": "stdout",
          "output_type": "stream",
          "text": [
            "Epoch 169 - Training loss: 0.009, Training accuracy: 1.00, Test accuracy: 0.42\n"
          ]
        },
        {
          "metadata": {
            "tags": null
          },
          "name": "stderr",
          "output_type": "stream",
          "text": [
            "Epoch 170: 100%|██████████| 45/45 [00:30<00:00,  1.45it/s, loss=0.00183]\n"
          ]
        },
        {
          "metadata": {
            "tags": null
          },
          "name": "stdout",
          "output_type": "stream",
          "text": [
            "Epoch 170 - Training loss: 0.007, Training accuracy: 1.00, Test accuracy: 0.42\n"
          ]
        },
        {
          "metadata": {
            "tags": null
          },
          "name": "stderr",
          "output_type": "stream",
          "text": [
            "Epoch 171: 100%|██████████| 45/45 [00:30<00:00,  1.45it/s, loss=0.00234]\n"
          ]
        },
        {
          "metadata": {
            "tags": null
          },
          "name": "stdout",
          "output_type": "stream",
          "text": [
            "Epoch 171 - Training loss: 0.009, Training accuracy: 0.99, Test accuracy: 0.41\n"
          ]
        },
        {
          "metadata": {
            "tags": null
          },
          "name": "stderr",
          "output_type": "stream",
          "text": [
            "Epoch 172: 100%|██████████| 45/45 [00:31<00:00,  1.45it/s, loss=0.00236]\n"
          ]
        },
        {
          "metadata": {
            "tags": null
          },
          "name": "stdout",
          "output_type": "stream",
          "text": [
            "Epoch 172 - Training loss: 0.009, Training accuracy: 0.99, Test accuracy: 0.42\n"
          ]
        },
        {
          "metadata": {
            "tags": null
          },
          "name": "stderr",
          "output_type": "stream",
          "text": [
            "Epoch 173: 100%|██████████| 45/45 [00:30<00:00,  1.45it/s, loss=0.00216]\n"
          ]
        },
        {
          "metadata": {
            "tags": null
          },
          "name": "stdout",
          "output_type": "stream",
          "text": [
            "Epoch 173 - Training loss: 0.008, Training accuracy: 1.00, Test accuracy: 0.42\n"
          ]
        },
        {
          "metadata": {
            "tags": null
          },
          "name": "stderr",
          "output_type": "stream",
          "text": [
            "Epoch 174: 100%|██████████| 45/45 [00:30<00:00,  1.45it/s, loss=0.00248]\n"
          ]
        },
        {
          "metadata": {
            "tags": null
          },
          "name": "stdout",
          "output_type": "stream",
          "text": [
            "Epoch 174 - Training loss: 0.010, Training accuracy: 0.99, Test accuracy: 0.41\n"
          ]
        },
        {
          "metadata": {
            "tags": null
          },
          "name": "stderr",
          "output_type": "stream",
          "text": [
            "Epoch 175: 100%|██████████| 45/45 [00:31<00:00,  1.45it/s, loss=0.00217]\n"
          ]
        },
        {
          "metadata": {
            "tags": null
          },
          "name": "stdout",
          "output_type": "stream",
          "text": [
            "Epoch 175 - Training loss: 0.008, Training accuracy: 0.99, Test accuracy: 0.41\n"
          ]
        },
        {
          "metadata": {
            "tags": null
          },
          "name": "stderr",
          "output_type": "stream",
          "text": [
            "Epoch 176: 100%|██████████| 45/45 [00:31<00:00,  1.45it/s, loss=0.00212]\n"
          ]
        },
        {
          "metadata": {
            "tags": null
          },
          "name": "stdout",
          "output_type": "stream",
          "text": [
            "Epoch 176 - Training loss: 0.008, Training accuracy: 1.00, Test accuracy: 0.41\n"
          ]
        },
        {
          "metadata": {
            "tags": null
          },
          "name": "stderr",
          "output_type": "stream",
          "text": [
            "Epoch 177: 100%|██████████| 45/45 [00:30<00:00,  1.45it/s, loss=0.00247]\n"
          ]
        },
        {
          "metadata": {
            "tags": null
          },
          "name": "stdout",
          "output_type": "stream",
          "text": [
            "Epoch 177 - Training loss: 0.010, Training accuracy: 0.99, Test accuracy: 0.41\n"
          ]
        },
        {
          "metadata": {
            "tags": null
          },
          "name": "stderr",
          "output_type": "stream",
          "text": [
            "Epoch 178: 100%|██████████| 45/45 [00:30<00:00,  1.45it/s, loss=0.00212]\n"
          ]
        },
        {
          "metadata": {
            "tags": null
          },
          "name": "stdout",
          "output_type": "stream",
          "text": [
            "Epoch 178 - Training loss: 0.008, Training accuracy: 1.00, Test accuracy: 0.41\n"
          ]
        },
        {
          "metadata": {
            "tags": null
          },
          "name": "stderr",
          "output_type": "stream",
          "text": [
            "Epoch 179: 100%|██████████| 45/45 [00:30<00:00,  1.45it/s, loss=0.00243]\n"
          ]
        },
        {
          "metadata": {
            "tags": null
          },
          "name": "stdout",
          "output_type": "stream",
          "text": [
            "Epoch 179 - Training loss: 0.010, Training accuracy: 0.99, Test accuracy: 0.41\n"
          ]
        },
        {
          "metadata": {
            "tags": null
          },
          "name": "stderr",
          "output_type": "stream",
          "text": [
            "Epoch 180: 100%|██████████| 45/45 [00:30<00:00,  1.45it/s, loss=0.00228]\n"
          ]
        },
        {
          "metadata": {
            "tags": null
          },
          "name": "stdout",
          "output_type": "stream",
          "text": [
            "Epoch 180 - Training loss: 0.009, Training accuracy: 0.99, Test accuracy: 0.42\n"
          ]
        },
        {
          "metadata": {
            "tags": null
          },
          "name": "stderr",
          "output_type": "stream",
          "text": [
            "Epoch 181: 100%|██████████| 45/45 [00:30<00:00,  1.45it/s, loss=0.0022]\n"
          ]
        },
        {
          "metadata": {
            "tags": null
          },
          "name": "stdout",
          "output_type": "stream",
          "text": [
            "Epoch 181 - Training loss: 0.009, Training accuracy: 1.00, Test accuracy: 0.42\n"
          ]
        },
        {
          "metadata": {
            "tags": null
          },
          "name": "stderr",
          "output_type": "stream",
          "text": [
            "Epoch 182: 100%|██████████| 45/45 [00:30<00:00,  1.45it/s, loss=0.00226]\n"
          ]
        },
        {
          "metadata": {
            "tags": null
          },
          "name": "stdout",
          "output_type": "stream",
          "text": [
            "Epoch 182 - Training loss: 0.009, Training accuracy: 0.99, Test accuracy: 0.42\n"
          ]
        },
        {
          "metadata": {
            "tags": null
          },
          "name": "stderr",
          "output_type": "stream",
          "text": [
            "Epoch 183: 100%|██████████| 45/45 [00:31<00:00,  1.45it/s, loss=0.0018]\n"
          ]
        },
        {
          "metadata": {
            "tags": null
          },
          "name": "stdout",
          "output_type": "stream",
          "text": [
            "Epoch 183 - Training loss: 0.007, Training accuracy: 1.00, Test accuracy: 0.41\n"
          ]
        },
        {
          "metadata": {
            "tags": null
          },
          "name": "stderr",
          "output_type": "stream",
          "text": [
            "Epoch 184: 100%|██████████| 45/45 [00:30<00:00,  1.45it/s, loss=0.00256]\n"
          ]
        },
        {
          "metadata": {
            "tags": null
          },
          "name": "stdout",
          "output_type": "stream",
          "text": [
            "Epoch 184 - Training loss: 0.010, Training accuracy: 0.99, Test accuracy: 0.42\n"
          ]
        },
        {
          "metadata": {
            "tags": null
          },
          "name": "stderr",
          "output_type": "stream",
          "text": [
            "Epoch 185: 100%|██████████| 45/45 [00:30<00:00,  1.45it/s, loss=0.00206]\n"
          ]
        },
        {
          "metadata": {
            "tags": null
          },
          "name": "stdout",
          "output_type": "stream",
          "text": [
            "Epoch 185 - Training loss: 0.008, Training accuracy: 1.00, Test accuracy: 0.41\n"
          ]
        },
        {
          "metadata": {
            "tags": null
          },
          "name": "stderr",
          "output_type": "stream",
          "text": [
            "Epoch 186: 100%|██████████| 45/45 [00:30<00:00,  1.45it/s, loss=0.00221]\n"
          ]
        },
        {
          "metadata": {
            "tags": null
          },
          "name": "stdout",
          "output_type": "stream",
          "text": [
            "Epoch 186 - Training loss: 0.009, Training accuracy: 0.99, Test accuracy: 0.41\n"
          ]
        },
        {
          "metadata": {
            "tags": null
          },
          "name": "stderr",
          "output_type": "stream",
          "text": [
            "Epoch 187: 100%|██████████| 45/45 [00:30<00:00,  1.45it/s, loss=0.00221]\n"
          ]
        },
        {
          "metadata": {
            "tags": null
          },
          "name": "stdout",
          "output_type": "stream",
          "text": [
            "Epoch 187 - Training loss: 0.009, Training accuracy: 0.99, Test accuracy: 0.42\n"
          ]
        },
        {
          "metadata": {
            "tags": null
          },
          "name": "stderr",
          "output_type": "stream",
          "text": [
            "Epoch 188: 100%|██████████| 45/45 [00:30<00:00,  1.45it/s, loss=0.00169]\n"
          ]
        },
        {
          "metadata": {
            "tags": null
          },
          "name": "stdout",
          "output_type": "stream",
          "text": [
            "Epoch 188 - Training loss: 0.007, Training accuracy: 1.00, Test accuracy: 0.41\n"
          ]
        },
        {
          "metadata": {
            "tags": null
          },
          "name": "stderr",
          "output_type": "stream",
          "text": [
            "Epoch 189: 100%|██████████| 45/45 [00:30<00:00,  1.45it/s, loss=0.00173]\n"
          ]
        },
        {
          "metadata": {
            "tags": null
          },
          "name": "stdout",
          "output_type": "stream",
          "text": [
            "Epoch 189 - Training loss: 0.007, Training accuracy: 1.00, Test accuracy: 0.41\n"
          ]
        },
        {
          "metadata": {
            "tags": null
          },
          "name": "stderr",
          "output_type": "stream",
          "text": [
            "Epoch 190: 100%|██████████| 45/45 [00:30<00:00,  1.45it/s, loss=0.00194]\n"
          ]
        },
        {
          "metadata": {
            "tags": null
          },
          "name": "stdout",
          "output_type": "stream",
          "text": [
            "Epoch 190 - Training loss: 0.008, Training accuracy: 1.00, Test accuracy: 0.42\n"
          ]
        },
        {
          "metadata": {
            "tags": null
          },
          "name": "stderr",
          "output_type": "stream",
          "text": [
            "Epoch 191: 100%|██████████| 45/45 [00:30<00:00,  1.45it/s, loss=0.00187]\n"
          ]
        },
        {
          "metadata": {
            "tags": null
          },
          "name": "stdout",
          "output_type": "stream",
          "text": [
            "Epoch 191 - Training loss: 0.008, Training accuracy: 1.00, Test accuracy: 0.41\n"
          ]
        },
        {
          "metadata": {
            "tags": null
          },
          "name": "stderr",
          "output_type": "stream",
          "text": [
            "Epoch 192: 100%|██████████| 45/45 [00:31<00:00,  1.45it/s, loss=0.0024]\n"
          ]
        },
        {
          "metadata": {
            "tags": null
          },
          "name": "stdout",
          "output_type": "stream",
          "text": [
            "Epoch 192 - Training loss: 0.010, Training accuracy: 0.99, Test accuracy: 0.42\n"
          ]
        },
        {
          "metadata": {
            "tags": null
          },
          "name": "stderr",
          "output_type": "stream",
          "text": [
            "Epoch 193: 100%|██████████| 45/45 [00:30<00:00,  1.45it/s, loss=0.00186]\n"
          ]
        },
        {
          "metadata": {
            "tags": null
          },
          "name": "stdout",
          "output_type": "stream",
          "text": [
            "Epoch 193 - Training loss: 0.008, Training accuracy: 0.99, Test accuracy: 0.41\n"
          ]
        },
        {
          "metadata": {
            "tags": null
          },
          "name": "stderr",
          "output_type": "stream",
          "text": [
            "Epoch 194: 100%|██████████| 45/45 [00:30<00:00,  1.45it/s, loss=0.00192]\n"
          ]
        },
        {
          "metadata": {
            "tags": null
          },
          "name": "stdout",
          "output_type": "stream",
          "text": [
            "Epoch 194 - Training loss: 0.008, Training accuracy: 0.99, Test accuracy: 0.42\n"
          ]
        },
        {
          "metadata": {
            "tags": null
          },
          "name": "stderr",
          "output_type": "stream",
          "text": [
            "Epoch 195: 100%|██████████| 45/45 [00:30<00:00,  1.45it/s, loss=0.00213]\n"
          ]
        },
        {
          "metadata": {
            "tags": null
          },
          "name": "stdout",
          "output_type": "stream",
          "text": [
            "Epoch 195 - Training loss: 0.009, Training accuracy: 1.00, Test accuracy: 0.41\n"
          ]
        },
        {
          "metadata": {
            "tags": null
          },
          "name": "stderr",
          "output_type": "stream",
          "text": [
            "Epoch 196: 100%|██████████| 45/45 [00:30<00:00,  1.45it/s, loss=0.00205]\n"
          ]
        },
        {
          "metadata": {
            "tags": null
          },
          "name": "stdout",
          "output_type": "stream",
          "text": [
            "Epoch 196 - Training loss: 0.009, Training accuracy: 1.00, Test accuracy: 0.41\n"
          ]
        },
        {
          "metadata": {
            "tags": null
          },
          "name": "stderr",
          "output_type": "stream",
          "text": [
            "Epoch 197: 100%|██████████| 45/45 [00:30<00:00,  1.45it/s, loss=0.00186]\n"
          ]
        },
        {
          "metadata": {
            "tags": null
          },
          "name": "stdout",
          "output_type": "stream",
          "text": [
            "Epoch 197 - Training loss: 0.008, Training accuracy: 0.99, Test accuracy: 0.41\n"
          ]
        },
        {
          "metadata": {
            "tags": null
          },
          "name": "stderr",
          "output_type": "stream",
          "text": [
            "Epoch 198: 100%|██████████| 45/45 [00:31<00:00,  1.45it/s, loss=0.00205]\n"
          ]
        },
        {
          "metadata": {
            "tags": null
          },
          "name": "stdout",
          "output_type": "stream",
          "text": [
            "Epoch 198 - Training loss: 0.009, Training accuracy: 0.99, Test accuracy: 0.41\n"
          ]
        },
        {
          "metadata": {
            "tags": null
          },
          "name": "stderr",
          "output_type": "stream",
          "text": [
            "Epoch 199: 100%|██████████| 45/45 [00:30<00:00,  1.45it/s, loss=0.00207]\n"
          ]
        },
        {
          "metadata": {
            "tags": null
          },
          "name": "stdout",
          "output_type": "stream",
          "text": [
            "Epoch 199 - Training loss: 0.009, Training accuracy: 0.99, Test accuracy: 0.41\n"
          ]
        },
        {
          "metadata": {
            "tags": null
          },
          "name": "stderr",
          "output_type": "stream",
          "text": [
            "Epoch 200: 100%|██████████| 45/45 [00:30<00:00,  1.45it/s, loss=0.002]\n"
          ]
        },
        {
          "metadata": {
            "tags": null
          },
          "name": "stdout",
          "output_type": "stream",
          "text": [
            "Epoch 200 - Training loss: 0.009, Training accuracy: 0.99, Test accuracy: 0.41\n"
          ]
        },
        {
          "metadata": {
            "tags": null
          },
          "name": "stderr",
          "output_type": "stream",
          "text": [
            "Epoch 201: 100%|██████████| 45/45 [00:30<00:00,  1.45it/s, loss=0.00167]\n"
          ]
        },
        {
          "metadata": {
            "tags": null
          },
          "name": "stdout",
          "output_type": "stream",
          "text": [
            "Epoch 201 - Training loss: 0.007, Training accuracy: 1.00, Test accuracy: 0.41\n"
          ]
        },
        {
          "metadata": {
            "tags": null
          },
          "name": "stderr",
          "output_type": "stream",
          "text": [
            "Epoch 202: 100%|██████████| 45/45 [00:30<00:00,  1.45it/s, loss=0.00191]\n"
          ]
        },
        {
          "metadata": {
            "tags": null
          },
          "name": "stdout",
          "output_type": "stream",
          "text": [
            "Epoch 202 - Training loss: 0.009, Training accuracy: 1.00, Test accuracy: 0.42\n"
          ]
        },
        {
          "metadata": {
            "tags": null
          },
          "name": "stderr",
          "output_type": "stream",
          "text": [
            "Epoch 203: 100%|██████████| 45/45 [00:30<00:00,  1.45it/s, loss=0.00195]\n"
          ]
        },
        {
          "metadata": {
            "tags": null
          },
          "name": "stdout",
          "output_type": "stream",
          "text": [
            "Epoch 203 - Training loss: 0.009, Training accuracy: 1.00, Test accuracy: 0.42\n"
          ]
        },
        {
          "metadata": {
            "tags": null
          },
          "name": "stderr",
          "output_type": "stream",
          "text": [
            "Epoch 204: 100%|██████████| 45/45 [00:31<00:00,  1.45it/s, loss=0.00224]\n"
          ]
        },
        {
          "metadata": {
            "tags": null
          },
          "name": "stdout",
          "output_type": "stream",
          "text": [
            "Epoch 204 - Training loss: 0.010, Training accuracy: 0.99, Test accuracy: 0.42\n"
          ]
        },
        {
          "metadata": {
            "tags": null
          },
          "name": "stderr",
          "output_type": "stream",
          "text": [
            "Epoch 205: 100%|██████████| 45/45 [00:31<00:00,  1.45it/s, loss=0.00183]\n"
          ]
        },
        {
          "metadata": {
            "tags": null
          },
          "name": "stdout",
          "output_type": "stream",
          "text": [
            "Epoch 205 - Training loss: 0.008, Training accuracy: 1.00, Test accuracy: 0.42\n"
          ]
        },
        {
          "metadata": {
            "tags": null
          },
          "name": "stderr",
          "output_type": "stream",
          "text": [
            "Epoch 206: 100%|██████████| 45/45 [00:30<00:00,  1.45it/s, loss=0.0019]\n"
          ]
        },
        {
          "metadata": {
            "tags": null
          },
          "name": "stdout",
          "output_type": "stream",
          "text": [
            "Epoch 206 - Training loss: 0.009, Training accuracy: 1.00, Test accuracy: 0.42\n"
          ]
        },
        {
          "metadata": {
            "tags": null
          },
          "name": "stderr",
          "output_type": "stream",
          "text": [
            "Epoch 207: 100%|██████████| 45/45 [00:30<00:00,  1.45it/s, loss=0.0017]\n"
          ]
        },
        {
          "metadata": {
            "tags": null
          },
          "name": "stdout",
          "output_type": "stream",
          "text": [
            "Epoch 207 - Training loss: 0.008, Training accuracy: 1.00, Test accuracy: 0.42\n"
          ]
        },
        {
          "metadata": {
            "tags": null
          },
          "name": "stderr",
          "output_type": "stream",
          "text": [
            "Epoch 208: 100%|██████████| 45/45 [00:31<00:00,  1.45it/s, loss=0.00175]\n"
          ]
        },
        {
          "metadata": {
            "tags": null
          },
          "name": "stdout",
          "output_type": "stream",
          "text": [
            "Epoch 208 - Training loss: 0.008, Training accuracy: 1.00, Test accuracy: 0.41\n"
          ]
        },
        {
          "metadata": {
            "tags": null
          },
          "name": "stderr",
          "output_type": "stream",
          "text": [
            "Epoch 209: 100%|██████████| 45/45 [00:30<00:00,  1.45it/s, loss=0.00183]\n"
          ]
        },
        {
          "metadata": {
            "tags": null
          },
          "name": "stdout",
          "output_type": "stream",
          "text": [
            "Epoch 209 - Training loss: 0.009, Training accuracy: 0.99, Test accuracy: 0.42\n"
          ]
        },
        {
          "metadata": {
            "tags": null
          },
          "name": "stderr",
          "output_type": "stream",
          "text": [
            "Epoch 210: 100%|██████████| 45/45 [00:30<00:00,  1.45it/s, loss=0.00166]\n"
          ]
        },
        {
          "metadata": {
            "tags": null
          },
          "name": "stdout",
          "output_type": "stream",
          "text": [
            "Epoch 210 - Training loss: 0.008, Training accuracy: 1.00, Test accuracy: 0.41\n"
          ]
        },
        {
          "metadata": {
            "tags": null
          },
          "name": "stderr",
          "output_type": "stream",
          "text": [
            "Epoch 211: 100%|██████████| 45/45 [00:30<00:00,  1.46it/s, loss=0.00148]\n"
          ]
        },
        {
          "metadata": {
            "tags": null
          },
          "name": "stdout",
          "output_type": "stream",
          "text": [
            "Epoch 211 - Training loss: 0.007, Training accuracy: 1.00, Test accuracy: 0.42\n"
          ]
        },
        {
          "metadata": {
            "tags": null
          },
          "name": "stderr",
          "output_type": "stream",
          "text": [
            "Epoch 212: 100%|██████████| 45/45 [00:30<00:00,  1.45it/s, loss=0.00193]\n"
          ]
        },
        {
          "metadata": {
            "tags": null
          },
          "name": "stdout",
          "output_type": "stream",
          "text": [
            "Epoch 212 - Training loss: 0.009, Training accuracy: 0.99, Test accuracy: 0.42\n"
          ]
        },
        {
          "metadata": {
            "tags": null
          },
          "name": "stderr",
          "output_type": "stream",
          "text": [
            "Epoch 213: 100%|██████████| 45/45 [00:30<00:00,  1.45it/s, loss=0.00175]\n"
          ]
        },
        {
          "metadata": {
            "tags": null
          },
          "name": "stdout",
          "output_type": "stream",
          "text": [
            "Epoch 213 - Training loss: 0.008, Training accuracy: 0.99, Test accuracy: 0.42\n"
          ]
        },
        {
          "metadata": {
            "tags": null
          },
          "name": "stderr",
          "output_type": "stream",
          "text": [
            "Epoch 214: 100%|██████████| 45/45 [00:30<00:00,  1.46it/s, loss=0.00193]\n"
          ]
        },
        {
          "metadata": {
            "tags": null
          },
          "name": "stdout",
          "output_type": "stream",
          "text": [
            "Epoch 214 - Training loss: 0.009, Training accuracy: 1.00, Test accuracy: 0.42\n"
          ]
        },
        {
          "metadata": {
            "tags": null
          },
          "name": "stderr",
          "output_type": "stream",
          "text": [
            "Epoch 215: 100%|██████████| 45/45 [00:30<00:00,  1.46it/s, loss=0.00195]\n"
          ]
        },
        {
          "metadata": {
            "tags": null
          },
          "name": "stdout",
          "output_type": "stream",
          "text": [
            "Epoch 215 - Training loss: 0.009, Training accuracy: 0.99, Test accuracy: 0.41\n"
          ]
        },
        {
          "metadata": {
            "tags": null
          },
          "name": "stderr",
          "output_type": "stream",
          "text": [
            "Epoch 216: 100%|██████████| 45/45 [00:30<00:00,  1.46it/s, loss=0.00181]\n"
          ]
        },
        {
          "metadata": {
            "tags": null
          },
          "name": "stdout",
          "output_type": "stream",
          "text": [
            "Epoch 216 - Training loss: 0.009, Training accuracy: 0.99, Test accuracy: 0.42\n"
          ]
        },
        {
          "metadata": {
            "tags": null
          },
          "name": "stderr",
          "output_type": "stream",
          "text": [
            "Epoch 217: 100%|██████████| 45/45 [00:30<00:00,  1.46it/s, loss=0.00154]\n"
          ]
        },
        {
          "metadata": {
            "tags": null
          },
          "name": "stdout",
          "output_type": "stream",
          "text": [
            "Epoch 217 - Training loss: 0.007, Training accuracy: 1.00, Test accuracy: 0.41\n"
          ]
        },
        {
          "metadata": {
            "tags": null
          },
          "name": "stderr",
          "output_type": "stream",
          "text": [
            "Epoch 218: 100%|██████████| 45/45 [00:30<00:00,  1.46it/s, loss=0.0018]\n"
          ]
        },
        {
          "metadata": {
            "tags": null
          },
          "name": "stdout",
          "output_type": "stream",
          "text": [
            "Epoch 218 - Training loss: 0.009, Training accuracy: 0.99, Test accuracy: 0.42\n"
          ]
        },
        {
          "metadata": {
            "tags": null
          },
          "name": "stderr",
          "output_type": "stream",
          "text": [
            "Epoch 219: 100%|██████████| 45/45 [00:30<00:00,  1.46it/s, loss=0.00175]\n"
          ]
        },
        {
          "metadata": {
            "tags": null
          },
          "name": "stdout",
          "output_type": "stream",
          "text": [
            "Epoch 219 - Training loss: 0.009, Training accuracy: 0.99, Test accuracy: 0.41\n"
          ]
        },
        {
          "metadata": {
            "tags": null
          },
          "name": "stderr",
          "output_type": "stream",
          "text": [
            "Epoch 220: 100%|██████████| 45/45 [00:30<00:00,  1.46it/s, loss=0.00153]\n"
          ]
        },
        {
          "metadata": {
            "tags": null
          },
          "name": "stdout",
          "output_type": "stream",
          "text": [
            "Epoch 220 - Training loss: 0.007, Training accuracy: 1.00, Test accuracy: 0.42\n"
          ]
        },
        {
          "metadata": {
            "tags": null
          },
          "name": "stderr",
          "output_type": "stream",
          "text": [
            "Epoch 221: 100%|██████████| 45/45 [00:30<00:00,  1.46it/s, loss=0.00203]\n"
          ]
        },
        {
          "metadata": {
            "tags": null
          },
          "name": "stdout",
          "output_type": "stream",
          "text": [
            "Epoch 221 - Training loss: 0.010, Training accuracy: 0.99, Test accuracy: 0.41\n"
          ]
        },
        {
          "metadata": {
            "tags": null
          },
          "name": "stderr",
          "output_type": "stream",
          "text": [
            "Epoch 222: 100%|██████████| 45/45 [00:30<00:00,  1.46it/s, loss=0.00145]\n"
          ]
        },
        {
          "metadata": {
            "tags": null
          },
          "name": "stdout",
          "output_type": "stream",
          "text": [
            "Epoch 222 - Training loss: 0.007, Training accuracy: 1.00, Test accuracy: 0.41\n"
          ]
        },
        {
          "metadata": {
            "tags": null
          },
          "name": "stderr",
          "output_type": "stream",
          "text": [
            "Epoch 223: 100%|██████████| 45/45 [00:30<00:00,  1.46it/s, loss=0.00147]\n"
          ]
        },
        {
          "metadata": {
            "tags": null
          },
          "name": "stdout",
          "output_type": "stream",
          "text": [
            "Epoch 223 - Training loss: 0.007, Training accuracy: 1.00, Test accuracy: 0.41\n"
          ]
        },
        {
          "metadata": {
            "tags": null
          },
          "name": "stderr",
          "output_type": "stream",
          "text": [
            "Epoch 224: 100%|██████████| 45/45 [00:30<00:00,  1.46it/s, loss=0.00158]\n"
          ]
        },
        {
          "metadata": {
            "tags": null
          },
          "name": "stdout",
          "output_type": "stream",
          "text": [
            "Epoch 224 - Training loss: 0.008, Training accuracy: 1.00, Test accuracy: 0.41\n"
          ]
        },
        {
          "metadata": {
            "tags": null
          },
          "name": "stderr",
          "output_type": "stream",
          "text": [
            "Epoch 225: 100%|██████████| 45/45 [00:30<00:00,  1.46it/s, loss=0.00182]\n"
          ]
        },
        {
          "metadata": {
            "tags": null
          },
          "name": "stdout",
          "output_type": "stream",
          "text": [
            "Epoch 225 - Training loss: 0.009, Training accuracy: 0.99, Test accuracy: 0.42\n"
          ]
        },
        {
          "metadata": {
            "tags": null
          },
          "name": "stderr",
          "output_type": "stream",
          "text": [
            "Epoch 226: 100%|██████████| 45/45 [00:30<00:00,  1.46it/s, loss=0.00142]\n"
          ]
        },
        {
          "metadata": {
            "tags": null
          },
          "name": "stdout",
          "output_type": "stream",
          "text": [
            "Epoch 226 - Training loss: 0.007, Training accuracy: 1.00, Test accuracy: 0.42\n"
          ]
        },
        {
          "metadata": {
            "tags": null
          },
          "name": "stderr",
          "output_type": "stream",
          "text": [
            "Epoch 227: 100%|██████████| 45/45 [00:30<00:00,  1.46it/s, loss=0.0014]\n"
          ]
        },
        {
          "metadata": {
            "tags": null
          },
          "name": "stdout",
          "output_type": "stream",
          "text": [
            "Epoch 227 - Training loss: 0.007, Training accuracy: 1.00, Test accuracy: 0.42\n"
          ]
        },
        {
          "metadata": {
            "tags": null
          },
          "name": "stderr",
          "output_type": "stream",
          "text": [
            "Epoch 228: 100%|██████████| 45/45 [00:30<00:00,  1.46it/s, loss=0.0018]\n"
          ]
        },
        {
          "metadata": {
            "tags": null
          },
          "name": "stdout",
          "output_type": "stream",
          "text": [
            "Epoch 228 - Training loss: 0.009, Training accuracy: 0.99, Test accuracy: 0.42\n"
          ]
        },
        {
          "metadata": {
            "tags": null
          },
          "name": "stderr",
          "output_type": "stream",
          "text": [
            "Epoch 229: 100%|██████████| 45/45 [00:30<00:00,  1.46it/s, loss=0.00145]\n"
          ]
        },
        {
          "metadata": {
            "tags": null
          },
          "name": "stdout",
          "output_type": "stream",
          "text": [
            "Epoch 229 - Training loss: 0.007, Training accuracy: 1.00, Test accuracy: 0.41\n"
          ]
        },
        {
          "metadata": {
            "tags": null
          },
          "name": "stderr",
          "output_type": "stream",
          "text": [
            "Epoch 230: 100%|██████████| 45/45 [00:30<00:00,  1.46it/s, loss=0.00116]\n"
          ]
        },
        {
          "metadata": {
            "tags": null
          },
          "name": "stdout",
          "output_type": "stream",
          "text": [
            "Epoch 230 - Training loss: 0.006, Training accuracy: 1.00, Test accuracy: 0.41\n"
          ]
        },
        {
          "metadata": {
            "tags": null
          },
          "name": "stderr",
          "output_type": "stream",
          "text": [
            "Epoch 231: 100%|██████████| 45/45 [00:30<00:00,  1.46it/s, loss=0.00143]\n"
          ]
        },
        {
          "metadata": {
            "tags": null
          },
          "name": "stdout",
          "output_type": "stream",
          "text": [
            "Epoch 231 - Training loss: 0.007, Training accuracy: 1.00, Test accuracy: 0.41\n"
          ]
        },
        {
          "metadata": {
            "tags": null
          },
          "name": "stderr",
          "output_type": "stream",
          "text": [
            "Epoch 232: 100%|██████████| 45/45 [00:30<00:00,  1.46it/s, loss=0.00144]\n"
          ]
        },
        {
          "metadata": {
            "tags": null
          },
          "name": "stdout",
          "output_type": "stream",
          "text": [
            "Epoch 232 - Training loss: 0.007, Training accuracy: 1.00, Test accuracy: 0.42\n"
          ]
        },
        {
          "metadata": {
            "tags": null
          },
          "name": "stderr",
          "output_type": "stream",
          "text": [
            "Epoch 233: 100%|██████████| 45/45 [00:30<00:00,  1.46it/s, loss=0.00151]\n"
          ]
        },
        {
          "metadata": {
            "tags": null
          },
          "name": "stdout",
          "output_type": "stream",
          "text": [
            "Epoch 233 - Training loss: 0.008, Training accuracy: 1.00, Test accuracy: 0.41\n"
          ]
        },
        {
          "metadata": {
            "tags": null
          },
          "name": "stderr",
          "output_type": "stream",
          "text": [
            "Epoch 234: 100%|██████████| 45/45 [00:30<00:00,  1.46it/s, loss=0.0014]\n"
          ]
        },
        {
          "metadata": {
            "tags": null
          },
          "name": "stdout",
          "output_type": "stream",
          "text": [
            "Epoch 234 - Training loss: 0.007, Training accuracy: 1.00, Test accuracy: 0.42\n"
          ]
        },
        {
          "metadata": {
            "tags": null
          },
          "name": "stderr",
          "output_type": "stream",
          "text": [
            "Epoch 235: 100%|██████████| 45/45 [00:30<00:00,  1.46it/s, loss=0.00143]\n"
          ]
        },
        {
          "metadata": {
            "tags": null
          },
          "name": "stdout",
          "output_type": "stream",
          "text": [
            "Epoch 235 - Training loss: 0.007, Training accuracy: 0.99, Test accuracy: 0.42\n"
          ]
        },
        {
          "metadata": {
            "tags": null
          },
          "name": "stderr",
          "output_type": "stream",
          "text": [
            "Epoch 236: 100%|██████████| 45/45 [00:30<00:00,  1.46it/s, loss=0.0016]\n"
          ]
        },
        {
          "metadata": {
            "tags": null
          },
          "name": "stdout",
          "output_type": "stream",
          "text": [
            "Epoch 236 - Training loss: 0.008, Training accuracy: 0.99, Test accuracy: 0.42\n"
          ]
        },
        {
          "metadata": {
            "tags": null
          },
          "name": "stderr",
          "output_type": "stream",
          "text": [
            "Epoch 237: 100%|██████████| 45/45 [00:30<00:00,  1.46it/s, loss=0.00144]\n"
          ]
        },
        {
          "metadata": {
            "tags": null
          },
          "name": "stdout",
          "output_type": "stream",
          "text": [
            "Epoch 237 - Training loss: 0.008, Training accuracy: 1.00, Test accuracy: 0.42\n"
          ]
        },
        {
          "metadata": {
            "tags": null
          },
          "name": "stderr",
          "output_type": "stream",
          "text": [
            "Epoch 238: 100%|██████████| 45/45 [00:30<00:00,  1.47it/s, loss=0.00136]\n"
          ]
        },
        {
          "metadata": {
            "tags": null
          },
          "name": "stdout",
          "output_type": "stream",
          "text": [
            "Epoch 238 - Training loss: 0.007, Training accuracy: 0.99, Test accuracy: 0.41\n"
          ]
        },
        {
          "metadata": {
            "tags": null
          },
          "name": "stderr",
          "output_type": "stream",
          "text": [
            "Epoch 239: 100%|██████████| 45/45 [00:30<00:00,  1.46it/s, loss=0.00135]\n"
          ]
        },
        {
          "metadata": {
            "tags": null
          },
          "name": "stdout",
          "output_type": "stream",
          "text": [
            "Epoch 239 - Training loss: 0.007, Training accuracy: 1.00, Test accuracy: 0.41\n"
          ]
        },
        {
          "metadata": {
            "tags": null
          },
          "name": "stderr",
          "output_type": "stream",
          "text": [
            "Epoch 240: 100%|██████████| 45/45 [00:30<00:00,  1.46it/s, loss=0.00121]\n"
          ]
        },
        {
          "metadata": {
            "tags": null
          },
          "name": "stdout",
          "output_type": "stream",
          "text": [
            "Epoch 240 - Training loss: 0.006, Training accuracy: 1.00, Test accuracy: 0.41\n"
          ]
        },
        {
          "metadata": {
            "tags": null
          },
          "name": "stderr",
          "output_type": "stream",
          "text": [
            "Epoch 241: 100%|██████████| 45/45 [00:30<00:00,  1.46it/s, loss=0.00114]\n"
          ]
        },
        {
          "metadata": {
            "tags": null
          },
          "name": "stdout",
          "output_type": "stream",
          "text": [
            "Epoch 241 - Training loss: 0.006, Training accuracy: 1.00, Test accuracy: 0.41\n"
          ]
        },
        {
          "metadata": {
            "tags": null
          },
          "name": "stderr",
          "output_type": "stream",
          "text": [
            "Epoch 242: 100%|██████████| 45/45 [00:30<00:00,  1.46it/s, loss=0.00145]\n"
          ]
        },
        {
          "metadata": {
            "tags": null
          },
          "name": "stdout",
          "output_type": "stream",
          "text": [
            "Epoch 242 - Training loss: 0.008, Training accuracy: 0.99, Test accuracy: 0.41\n"
          ]
        },
        {
          "metadata": {
            "tags": null
          },
          "name": "stderr",
          "output_type": "stream",
          "text": [
            "Epoch 243: 100%|██████████| 45/45 [00:30<00:00,  1.46it/s, loss=0.00143]\n"
          ]
        },
        {
          "metadata": {
            "tags": null
          },
          "name": "stdout",
          "output_type": "stream",
          "text": [
            "Epoch 243 - Training loss: 0.008, Training accuracy: 1.00, Test accuracy: 0.41\n"
          ]
        },
        {
          "metadata": {
            "tags": null
          },
          "name": "stderr",
          "output_type": "stream",
          "text": [
            "Epoch 244: 100%|██████████| 45/45 [00:30<00:00,  1.46it/s, loss=0.00136]\n"
          ]
        },
        {
          "metadata": {
            "tags": null
          },
          "name": "stdout",
          "output_type": "stream",
          "text": [
            "Epoch 244 - Training loss: 0.007, Training accuracy: 1.00, Test accuracy: 0.41\n"
          ]
        },
        {
          "metadata": {
            "tags": null
          },
          "name": "stderr",
          "output_type": "stream",
          "text": [
            "Epoch 245: 100%|██████████| 45/45 [00:30<00:00,  1.46it/s, loss=0.00159]\n"
          ]
        },
        {
          "metadata": {
            "tags": null
          },
          "name": "stdout",
          "output_type": "stream",
          "text": [
            "Epoch 245 - Training loss: 0.009, Training accuracy: 0.99, Test accuracy: 0.41\n"
          ]
        },
        {
          "metadata": {
            "tags": null
          },
          "name": "stderr",
          "output_type": "stream",
          "text": [
            "Epoch 246: 100%|██████████| 45/45 [00:30<00:00,  1.46it/s, loss=0.00147]\n"
          ]
        },
        {
          "metadata": {
            "tags": null
          },
          "name": "stdout",
          "output_type": "stream",
          "text": [
            "Epoch 246 - Training loss: 0.008, Training accuracy: 0.99, Test accuracy: 0.42\n"
          ]
        },
        {
          "metadata": {
            "tags": null
          },
          "name": "stderr",
          "output_type": "stream",
          "text": [
            "Epoch 247: 100%|██████████| 45/45 [00:30<00:00,  1.46it/s, loss=0.00145]\n"
          ]
        },
        {
          "metadata": {
            "tags": null
          },
          "name": "stdout",
          "output_type": "stream",
          "text": [
            "Epoch 247 - Training loss: 0.008, Training accuracy: 1.00, Test accuracy: 0.42\n"
          ]
        },
        {
          "metadata": {
            "tags": null
          },
          "name": "stderr",
          "output_type": "stream",
          "text": [
            "Epoch 248: 100%|██████████| 45/45 [00:30<00:00,  1.46it/s, loss=0.00159]\n"
          ]
        },
        {
          "metadata": {
            "tags": null
          },
          "name": "stdout",
          "output_type": "stream",
          "text": [
            "Epoch 248 - Training loss: 0.009, Training accuracy: 1.00, Test accuracy: 0.42\n"
          ]
        },
        {
          "metadata": {
            "tags": null
          },
          "name": "stderr",
          "output_type": "stream",
          "text": [
            "Epoch 249: 100%|██████████| 45/45 [00:30<00:00,  1.46it/s, loss=0.00157]\n"
          ]
        },
        {
          "metadata": {
            "tags": null
          },
          "name": "stdout",
          "output_type": "stream",
          "text": [
            "Epoch 249 - Training loss: 0.009, Training accuracy: 0.99, Test accuracy: 0.43\n"
          ]
        },
        {
          "metadata": {
            "tags": null
          },
          "name": "stderr",
          "output_type": "stream",
          "text": [
            "Epoch 250: 100%|██████████| 45/45 [00:30<00:00,  1.46it/s, loss=0.00128]\n"
          ]
        },
        {
          "metadata": {
            "tags": null
          },
          "name": "stdout",
          "output_type": "stream",
          "text": [
            "Epoch 250 - Training loss: 0.007, Training accuracy: 1.00, Test accuracy: 0.42\n"
          ]
        },
        {
          "metadata": {
            "tags": null
          },
          "name": "stderr",
          "output_type": "stream",
          "text": [
            "Epoch 251: 100%|██████████| 45/45 [00:30<00:00,  1.46it/s, loss=0.00126]\n"
          ]
        },
        {
          "metadata": {
            "tags": null
          },
          "name": "stdout",
          "output_type": "stream",
          "text": [
            "Epoch 251 - Training loss: 0.007, Training accuracy: 1.00, Test accuracy: 0.42\n"
          ]
        },
        {
          "metadata": {
            "tags": null
          },
          "name": "stderr",
          "output_type": "stream",
          "text": [
            "Epoch 252: 100%|██████████| 45/45 [00:30<00:00,  1.46it/s, loss=0.00176]\n"
          ]
        },
        {
          "metadata": {
            "tags": null
          },
          "name": "stdout",
          "output_type": "stream",
          "text": [
            "Epoch 252 - Training loss: 0.010, Training accuracy: 0.99, Test accuracy: 0.41\n"
          ]
        },
        {
          "metadata": {
            "tags": null
          },
          "name": "stderr",
          "output_type": "stream",
          "text": [
            "Epoch 253: 100%|██████████| 45/45 [00:30<00:00,  1.46it/s, loss=0.00127]\n"
          ]
        },
        {
          "metadata": {
            "tags": null
          },
          "name": "stdout",
          "output_type": "stream",
          "text": [
            "Epoch 253 - Training loss: 0.007, Training accuracy: 1.00, Test accuracy: 0.41\n"
          ]
        },
        {
          "metadata": {
            "tags": null
          },
          "name": "stderr",
          "output_type": "stream",
          "text": [
            "Epoch 254: 100%|██████████| 45/45 [00:30<00:00,  1.45it/s, loss=0.00136]\n"
          ]
        },
        {
          "metadata": {
            "tags": null
          },
          "name": "stdout",
          "output_type": "stream",
          "text": [
            "Epoch 254 - Training loss: 0.008, Training accuracy: 1.00, Test accuracy: 0.42\n"
          ]
        },
        {
          "metadata": {
            "tags": null
          },
          "name": "stderr",
          "output_type": "stream",
          "text": [
            "Epoch 255: 100%|██████████| 45/45 [00:30<00:00,  1.46it/s, loss=0.00123]\n"
          ]
        },
        {
          "metadata": {
            "tags": null
          },
          "name": "stdout",
          "output_type": "stream",
          "text": [
            "Epoch 255 - Training loss: 0.007, Training accuracy: 1.00, Test accuracy: 0.42\n"
          ]
        },
        {
          "metadata": {
            "tags": null
          },
          "name": "stderr",
          "output_type": "stream",
          "text": [
            "Epoch 256: 100%|██████████| 45/45 [00:30<00:00,  1.46it/s, loss=0.0013]\n"
          ]
        },
        {
          "metadata": {
            "tags": null
          },
          "name": "stdout",
          "output_type": "stream",
          "text": [
            "Epoch 256 - Training loss: 0.007, Training accuracy: 1.00, Test accuracy: 0.42\n"
          ]
        },
        {
          "metadata": {
            "tags": null
          },
          "name": "stderr",
          "output_type": "stream",
          "text": [
            "Epoch 257: 100%|██████████| 45/45 [00:30<00:00,  1.46it/s, loss=0.00136]\n"
          ]
        },
        {
          "metadata": {
            "tags": null
          },
          "name": "stdout",
          "output_type": "stream",
          "text": [
            "Epoch 257 - Training loss: 0.008, Training accuracy: 1.00, Test accuracy: 0.41\n"
          ]
        },
        {
          "metadata": {
            "tags": null
          },
          "name": "stderr",
          "output_type": "stream",
          "text": [
            "Epoch 258: 100%|██████████| 45/45 [00:30<00:00,  1.46it/s, loss=0.00133]\n"
          ]
        },
        {
          "metadata": {
            "tags": null
          },
          "name": "stdout",
          "output_type": "stream",
          "text": [
            "Epoch 258 - Training loss: 0.008, Training accuracy: 0.99, Test accuracy: 0.41\n"
          ]
        },
        {
          "metadata": {
            "tags": null
          },
          "name": "stderr",
          "output_type": "stream",
          "text": [
            "Epoch 259: 100%|██████████| 45/45 [00:30<00:00,  1.46it/s, loss=0.00126]\n"
          ]
        },
        {
          "metadata": {
            "tags": null
          },
          "name": "stdout",
          "output_type": "stream",
          "text": [
            "Epoch 259 - Training loss: 0.007, Training accuracy: 1.00, Test accuracy: 0.41\n"
          ]
        },
        {
          "metadata": {
            "tags": null
          },
          "name": "stderr",
          "output_type": "stream",
          "text": [
            "Epoch 260: 100%|██████████| 45/45 [00:30<00:00,  1.46it/s, loss=0.0012]\n"
          ]
        },
        {
          "metadata": {
            "tags": null
          },
          "name": "stdout",
          "output_type": "stream",
          "text": [
            "Epoch 260 - Training loss: 0.007, Training accuracy: 1.00, Test accuracy: 0.42\n"
          ]
        },
        {
          "metadata": {
            "tags": null
          },
          "name": "stderr",
          "output_type": "stream",
          "text": [
            "Epoch 261: 100%|██████████| 45/45 [00:30<00:00,  1.46it/s, loss=0.00139]\n"
          ]
        },
        {
          "metadata": {
            "tags": null
          },
          "name": "stdout",
          "output_type": "stream",
          "text": [
            "Epoch 261 - Training loss: 0.008, Training accuracy: 1.00, Test accuracy: 0.42\n"
          ]
        },
        {
          "metadata": {
            "tags": null
          },
          "name": "stderr",
          "output_type": "stream",
          "text": [
            "Epoch 262: 100%|██████████| 45/45 [00:30<00:00,  1.46it/s, loss=0.00116]\n"
          ]
        },
        {
          "metadata": {
            "tags": null
          },
          "name": "stdout",
          "output_type": "stream",
          "text": [
            "Epoch 262 - Training loss: 0.007, Training accuracy: 1.00, Test accuracy: 0.42\n"
          ]
        },
        {
          "metadata": {
            "tags": null
          },
          "name": "stderr",
          "output_type": "stream",
          "text": [
            "Epoch 263: 100%|██████████| 45/45 [00:30<00:00,  1.46it/s, loss=0.0012]\n"
          ]
        },
        {
          "metadata": {
            "tags": null
          },
          "name": "stdout",
          "output_type": "stream",
          "text": [
            "Epoch 263 - Training loss: 0.007, Training accuracy: 1.00, Test accuracy: 0.42\n"
          ]
        },
        {
          "metadata": {
            "tags": null
          },
          "name": "stderr",
          "output_type": "stream",
          "text": [
            "Epoch 264: 100%|██████████| 45/45 [00:30<00:00,  1.46it/s, loss=0.00149]\n"
          ]
        },
        {
          "metadata": {
            "tags": null
          },
          "name": "stdout",
          "output_type": "stream",
          "text": [
            "Epoch 264 - Training loss: 0.009, Training accuracy: 0.99, Test accuracy: 0.42\n"
          ]
        },
        {
          "metadata": {
            "tags": null
          },
          "name": "stderr",
          "output_type": "stream",
          "text": [
            "Epoch 265: 100%|██████████| 45/45 [00:30<00:00,  1.46it/s, loss=0.00121]\n"
          ]
        },
        {
          "metadata": {
            "tags": null
          },
          "name": "stdout",
          "output_type": "stream",
          "text": [
            "Epoch 265 - Training loss: 0.007, Training accuracy: 1.00, Test accuracy: 0.41\n"
          ]
        },
        {
          "metadata": {
            "tags": null
          },
          "name": "stderr",
          "output_type": "stream",
          "text": [
            "Epoch 266: 100%|██████████| 45/45 [00:30<00:00,  1.46it/s, loss=0.00138]\n"
          ]
        },
        {
          "metadata": {
            "tags": null
          },
          "name": "stdout",
          "output_type": "stream",
          "text": [
            "Epoch 266 - Training loss: 0.008, Training accuracy: 0.99, Test accuracy: 0.42\n"
          ]
        },
        {
          "metadata": {
            "tags": null
          },
          "name": "stderr",
          "output_type": "stream",
          "text": [
            "Epoch 267: 100%|██████████| 45/45 [00:30<00:00,  1.46it/s, loss=0.00116]\n"
          ]
        },
        {
          "metadata": {
            "tags": null
          },
          "name": "stdout",
          "output_type": "stream",
          "text": [
            "Epoch 267 - Training loss: 0.007, Training accuracy: 1.00, Test accuracy: 0.42\n"
          ]
        },
        {
          "metadata": {
            "tags": null
          },
          "name": "stderr",
          "output_type": "stream",
          "text": [
            "Epoch 268: 100%|██████████| 45/45 [00:30<00:00,  1.46it/s, loss=0.0013]\n"
          ]
        },
        {
          "metadata": {
            "tags": null
          },
          "name": "stdout",
          "output_type": "stream",
          "text": [
            "Epoch 268 - Training loss: 0.008, Training accuracy: 0.99, Test accuracy: 0.42\n"
          ]
        },
        {
          "metadata": {
            "tags": null
          },
          "name": "stderr",
          "output_type": "stream",
          "text": [
            "Epoch 269: 100%|██████████| 45/45 [00:30<00:00,  1.46it/s, loss=0.00131]\n"
          ]
        },
        {
          "metadata": {
            "tags": null
          },
          "name": "stdout",
          "output_type": "stream",
          "text": [
            "Epoch 269 - Training loss: 0.008, Training accuracy: 0.99, Test accuracy: 0.41\n"
          ]
        },
        {
          "metadata": {
            "tags": null
          },
          "name": "stderr",
          "output_type": "stream",
          "text": [
            "Epoch 270: 100%|██████████| 45/45 [00:30<00:00,  1.46it/s, loss=0.00125]\n"
          ]
        },
        {
          "metadata": {
            "tags": null
          },
          "name": "stdout",
          "output_type": "stream",
          "text": [
            "Epoch 270 - Training loss: 0.007, Training accuracy: 1.00, Test accuracy: 0.43\n"
          ]
        },
        {
          "metadata": {
            "tags": null
          },
          "name": "stderr",
          "output_type": "stream",
          "text": [
            "Epoch 271: 100%|██████████| 45/45 [00:30<00:00,  1.46it/s, loss=0.00121]\n"
          ]
        },
        {
          "metadata": {
            "tags": null
          },
          "name": "stdout",
          "output_type": "stream",
          "text": [
            "Epoch 271 - Training loss: 0.007, Training accuracy: 0.99, Test accuracy: 0.42\n"
          ]
        },
        {
          "metadata": {
            "tags": null
          },
          "name": "stderr",
          "output_type": "stream",
          "text": [
            "Epoch 272: 100%|██████████| 45/45 [00:30<00:00,  1.46it/s, loss=0.0014]\n"
          ]
        },
        {
          "metadata": {
            "tags": null
          },
          "name": "stdout",
          "output_type": "stream",
          "text": [
            "Epoch 272 - Training loss: 0.008, Training accuracy: 0.99, Test accuracy: 0.41\n"
          ]
        },
        {
          "metadata": {
            "tags": null
          },
          "name": "stderr",
          "output_type": "stream",
          "text": [
            "Epoch 273: 100%|██████████| 45/45 [00:30<00:00,  1.46it/s, loss=0.00155]\n"
          ]
        },
        {
          "metadata": {
            "tags": null
          },
          "name": "stdout",
          "output_type": "stream",
          "text": [
            "Epoch 273 - Training loss: 0.009, Training accuracy: 0.99, Test accuracy: 0.40\n"
          ]
        },
        {
          "metadata": {
            "tags": null
          },
          "name": "stderr",
          "output_type": "stream",
          "text": [
            "Epoch 274: 100%|██████████| 45/45 [00:30<00:00,  1.46it/s, loss=0.00131]\n"
          ]
        },
        {
          "metadata": {
            "tags": null
          },
          "name": "stdout",
          "output_type": "stream",
          "text": [
            "Epoch 274 - Training loss: 0.008, Training accuracy: 0.99, Test accuracy: 0.41\n"
          ]
        },
        {
          "metadata": {
            "tags": null
          },
          "name": "stderr",
          "output_type": "stream",
          "text": [
            "Epoch 275: 100%|██████████| 45/45 [00:30<00:00,  1.46it/s, loss=0.00122]\n"
          ]
        },
        {
          "metadata": {
            "tags": null
          },
          "name": "stdout",
          "output_type": "stream",
          "text": [
            "Epoch 275 - Training loss: 0.007, Training accuracy: 1.00, Test accuracy: 0.41\n"
          ]
        },
        {
          "metadata": {
            "tags": null
          },
          "name": "stderr",
          "output_type": "stream",
          "text": [
            "Epoch 276: 100%|██████████| 45/45 [00:30<00:00,  1.46it/s, loss=0.00144]\n"
          ]
        },
        {
          "metadata": {
            "tags": null
          },
          "name": "stdout",
          "output_type": "stream",
          "text": [
            "Epoch 276 - Training loss: 0.009, Training accuracy: 0.99, Test accuracy: 0.41\n"
          ]
        },
        {
          "metadata": {
            "tags": null
          },
          "name": "stderr",
          "output_type": "stream",
          "text": [
            "Epoch 277: 100%|██████████| 45/45 [00:30<00:00,  1.46it/s, loss=0.00135]\n"
          ]
        },
        {
          "metadata": {
            "tags": null
          },
          "name": "stdout",
          "output_type": "stream",
          "text": [
            "Epoch 277 - Training loss: 0.008, Training accuracy: 1.00, Test accuracy: 0.42\n"
          ]
        },
        {
          "metadata": {
            "tags": null
          },
          "name": "stderr",
          "output_type": "stream",
          "text": [
            "Epoch 278: 100%|██████████| 45/45 [00:30<00:00,  1.46it/s, loss=0.00126]\n"
          ]
        },
        {
          "metadata": {
            "tags": null
          },
          "name": "stdout",
          "output_type": "stream",
          "text": [
            "Epoch 278 - Training loss: 0.008, Training accuracy: 0.99, Test accuracy: 0.43\n"
          ]
        },
        {
          "metadata": {
            "tags": null
          },
          "name": "stderr",
          "output_type": "stream",
          "text": [
            "Epoch 279: 100%|██████████| 45/45 [00:30<00:00,  1.46it/s, loss=0.00139]\n"
          ]
        },
        {
          "metadata": {
            "tags": null
          },
          "name": "stdout",
          "output_type": "stream",
          "text": [
            "Epoch 279 - Training loss: 0.009, Training accuracy: 0.99, Test accuracy: 0.42\n"
          ]
        },
        {
          "metadata": {
            "tags": null
          },
          "name": "stderr",
          "output_type": "stream",
          "text": [
            "Epoch 280: 100%|██████████| 45/45 [00:30<00:00,  1.46it/s, loss=0.0016]\n"
          ]
        },
        {
          "metadata": {
            "tags": null
          },
          "name": "stdout",
          "output_type": "stream",
          "text": [
            "Epoch 280 - Training loss: 0.010, Training accuracy: 0.99, Test accuracy: 0.42\n"
          ]
        },
        {
          "metadata": {
            "tags": null
          },
          "name": "stderr",
          "output_type": "stream",
          "text": [
            "Epoch 281: 100%|██████████| 45/45 [00:30<00:00,  1.46it/s, loss=0.00117]\n"
          ]
        },
        {
          "metadata": {
            "tags": null
          },
          "name": "stdout",
          "output_type": "stream",
          "text": [
            "Epoch 281 - Training loss: 0.007, Training accuracy: 1.00, Test accuracy: 0.42\n"
          ]
        },
        {
          "metadata": {
            "tags": null
          },
          "name": "stderr",
          "output_type": "stream",
          "text": [
            "Epoch 282: 100%|██████████| 45/45 [00:30<00:00,  1.46it/s, loss=0.00107]\n"
          ]
        },
        {
          "metadata": {
            "tags": null
          },
          "name": "stdout",
          "output_type": "stream",
          "text": [
            "Epoch 282 - Training loss: 0.007, Training accuracy: 1.00, Test accuracy: 0.43\n"
          ]
        },
        {
          "metadata": {
            "tags": null
          },
          "name": "stderr",
          "output_type": "stream",
          "text": [
            "Epoch 283: 100%|██████████| 45/45 [00:30<00:00,  1.46it/s, loss=0.00129]\n"
          ]
        },
        {
          "metadata": {
            "tags": null
          },
          "name": "stdout",
          "output_type": "stream",
          "text": [
            "Epoch 283 - Training loss: 0.008, Training accuracy: 0.99, Test accuracy: 0.42\n"
          ]
        },
        {
          "metadata": {
            "tags": null
          },
          "name": "stderr",
          "output_type": "stream",
          "text": [
            "Epoch 284: 100%|██████████| 45/45 [00:30<00:00,  1.46it/s, loss=0.00114]\n"
          ]
        },
        {
          "metadata": {
            "tags": null
          },
          "name": "stdout",
          "output_type": "stream",
          "text": [
            "Epoch 284 - Training loss: 0.007, Training accuracy: 0.99, Test accuracy: 0.42\n"
          ]
        },
        {
          "metadata": {
            "tags": null
          },
          "name": "stderr",
          "output_type": "stream",
          "text": [
            "Epoch 285: 100%|██████████| 45/45 [00:30<00:00,  1.46it/s, loss=0.00131]\n"
          ]
        },
        {
          "metadata": {
            "tags": null
          },
          "name": "stdout",
          "output_type": "stream",
          "text": [
            "Epoch 285 - Training loss: 0.008, Training accuracy: 0.99, Test accuracy: 0.43\n"
          ]
        },
        {
          "metadata": {
            "tags": null
          },
          "name": "stderr",
          "output_type": "stream",
          "text": [
            "Epoch 286: 100%|██████████| 45/45 [00:30<00:00,  1.46it/s, loss=0.00123]\n"
          ]
        },
        {
          "metadata": {
            "tags": null
          },
          "name": "stdout",
          "output_type": "stream",
          "text": [
            "Epoch 286 - Training loss: 0.008, Training accuracy: 1.00, Test accuracy: 0.43\n"
          ]
        },
        {
          "metadata": {
            "tags": null
          },
          "name": "stderr",
          "output_type": "stream",
          "text": [
            "Epoch 287: 100%|██████████| 45/45 [00:30<00:00,  1.46it/s, loss=0.00133]\n"
          ]
        },
        {
          "metadata": {
            "tags": null
          },
          "name": "stdout",
          "output_type": "stream",
          "text": [
            "Epoch 287 - Training loss: 0.008, Training accuracy: 1.00, Test accuracy: 0.42\n"
          ]
        },
        {
          "metadata": {
            "tags": null
          },
          "name": "stderr",
          "output_type": "stream",
          "text": [
            "Epoch 288: 100%|██████████| 45/45 [00:30<00:00,  1.46it/s, loss=0.00517]\n"
          ]
        },
        {
          "metadata": {
            "tags": null
          },
          "name": "stdout",
          "output_type": "stream",
          "text": [
            "Epoch 288 - Training loss: 0.033, Training accuracy: 0.99, Test accuracy: 0.43\n"
          ]
        },
        {
          "metadata": {
            "tags": null
          },
          "name": "stderr",
          "output_type": "stream",
          "text": [
            "Epoch 289: 100%|██████████| 45/45 [00:30<00:00,  1.46it/s, loss=0.00148]\n"
          ]
        },
        {
          "metadata": {
            "tags": null
          },
          "name": "stdout",
          "output_type": "stream",
          "text": [
            "Epoch 289 - Training loss: 0.010, Training accuracy: 1.00, Test accuracy: 0.43\n"
          ]
        },
        {
          "metadata": {
            "tags": null
          },
          "name": "stderr",
          "output_type": "stream",
          "text": [
            "Epoch 290: 100%|██████████| 45/45 [00:30<00:00,  1.46it/s, loss=0.00121]\n"
          ]
        },
        {
          "metadata": {
            "tags": null
          },
          "name": "stdout",
          "output_type": "stream",
          "text": [
            "Epoch 290 - Training loss: 0.008, Training accuracy: 1.00, Test accuracy: 0.43\n"
          ]
        },
        {
          "metadata": {
            "tags": null
          },
          "name": "stderr",
          "output_type": "stream",
          "text": [
            "Epoch 291: 100%|██████████| 45/45 [00:30<00:00,  1.46it/s, loss=0.00114]\n"
          ]
        },
        {
          "metadata": {
            "tags": null
          },
          "name": "stdout",
          "output_type": "stream",
          "text": [
            "Epoch 291 - Training loss: 0.007, Training accuracy: 1.00, Test accuracy: 0.43\n"
          ]
        },
        {
          "metadata": {
            "tags": null
          },
          "name": "stderr",
          "output_type": "stream",
          "text": [
            "Epoch 292: 100%|██████████| 45/45 [00:30<00:00,  1.46it/s, loss=0.001]\n"
          ]
        },
        {
          "metadata": {
            "tags": null
          },
          "name": "stdout",
          "output_type": "stream",
          "text": [
            "Epoch 292 - Training loss: 0.006, Training accuracy: 1.00, Test accuracy: 0.43\n"
          ]
        },
        {
          "metadata": {
            "tags": null
          },
          "name": "stderr",
          "output_type": "stream",
          "text": [
            "Epoch 293: 100%|██████████| 45/45 [00:30<00:00,  1.46it/s, loss=0.00126]\n"
          ]
        },
        {
          "metadata": {
            "tags": null
          },
          "name": "stdout",
          "output_type": "stream",
          "text": [
            "Epoch 293 - Training loss: 0.008, Training accuracy: 1.00, Test accuracy: 0.43\n"
          ]
        },
        {
          "metadata": {
            "tags": null
          },
          "name": "stderr",
          "output_type": "stream",
          "text": [
            "Epoch 294: 100%|██████████| 45/45 [00:30<00:00,  1.46it/s, loss=0.00331]\n"
          ]
        },
        {
          "metadata": {
            "tags": null
          },
          "name": "stdout",
          "output_type": "stream",
          "text": [
            "Epoch 294 - Training loss: 0.022, Training accuracy: 0.99, Test accuracy: 0.40\n"
          ]
        },
        {
          "metadata": {
            "tags": null
          },
          "name": "stderr",
          "output_type": "stream",
          "text": [
            "Epoch 295: 100%|██████████| 45/45 [00:30<00:00,  1.46it/s, loss=0.00713]\n"
          ]
        },
        {
          "metadata": {
            "tags": null
          },
          "name": "stdout",
          "output_type": "stream",
          "text": [
            "Epoch 295 - Training loss: 0.047, Training accuracy: 0.98, Test accuracy: 0.39\n"
          ]
        },
        {
          "metadata": {
            "tags": null
          },
          "name": "stderr",
          "output_type": "stream",
          "text": [
            "Epoch 296: 100%|██████████| 45/45 [00:30<00:00,  1.46it/s, loss=0.00317]\n"
          ]
        },
        {
          "metadata": {
            "tags": null
          },
          "name": "stdout",
          "output_type": "stream",
          "text": [
            "Epoch 296 - Training loss: 0.021, Training accuracy: 0.99, Test accuracy: 0.41\n"
          ]
        },
        {
          "metadata": {
            "tags": null
          },
          "name": "stderr",
          "output_type": "stream",
          "text": [
            "Epoch 297: 100%|██████████| 45/45 [00:30<00:00,  1.46it/s, loss=0.00144]\n"
          ]
        },
        {
          "metadata": {
            "tags": null
          },
          "name": "stdout",
          "output_type": "stream",
          "text": [
            "Epoch 297 - Training loss: 0.010, Training accuracy: 0.99, Test accuracy: 0.43\n"
          ]
        },
        {
          "metadata": {
            "tags": null
          },
          "name": "stderr",
          "output_type": "stream",
          "text": [
            "Epoch 298: 100%|██████████| 45/45 [00:30<00:00,  1.46it/s, loss=0.00131]\n"
          ]
        },
        {
          "metadata": {
            "tags": null
          },
          "name": "stdout",
          "output_type": "stream",
          "text": [
            "Epoch 298 - Training loss: 0.009, Training accuracy: 0.99, Test accuracy: 0.41\n"
          ]
        },
        {
          "metadata": {
            "tags": null
          },
          "name": "stderr",
          "output_type": "stream",
          "text": [
            "Epoch 299: 100%|██████████| 45/45 [00:30<00:00,  1.46it/s, loss=0.00106]\n"
          ]
        },
        {
          "metadata": {
            "tags": null
          },
          "name": "stdout",
          "output_type": "stream",
          "text": [
            "Epoch 299 - Training loss: 0.007, Training accuracy: 1.00, Test accuracy: 0.43\n"
          ]
        },
        {
          "metadata": {
            "tags": null
          },
          "name": "stderr",
          "output_type": "stream",
          "text": [
            "Epoch 300: 100%|██████████| 45/45 [00:30<00:00,  1.46it/s, loss=0.00113]\n"
          ]
        },
        {
          "metadata": {
            "tags": null
          },
          "name": "stdout",
          "output_type": "stream",
          "text": [
            "Epoch 300 - Training loss: 0.008, Training accuracy: 1.00, Test accuracy: 0.42\n"
          ]
        },
        {
          "metadata": {
            "tags": null
          },
          "name": "stderr",
          "output_type": "stream",
          "text": [
            "Epoch 301: 100%|██████████| 45/45 [00:30<00:00,  1.46it/s, loss=0.00102]\n"
          ]
        },
        {
          "metadata": {
            "tags": null
          },
          "name": "stdout",
          "output_type": "stream",
          "text": [
            "Epoch 301 - Training loss: 0.007, Training accuracy: 1.00, Test accuracy: 0.42\n"
          ]
        },
        {
          "metadata": {
            "tags": null
          },
          "name": "stderr",
          "output_type": "stream",
          "text": [
            "Epoch 302: 100%|██████████| 45/45 [00:30<00:00,  1.46it/s, loss=0.0012]\n"
          ]
        },
        {
          "metadata": {
            "tags": null
          },
          "name": "stdout",
          "output_type": "stream",
          "text": [
            "Epoch 302 - Training loss: 0.008, Training accuracy: 1.00, Test accuracy: 0.42\n"
          ]
        },
        {
          "metadata": {
            "tags": null
          },
          "name": "stderr",
          "output_type": "stream",
          "text": [
            "Epoch 303: 100%|██████████| 45/45 [00:30<00:00,  1.46it/s, loss=0.00115]\n"
          ]
        },
        {
          "metadata": {
            "tags": null
          },
          "name": "stdout",
          "output_type": "stream",
          "text": [
            "Epoch 303 - Training loss: 0.008, Training accuracy: 1.00, Test accuracy: 0.42\n"
          ]
        },
        {
          "metadata": {
            "tags": null
          },
          "name": "stderr",
          "output_type": "stream",
          "text": [
            "Epoch 304: 100%|██████████| 45/45 [00:30<00:00,  1.46it/s, loss=0.00136]\n"
          ]
        },
        {
          "metadata": {
            "tags": null
          },
          "name": "stdout",
          "output_type": "stream",
          "text": [
            "Epoch 304 - Training loss: 0.009, Training accuracy: 0.99, Test accuracy: 0.42\n"
          ]
        },
        {
          "metadata": {
            "tags": null
          },
          "name": "stderr",
          "output_type": "stream",
          "text": [
            "Epoch 305: 100%|██████████| 45/45 [00:30<00:00,  1.46it/s, loss=0.00107]\n"
          ]
        },
        {
          "metadata": {
            "tags": null
          },
          "name": "stdout",
          "output_type": "stream",
          "text": [
            "Epoch 305 - Training loss: 0.007, Training accuracy: 1.00, Test accuracy: 0.41\n"
          ]
        },
        {
          "metadata": {
            "tags": null
          },
          "name": "stderr",
          "output_type": "stream",
          "text": [
            "Epoch 306: 100%|██████████| 45/45 [00:30<00:00,  1.46it/s, loss=0.00101]\n"
          ]
        },
        {
          "metadata": {
            "tags": null
          },
          "name": "stdout",
          "output_type": "stream",
          "text": [
            "Epoch 306 - Training loss: 0.007, Training accuracy: 1.00, Test accuracy: 0.41\n"
          ]
        },
        {
          "metadata": {
            "tags": null
          },
          "name": "stderr",
          "output_type": "stream",
          "text": [
            "Epoch 307: 100%|██████████| 45/45 [00:30<00:00,  1.46it/s, loss=0.00121]\n"
          ]
        },
        {
          "metadata": {
            "tags": null
          },
          "name": "stdout",
          "output_type": "stream",
          "text": [
            "Epoch 307 - Training loss: 0.008, Training accuracy: 1.00, Test accuracy: 0.41\n"
          ]
        },
        {
          "metadata": {
            "tags": null
          },
          "name": "stderr",
          "output_type": "stream",
          "text": [
            "Epoch 308: 100%|██████████| 45/45 [00:30<00:00,  1.46it/s, loss=0.00108]\n"
          ]
        },
        {
          "metadata": {
            "tags": null
          },
          "name": "stdout",
          "output_type": "stream",
          "text": [
            "Epoch 308 - Training loss: 0.007, Training accuracy: 1.00, Test accuracy: 0.42\n"
          ]
        },
        {
          "metadata": {
            "tags": null
          },
          "name": "stderr",
          "output_type": "stream",
          "text": [
            "Epoch 309: 100%|██████████| 45/45 [00:30<00:00,  1.46it/s, loss=0.000897]\n"
          ]
        },
        {
          "metadata": {
            "tags": null
          },
          "name": "stdout",
          "output_type": "stream",
          "text": [
            "Epoch 309 - Training loss: 0.006, Training accuracy: 1.00, Test accuracy: 0.41\n"
          ]
        },
        {
          "metadata": {
            "tags": null
          },
          "name": "stderr",
          "output_type": "stream",
          "text": [
            "Epoch 310: 100%|██████████| 45/45 [00:30<00:00,  1.46it/s, loss=0.00119]\n"
          ]
        },
        {
          "metadata": {
            "tags": null
          },
          "name": "stdout",
          "output_type": "stream",
          "text": [
            "Epoch 310 - Training loss: 0.008, Training accuracy: 0.99, Test accuracy: 0.41\n"
          ]
        },
        {
          "metadata": {
            "tags": null
          },
          "name": "stderr",
          "output_type": "stream",
          "text": [
            "Epoch 311: 100%|██████████| 45/45 [00:30<00:00,  1.46it/s, loss=0.00126]\n"
          ]
        },
        {
          "metadata": {
            "tags": null
          },
          "name": "stdout",
          "output_type": "stream",
          "text": [
            "Epoch 311 - Training loss: 0.009, Training accuracy: 0.99, Test accuracy: 0.41\n"
          ]
        },
        {
          "metadata": {
            "tags": null
          },
          "name": "stderr",
          "output_type": "stream",
          "text": [
            "Epoch 312: 100%|██████████| 45/45 [00:30<00:00,  1.46it/s, loss=0.00101]\n"
          ]
        },
        {
          "metadata": {
            "tags": null
          },
          "name": "stdout",
          "output_type": "stream",
          "text": [
            "Epoch 312 - Training loss: 0.007, Training accuracy: 1.00, Test accuracy: 0.41\n"
          ]
        },
        {
          "metadata": {
            "tags": null
          },
          "name": "stderr",
          "output_type": "stream",
          "text": [
            "Epoch 313: 100%|██████████| 45/45 [00:30<00:00,  1.46it/s, loss=0.00104]\n"
          ]
        },
        {
          "metadata": {
            "tags": null
          },
          "name": "stdout",
          "output_type": "stream",
          "text": [
            "Epoch 313 - Training loss: 0.007, Training accuracy: 1.00, Test accuracy: 0.41\n"
          ]
        },
        {
          "metadata": {
            "tags": null
          },
          "name": "stderr",
          "output_type": "stream",
          "text": [
            "Epoch 314: 100%|██████████| 45/45 [00:30<00:00,  1.46it/s, loss=0.000977]\n"
          ]
        },
        {
          "metadata": {
            "tags": null
          },
          "name": "stdout",
          "output_type": "stream",
          "text": [
            "Epoch 314 - Training loss: 0.007, Training accuracy: 1.00, Test accuracy: 0.41\n"
          ]
        },
        {
          "metadata": {
            "tags": null
          },
          "name": "stderr",
          "output_type": "stream",
          "text": [
            "Epoch 315: 100%|██████████| 45/45 [00:30<00:00,  1.46it/s, loss=0.00123]\n"
          ]
        },
        {
          "metadata": {
            "tags": null
          },
          "name": "stdout",
          "output_type": "stream",
          "text": [
            "Epoch 315 - Training loss: 0.009, Training accuracy: 0.99, Test accuracy: 0.41\n"
          ]
        },
        {
          "metadata": {
            "tags": null
          },
          "name": "stderr",
          "output_type": "stream",
          "text": [
            "Epoch 316: 100%|██████████| 45/45 [00:30<00:00,  1.46it/s, loss=0.00111]\n"
          ]
        },
        {
          "metadata": {
            "tags": null
          },
          "name": "stdout",
          "output_type": "stream",
          "text": [
            "Epoch 316 - Training loss: 0.008, Training accuracy: 1.00, Test accuracy: 0.41\n"
          ]
        },
        {
          "metadata": {
            "tags": null
          },
          "name": "stderr",
          "output_type": "stream",
          "text": [
            "Epoch 317: 100%|██████████| 45/45 [00:30<00:00,  1.46it/s, loss=0.00104]\n"
          ]
        },
        {
          "metadata": {
            "tags": null
          },
          "name": "stdout",
          "output_type": "stream",
          "text": [
            "Epoch 317 - Training loss: 0.007, Training accuracy: 1.00, Test accuracy: 0.41\n"
          ]
        },
        {
          "metadata": {
            "tags": null
          },
          "name": "stderr",
          "output_type": "stream",
          "text": [
            "Epoch 318: 100%|██████████| 45/45 [00:30<00:00,  1.46it/s, loss=0.000981]\n"
          ]
        },
        {
          "metadata": {
            "tags": null
          },
          "name": "stdout",
          "output_type": "stream",
          "text": [
            "Epoch 318 - Training loss: 0.007, Training accuracy: 0.99, Test accuracy: 0.41\n"
          ]
        },
        {
          "metadata": {
            "tags": null
          },
          "name": "stderr",
          "output_type": "stream",
          "text": [
            "Epoch 319: 100%|██████████| 45/45 [00:30<00:00,  1.46it/s, loss=0.00134]\n"
          ]
        },
        {
          "metadata": {
            "tags": null
          },
          "name": "stdout",
          "output_type": "stream",
          "text": [
            "Epoch 319 - Training loss: 0.009, Training accuracy: 0.99, Test accuracy: 0.41\n"
          ]
        },
        {
          "metadata": {
            "tags": null
          },
          "name": "stderr",
          "output_type": "stream",
          "text": [
            "Epoch 320: 100%|██████████| 45/45 [00:30<00:00,  1.46it/s, loss=0.000955]\n"
          ]
        },
        {
          "metadata": {
            "tags": null
          },
          "name": "stdout",
          "output_type": "stream",
          "text": [
            "Epoch 320 - Training loss: 0.007, Training accuracy: 1.00, Test accuracy: 0.41\n"
          ]
        },
        {
          "metadata": {
            "tags": null
          },
          "name": "stderr",
          "output_type": "stream",
          "text": [
            "Epoch 321: 100%|██████████| 45/45 [00:30<00:00,  1.46it/s, loss=0.00112]\n"
          ]
        },
        {
          "metadata": {
            "tags": null
          },
          "name": "stdout",
          "output_type": "stream",
          "text": [
            "Epoch 321 - Training loss: 0.008, Training accuracy: 1.00, Test accuracy: 0.41\n"
          ]
        },
        {
          "metadata": {
            "tags": null
          },
          "name": "stderr",
          "output_type": "stream",
          "text": [
            "Epoch 322: 100%|██████████| 45/45 [00:30<00:00,  1.46it/s, loss=0.000819]\n"
          ]
        },
        {
          "metadata": {
            "tags": null
          },
          "name": "stdout",
          "output_type": "stream",
          "text": [
            "Epoch 322 - Training loss: 0.006, Training accuracy: 1.00, Test accuracy: 0.42\n"
          ]
        },
        {
          "metadata": {
            "tags": null
          },
          "name": "stderr",
          "output_type": "stream",
          "text": [
            "Epoch 323: 100%|██████████| 45/45 [00:30<00:00,  1.46it/s, loss=0.00136]\n"
          ]
        },
        {
          "metadata": {
            "tags": null
          },
          "name": "stdout",
          "output_type": "stream",
          "text": [
            "Epoch 323 - Training loss: 0.010, Training accuracy: 0.99, Test accuracy: 0.41\n"
          ]
        },
        {
          "metadata": {
            "tags": null
          },
          "name": "stderr",
          "output_type": "stream",
          "text": [
            "Epoch 324: 100%|██████████| 45/45 [00:30<00:00,  1.46it/s, loss=0.00126]\n"
          ]
        },
        {
          "metadata": {
            "tags": null
          },
          "name": "stdout",
          "output_type": "stream",
          "text": [
            "Epoch 324 - Training loss: 0.009, Training accuracy: 0.99, Test accuracy: 0.41\n"
          ]
        },
        {
          "metadata": {
            "tags": null
          },
          "name": "stderr",
          "output_type": "stream",
          "text": [
            "Epoch 325: 100%|██████████| 45/45 [00:30<00:00,  1.46it/s, loss=0.000996]\n"
          ]
        },
        {
          "metadata": {
            "tags": null
          },
          "name": "stdout",
          "output_type": "stream",
          "text": [
            "Epoch 325 - Training loss: 0.007, Training accuracy: 1.00, Test accuracy: 0.41\n"
          ]
        },
        {
          "metadata": {
            "tags": null
          },
          "name": "stderr",
          "output_type": "stream",
          "text": [
            "Epoch 326: 100%|██████████| 45/45 [00:30<00:00,  1.46it/s, loss=0.00121]\n"
          ]
        },
        {
          "metadata": {
            "tags": null
          },
          "name": "stdout",
          "output_type": "stream",
          "text": [
            "Epoch 326 - Training loss: 0.009, Training accuracy: 0.99, Test accuracy: 0.41\n"
          ]
        },
        {
          "metadata": {
            "tags": null
          },
          "name": "stderr",
          "output_type": "stream",
          "text": [
            "Epoch 327: 100%|██████████| 45/45 [00:30<00:00,  1.46it/s, loss=0.000975]\n"
          ]
        },
        {
          "metadata": {
            "tags": null
          },
          "name": "stdout",
          "output_type": "stream",
          "text": [
            "Epoch 327 - Training loss: 0.007, Training accuracy: 1.00, Test accuracy: 0.41\n"
          ]
        },
        {
          "metadata": {
            "tags": null
          },
          "name": "stderr",
          "output_type": "stream",
          "text": [
            "Epoch 328: 100%|██████████| 45/45 [00:30<00:00,  1.46it/s, loss=0.000999]\n"
          ]
        },
        {
          "metadata": {
            "tags": null
          },
          "name": "stdout",
          "output_type": "stream",
          "text": [
            "Epoch 328 - Training loss: 0.007, Training accuracy: 1.00, Test accuracy: 0.41\n"
          ]
        },
        {
          "metadata": {
            "tags": null
          },
          "name": "stderr",
          "output_type": "stream",
          "text": [
            "Epoch 329: 100%|██████████| 45/45 [00:30<00:00,  1.46it/s, loss=0.00109]\n"
          ]
        },
        {
          "metadata": {
            "tags": null
          },
          "name": "stdout",
          "output_type": "stream",
          "text": [
            "Epoch 329 - Training loss: 0.008, Training accuracy: 1.00, Test accuracy: 0.41\n"
          ]
        },
        {
          "metadata": {
            "tags": null
          },
          "name": "stderr",
          "output_type": "stream",
          "text": [
            "Epoch 330: 100%|██████████| 45/45 [00:30<00:00,  1.46it/s, loss=0.000991]\n"
          ]
        },
        {
          "metadata": {
            "tags": null
          },
          "name": "stdout",
          "output_type": "stream",
          "text": [
            "Epoch 330 - Training loss: 0.007, Training accuracy: 0.99, Test accuracy: 0.41\n"
          ]
        },
        {
          "metadata": {
            "tags": null
          },
          "name": "stderr",
          "output_type": "stream",
          "text": [
            "Epoch 331: 100%|██████████| 45/45 [00:30<00:00,  1.46it/s, loss=0.00122]\n"
          ]
        },
        {
          "metadata": {
            "tags": null
          },
          "name": "stdout",
          "output_type": "stream",
          "text": [
            "Epoch 331 - Training loss: 0.009, Training accuracy: 0.99, Test accuracy: 0.41\n"
          ]
        },
        {
          "metadata": {
            "tags": null
          },
          "name": "stderr",
          "output_type": "stream",
          "text": [
            "Epoch 332: 100%|██████████| 45/45 [00:30<00:00,  1.46it/s, loss=0.000965]\n"
          ]
        },
        {
          "metadata": {
            "tags": null
          },
          "name": "stdout",
          "output_type": "stream",
          "text": [
            "Epoch 332 - Training loss: 0.007, Training accuracy: 1.00, Test accuracy: 0.41\n"
          ]
        },
        {
          "metadata": {
            "tags": null
          },
          "name": "stderr",
          "output_type": "stream",
          "text": [
            "Epoch 333: 100%|██████████| 45/45 [00:30<00:00,  1.46it/s, loss=0.00114]\n"
          ]
        },
        {
          "metadata": {
            "tags": null
          },
          "name": "stdout",
          "output_type": "stream",
          "text": [
            "Epoch 333 - Training loss: 0.008, Training accuracy: 0.99, Test accuracy: 0.41\n"
          ]
        },
        {
          "metadata": {
            "tags": null
          },
          "name": "stderr",
          "output_type": "stream",
          "text": [
            "Epoch 334: 100%|██████████| 45/45 [00:30<00:00,  1.46it/s, loss=0.00097]\n"
          ]
        },
        {
          "metadata": {
            "tags": null
          },
          "name": "stdout",
          "output_type": "stream",
          "text": [
            "Epoch 334 - Training loss: 0.007, Training accuracy: 0.99, Test accuracy: 0.41\n"
          ]
        },
        {
          "metadata": {
            "tags": null
          },
          "name": "stderr",
          "output_type": "stream",
          "text": [
            "Epoch 335: 100%|██████████| 45/45 [00:30<00:00,  1.46it/s, loss=0.000961]\n"
          ]
        },
        {
          "metadata": {
            "tags": null
          },
          "name": "stdout",
          "output_type": "stream",
          "text": [
            "Epoch 335 - Training loss: 0.007, Training accuracy: 1.00, Test accuracy: 0.41\n"
          ]
        },
        {
          "metadata": {
            "tags": null
          },
          "name": "stderr",
          "output_type": "stream",
          "text": [
            "Epoch 336: 100%|██████████| 45/45 [00:30<00:00,  1.46it/s, loss=0.000964]\n"
          ]
        },
        {
          "metadata": {
            "tags": null
          },
          "name": "stdout",
          "output_type": "stream",
          "text": [
            "Epoch 336 - Training loss: 0.007, Training accuracy: 1.00, Test accuracy: 0.41\n"
          ]
        },
        {
          "metadata": {
            "tags": null
          },
          "name": "stderr",
          "output_type": "stream",
          "text": [
            "Epoch 337: 100%|██████████| 45/45 [00:30<00:00,  1.46it/s, loss=0.000968]\n"
          ]
        },
        {
          "metadata": {
            "tags": null
          },
          "name": "stdout",
          "output_type": "stream",
          "text": [
            "Epoch 337 - Training loss: 0.007, Training accuracy: 1.00, Test accuracy: 0.41\n"
          ]
        },
        {
          "metadata": {
            "tags": null
          },
          "name": "stderr",
          "output_type": "stream",
          "text": [
            "Epoch 338: 100%|██████████| 45/45 [00:30<00:00,  1.46it/s, loss=0.000994]\n"
          ]
        },
        {
          "metadata": {
            "tags": null
          },
          "name": "stdout",
          "output_type": "stream",
          "text": [
            "Epoch 338 - Training loss: 0.007, Training accuracy: 1.00, Test accuracy: 0.41\n"
          ]
        },
        {
          "metadata": {
            "tags": null
          },
          "name": "stderr",
          "output_type": "stream",
          "text": [
            "Epoch 339: 100%|██████████| 45/45 [00:30<00:00,  1.46it/s, loss=0.000899]\n"
          ]
        },
        {
          "metadata": {
            "tags": null
          },
          "name": "stdout",
          "output_type": "stream",
          "text": [
            "Epoch 339 - Training loss: 0.007, Training accuracy: 1.00, Test accuracy: 0.41\n"
          ]
        },
        {
          "metadata": {
            "tags": null
          },
          "name": "stderr",
          "output_type": "stream",
          "text": [
            "Epoch 340: 100%|██████████| 45/45 [00:30<00:00,  1.46it/s, loss=0.000956]\n"
          ]
        },
        {
          "metadata": {
            "tags": null
          },
          "name": "stdout",
          "output_type": "stream",
          "text": [
            "Epoch 340 - Training loss: 0.007, Training accuracy: 1.00, Test accuracy: 0.41\n"
          ]
        },
        {
          "metadata": {
            "tags": null
          },
          "name": "stderr",
          "output_type": "stream",
          "text": [
            "Epoch 341: 100%|██████████| 45/45 [00:30<00:00,  1.46it/s, loss=0.000838]\n"
          ]
        },
        {
          "metadata": {
            "tags": null
          },
          "name": "stdout",
          "output_type": "stream",
          "text": [
            "Epoch 341 - Training loss: 0.006, Training accuracy: 1.00, Test accuracy: 0.41\n"
          ]
        },
        {
          "metadata": {
            "tags": null
          },
          "name": "stderr",
          "output_type": "stream",
          "text": [
            "Epoch 342: 100%|██████████| 45/45 [00:30<00:00,  1.46it/s, loss=0.00081]\n"
          ]
        },
        {
          "metadata": {
            "tags": null
          },
          "name": "stdout",
          "output_type": "stream",
          "text": [
            "Epoch 342 - Training loss: 0.006, Training accuracy: 1.00, Test accuracy: 0.41\n"
          ]
        },
        {
          "metadata": {
            "tags": null
          },
          "name": "stderr",
          "output_type": "stream",
          "text": [
            "Epoch 343: 100%|██████████| 45/45 [00:30<00:00,  1.46it/s, loss=0.00102]\n"
          ]
        },
        {
          "metadata": {
            "tags": null
          },
          "name": "stdout",
          "output_type": "stream",
          "text": [
            "Epoch 343 - Training loss: 0.008, Training accuracy: 0.99, Test accuracy: 0.41\n"
          ]
        },
        {
          "metadata": {
            "tags": null
          },
          "name": "stderr",
          "output_type": "stream",
          "text": [
            "Epoch 344: 100%|██████████| 45/45 [00:30<00:00,  1.46it/s, loss=0.000947]\n"
          ]
        },
        {
          "metadata": {
            "tags": null
          },
          "name": "stdout",
          "output_type": "stream",
          "text": [
            "Epoch 344 - Training loss: 0.007, Training accuracy: 1.00, Test accuracy: 0.41\n"
          ]
        },
        {
          "metadata": {
            "tags": null
          },
          "name": "stderr",
          "output_type": "stream",
          "text": [
            "Epoch 345: 100%|██████████| 45/45 [00:30<00:00,  1.46it/s, loss=0.00101]\n"
          ]
        },
        {
          "metadata": {
            "tags": null
          },
          "name": "stdout",
          "output_type": "stream",
          "text": [
            "Epoch 345 - Training loss: 0.008, Training accuracy: 0.99, Test accuracy: 0.41\n"
          ]
        },
        {
          "metadata": {
            "tags": null
          },
          "name": "stderr",
          "output_type": "stream",
          "text": [
            "Epoch 346: 100%|██████████| 45/45 [00:30<00:00,  1.46it/s, loss=0.00103]\n"
          ]
        },
        {
          "metadata": {
            "tags": null
          },
          "name": "stdout",
          "output_type": "stream",
          "text": [
            "Epoch 346 - Training loss: 0.008, Training accuracy: 0.99, Test accuracy: 0.41\n"
          ]
        },
        {
          "metadata": {
            "tags": null
          },
          "name": "stderr",
          "output_type": "stream",
          "text": [
            "Epoch 347: 100%|██████████| 45/45 [00:30<00:00,  1.46it/s, loss=0.000973]\n"
          ]
        },
        {
          "metadata": {
            "tags": null
          },
          "name": "stdout",
          "output_type": "stream",
          "text": [
            "Epoch 347 - Training loss: 0.007, Training accuracy: 0.99, Test accuracy: 0.41\n"
          ]
        },
        {
          "metadata": {
            "tags": null
          },
          "name": "stderr",
          "output_type": "stream",
          "text": [
            "Epoch 348: 100%|██████████| 45/45 [00:30<00:00,  1.46it/s, loss=0.00106]\n"
          ]
        },
        {
          "metadata": {
            "tags": null
          },
          "name": "stdout",
          "output_type": "stream",
          "text": [
            "Epoch 348 - Training loss: 0.008, Training accuracy: 0.99, Test accuracy: 0.41\n"
          ]
        },
        {
          "metadata": {
            "tags": null
          },
          "name": "stderr",
          "output_type": "stream",
          "text": [
            "Epoch 349: 100%|██████████| 45/45 [00:30<00:00,  1.46it/s, loss=0.00102]\n"
          ]
        },
        {
          "metadata": {
            "tags": null
          },
          "name": "stdout",
          "output_type": "stream",
          "text": [
            "Epoch 349 - Training loss: 0.008, Training accuracy: 1.00, Test accuracy: 0.41\n"
          ]
        },
        {
          "metadata": {
            "tags": null
          },
          "name": "stderr",
          "output_type": "stream",
          "text": [
            "Epoch 350: 100%|██████████| 45/45 [00:30<00:00,  1.46it/s, loss=0.00103]\n"
          ]
        },
        {
          "metadata": {
            "tags": null
          },
          "name": "stdout",
          "output_type": "stream",
          "text": [
            "Epoch 350 - Training loss: 0.008, Training accuracy: 1.00, Test accuracy: 0.41\n"
          ]
        },
        {
          "metadata": {
            "tags": null
          },
          "name": "stderr",
          "output_type": "stream",
          "text": [
            "Epoch 351: 100%|██████████| 45/45 [00:30<00:00,  1.45it/s, loss=0.000867]\n"
          ]
        },
        {
          "metadata": {
            "tags": null
          },
          "name": "stdout",
          "output_type": "stream",
          "text": [
            "Epoch 351 - Training loss: 0.007, Training accuracy: 1.00, Test accuracy: 0.41\n"
          ]
        },
        {
          "metadata": {
            "tags": null
          },
          "name": "stderr",
          "output_type": "stream",
          "text": [
            "Epoch 352: 100%|██████████| 45/45 [00:30<00:00,  1.46it/s, loss=0.001]\n"
          ]
        },
        {
          "metadata": {
            "tags": null
          },
          "name": "stdout",
          "output_type": "stream",
          "text": [
            "Epoch 352 - Training loss: 0.008, Training accuracy: 1.00, Test accuracy: 0.40\n"
          ]
        },
        {
          "metadata": {
            "tags": null
          },
          "name": "stderr",
          "output_type": "stream",
          "text": [
            "Epoch 353: 100%|██████████| 45/45 [00:30<00:00,  1.46it/s, loss=0.00102]\n"
          ]
        },
        {
          "metadata": {
            "tags": null
          },
          "name": "stdout",
          "output_type": "stream",
          "text": [
            "Epoch 353 - Training loss: 0.008, Training accuracy: 1.00, Test accuracy: 0.40\n"
          ]
        },
        {
          "metadata": {
            "tags": null
          },
          "name": "stderr",
          "output_type": "stream",
          "text": [
            "Epoch 354: 100%|██████████| 45/45 [00:30<00:00,  1.46it/s, loss=0.000983]\n"
          ]
        },
        {
          "metadata": {
            "tags": null
          },
          "name": "stdout",
          "output_type": "stream",
          "text": [
            "Epoch 354 - Training loss: 0.008, Training accuracy: 0.99, Test accuracy: 0.41\n"
          ]
        },
        {
          "metadata": {
            "tags": null
          },
          "name": "stderr",
          "output_type": "stream",
          "text": [
            "Epoch 355: 100%|██████████| 45/45 [00:30<00:00,  1.46it/s, loss=0.00099]\n"
          ]
        },
        {
          "metadata": {
            "tags": null
          },
          "name": "stdout",
          "output_type": "stream",
          "text": [
            "Epoch 355 - Training loss: 0.008, Training accuracy: 0.99, Test accuracy: 0.40\n"
          ]
        },
        {
          "metadata": {
            "tags": null
          },
          "name": "stderr",
          "output_type": "stream",
          "text": [
            "Epoch 356: 100%|██████████| 45/45 [00:30<00:00,  1.46it/s, loss=0.000973]\n"
          ]
        },
        {
          "metadata": {
            "tags": null
          },
          "name": "stdout",
          "output_type": "stream",
          "text": [
            "Epoch 356 - Training loss: 0.008, Training accuracy: 0.99, Test accuracy: 0.40\n"
          ]
        },
        {
          "metadata": {
            "tags": null
          },
          "name": "stderr",
          "output_type": "stream",
          "text": [
            "Epoch 357: 100%|██████████| 45/45 [00:30<00:00,  1.46it/s, loss=0.0009]\n"
          ]
        },
        {
          "metadata": {
            "tags": null
          },
          "name": "stdout",
          "output_type": "stream",
          "text": [
            "Epoch 357 - Training loss: 0.007, Training accuracy: 1.00, Test accuracy: 0.40\n"
          ]
        },
        {
          "metadata": {
            "tags": null
          },
          "name": "stderr",
          "output_type": "stream",
          "text": [
            "Epoch 358: 100%|██████████| 45/45 [00:30<00:00,  1.46it/s, loss=0.00085]\n"
          ]
        },
        {
          "metadata": {
            "tags": null
          },
          "name": "stdout",
          "output_type": "stream",
          "text": [
            "Epoch 358 - Training loss: 0.007, Training accuracy: 1.00, Test accuracy: 0.40\n"
          ]
        },
        {
          "metadata": {
            "tags": null
          },
          "name": "stderr",
          "output_type": "stream",
          "text": [
            "Epoch 359: 100%|██████████| 45/45 [00:30<00:00,  1.45it/s, loss=0.000855]\n"
          ]
        },
        {
          "metadata": {
            "tags": null
          },
          "name": "stdout",
          "output_type": "stream",
          "text": [
            "Epoch 359 - Training loss: 0.007, Training accuracy: 0.99, Test accuracy: 0.41\n"
          ]
        },
        {
          "metadata": {
            "tags": null
          },
          "name": "stderr",
          "output_type": "stream",
          "text": [
            "Epoch 360: 100%|██████████| 45/45 [00:30<00:00,  1.46it/s, loss=0.00107]\n"
          ]
        },
        {
          "metadata": {
            "tags": null
          },
          "name": "stdout",
          "output_type": "stream",
          "text": [
            "Epoch 360 - Training loss: 0.009, Training accuracy: 0.99, Test accuracy: 0.41\n"
          ]
        },
        {
          "metadata": {
            "tags": null
          },
          "name": "stderr",
          "output_type": "stream",
          "text": [
            "Epoch 361: 100%|██████████| 45/45 [00:30<00:00,  1.46it/s, loss=0.000947]\n"
          ]
        },
        {
          "metadata": {
            "tags": null
          },
          "name": "stdout",
          "output_type": "stream",
          "text": [
            "Epoch 361 - Training loss: 0.008, Training accuracy: 0.99, Test accuracy: 0.41\n"
          ]
        },
        {
          "metadata": {
            "tags": null
          },
          "name": "stderr",
          "output_type": "stream",
          "text": [
            "Epoch 362: 100%|██████████| 45/45 [00:30<00:00,  1.46it/s, loss=0.000733]\n"
          ]
        },
        {
          "metadata": {
            "tags": null
          },
          "name": "stdout",
          "output_type": "stream",
          "text": [
            "Epoch 362 - Training loss: 0.006, Training accuracy: 1.00, Test accuracy: 0.41\n"
          ]
        },
        {
          "metadata": {
            "tags": null
          },
          "name": "stderr",
          "output_type": "stream",
          "text": [
            "Epoch 363: 100%|██████████| 45/45 [00:30<00:00,  1.46it/s, loss=0.000937]\n"
          ]
        },
        {
          "metadata": {
            "tags": null
          },
          "name": "stdout",
          "output_type": "stream",
          "text": [
            "Epoch 363 - Training loss: 0.008, Training accuracy: 1.00, Test accuracy: 0.41\n"
          ]
        },
        {
          "metadata": {
            "tags": null
          },
          "name": "stderr",
          "output_type": "stream",
          "text": [
            "Epoch 364: 100%|██████████| 45/45 [00:30<00:00,  1.46it/s, loss=0.000752]\n"
          ]
        },
        {
          "metadata": {
            "tags": null
          },
          "name": "stdout",
          "output_type": "stream",
          "text": [
            "Epoch 364 - Training loss: 0.006, Training accuracy: 1.00, Test accuracy: 0.41\n"
          ]
        },
        {
          "metadata": {
            "tags": null
          },
          "name": "stderr",
          "output_type": "stream",
          "text": [
            "Epoch 365: 100%|██████████| 45/45 [00:30<00:00,  1.46it/s, loss=0.000942]\n"
          ]
        },
        {
          "metadata": {
            "tags": null
          },
          "name": "stdout",
          "output_type": "stream",
          "text": [
            "Epoch 365 - Training loss: 0.008, Training accuracy: 1.00, Test accuracy: 0.41\n"
          ]
        },
        {
          "metadata": {
            "tags": null
          },
          "name": "stderr",
          "output_type": "stream",
          "text": [
            "Epoch 366: 100%|██████████| 45/45 [00:30<00:00,  1.46it/s, loss=0.000916]\n"
          ]
        },
        {
          "metadata": {
            "tags": null
          },
          "name": "stdout",
          "output_type": "stream",
          "text": [
            "Epoch 366 - Training loss: 0.007, Training accuracy: 1.00, Test accuracy: 0.40\n"
          ]
        },
        {
          "metadata": {
            "tags": null
          },
          "name": "stderr",
          "output_type": "stream",
          "text": [
            "Epoch 367: 100%|██████████| 45/45 [00:30<00:00,  1.46it/s, loss=0.000958]\n"
          ]
        },
        {
          "metadata": {
            "tags": null
          },
          "name": "stdout",
          "output_type": "stream",
          "text": [
            "Epoch 367 - Training loss: 0.008, Training accuracy: 1.00, Test accuracy: 0.40\n"
          ]
        },
        {
          "metadata": {
            "tags": null
          },
          "name": "stderr",
          "output_type": "stream",
          "text": [
            "Epoch 368: 100%|██████████| 45/45 [00:30<00:00,  1.46it/s, loss=0.000892]\n"
          ]
        },
        {
          "metadata": {
            "tags": null
          },
          "name": "stdout",
          "output_type": "stream",
          "text": [
            "Epoch 368 - Training loss: 0.007, Training accuracy: 0.99, Test accuracy: 0.40\n"
          ]
        },
        {
          "metadata": {
            "tags": null
          },
          "name": "stderr",
          "output_type": "stream",
          "text": [
            "Epoch 369: 100%|██████████| 45/45 [00:30<00:00,  1.46it/s, loss=0.000751]\n"
          ]
        },
        {
          "metadata": {
            "tags": null
          },
          "name": "stdout",
          "output_type": "stream",
          "text": [
            "Epoch 369 - Training loss: 0.006, Training accuracy: 1.00, Test accuracy: 0.40\n"
          ]
        },
        {
          "metadata": {
            "tags": null
          },
          "name": "stderr",
          "output_type": "stream",
          "text": [
            "Epoch 370: 100%|██████████| 45/45 [00:30<00:00,  1.46it/s, loss=0.000872]\n"
          ]
        },
        {
          "metadata": {
            "tags": null
          },
          "name": "stdout",
          "output_type": "stream",
          "text": [
            "Epoch 370 - Training loss: 0.007, Training accuracy: 1.00, Test accuracy: 0.40\n"
          ]
        },
        {
          "metadata": {
            "tags": null
          },
          "name": "stderr",
          "output_type": "stream",
          "text": [
            "Epoch 371: 100%|██████████| 45/45 [00:30<00:00,  1.46it/s, loss=0.000882]\n"
          ]
        },
        {
          "metadata": {
            "tags": null
          },
          "name": "stdout",
          "output_type": "stream",
          "text": [
            "Epoch 371 - Training loss: 0.007, Training accuracy: 1.00, Test accuracy: 0.40\n"
          ]
        },
        {
          "metadata": {
            "tags": null
          },
          "name": "stderr",
          "output_type": "stream",
          "text": [
            "Epoch 372: 100%|██████████| 45/45 [00:30<00:00,  1.45it/s, loss=0.000866]\n"
          ]
        },
        {
          "metadata": {
            "tags": null
          },
          "name": "stdout",
          "output_type": "stream",
          "text": [
            "Epoch 372 - Training loss: 0.007, Training accuracy: 0.99, Test accuracy: 0.41\n"
          ]
        },
        {
          "metadata": {
            "tags": null
          },
          "name": "stderr",
          "output_type": "stream",
          "text": [
            "Epoch 373: 100%|██████████| 45/45 [00:30<00:00,  1.46it/s, loss=0.000892]\n"
          ]
        },
        {
          "metadata": {
            "tags": null
          },
          "name": "stdout",
          "output_type": "stream",
          "text": [
            "Epoch 373 - Training loss: 0.007, Training accuracy: 1.00, Test accuracy: 0.41\n"
          ]
        },
        {
          "metadata": {
            "tags": null
          },
          "name": "stderr",
          "output_type": "stream",
          "text": [
            "Epoch 374: 100%|██████████| 45/45 [00:30<00:00,  1.46it/s, loss=0.000934]\n"
          ]
        },
        {
          "metadata": {
            "tags": null
          },
          "name": "stdout",
          "output_type": "stream",
          "text": [
            "Epoch 374 - Training loss: 0.008, Training accuracy: 0.99, Test accuracy: 0.41\n"
          ]
        },
        {
          "metadata": {
            "tags": null
          },
          "name": "stderr",
          "output_type": "stream",
          "text": [
            "Epoch 375: 100%|██████████| 45/45 [00:30<00:00,  1.46it/s, loss=0.000843]\n"
          ]
        },
        {
          "metadata": {
            "tags": null
          },
          "name": "stdout",
          "output_type": "stream",
          "text": [
            "Epoch 375 - Training loss: 0.007, Training accuracy: 0.99, Test accuracy: 0.41\n"
          ]
        },
        {
          "metadata": {
            "tags": null
          },
          "name": "stderr",
          "output_type": "stream",
          "text": [
            "Epoch 376: 100%|██████████| 45/45 [00:30<00:00,  1.46it/s, loss=0.000819]\n"
          ]
        },
        {
          "metadata": {
            "tags": null
          },
          "name": "stdout",
          "output_type": "stream",
          "text": [
            "Epoch 376 - Training loss: 0.007, Training accuracy: 1.00, Test accuracy: 0.41\n"
          ]
        },
        {
          "metadata": {
            "tags": null
          },
          "name": "stderr",
          "output_type": "stream",
          "text": [
            "Epoch 377: 100%|██████████| 45/45 [00:30<00:00,  1.46it/s, loss=0.001]\n"
          ]
        },
        {
          "metadata": {
            "tags": null
          },
          "name": "stdout",
          "output_type": "stream",
          "text": [
            "Epoch 377 - Training loss: 0.008, Training accuracy: 0.99, Test accuracy: 0.40\n"
          ]
        },
        {
          "metadata": {
            "tags": null
          },
          "name": "stderr",
          "output_type": "stream",
          "text": [
            "Epoch 378: 100%|██████████| 45/45 [00:30<00:00,  1.46it/s, loss=0.00089]\n"
          ]
        },
        {
          "metadata": {
            "tags": null
          },
          "name": "stdout",
          "output_type": "stream",
          "text": [
            "Epoch 378 - Training loss: 0.007, Training accuracy: 0.99, Test accuracy: 0.41\n"
          ]
        },
        {
          "metadata": {
            "tags": null
          },
          "name": "stderr",
          "output_type": "stream",
          "text": [
            "Epoch 379: 100%|██████████| 45/45 [00:30<00:00,  1.46it/s, loss=0.00103]\n"
          ]
        },
        {
          "metadata": {
            "tags": null
          },
          "name": "stdout",
          "output_type": "stream",
          "text": [
            "Epoch 379 - Training loss: 0.009, Training accuracy: 0.99, Test accuracy: 0.41\n"
          ]
        },
        {
          "metadata": {
            "tags": null
          },
          "name": "stderr",
          "output_type": "stream",
          "text": [
            "Epoch 380: 100%|██████████| 45/45 [00:30<00:00,  1.46it/s, loss=0.000757]\n"
          ]
        },
        {
          "metadata": {
            "tags": null
          },
          "name": "stdout",
          "output_type": "stream",
          "text": [
            "Epoch 380 - Training loss: 0.006, Training accuracy: 1.00, Test accuracy: 0.41\n"
          ]
        },
        {
          "metadata": {
            "tags": null
          },
          "name": "stderr",
          "output_type": "stream",
          "text": [
            "Epoch 381: 100%|██████████| 45/45 [00:30<00:00,  1.46it/s, loss=0.000837]\n"
          ]
        },
        {
          "metadata": {
            "tags": null
          },
          "name": "stdout",
          "output_type": "stream",
          "text": [
            "Epoch 381 - Training loss: 0.007, Training accuracy: 1.00, Test accuracy: 0.41\n"
          ]
        },
        {
          "metadata": {
            "tags": null
          },
          "name": "stderr",
          "output_type": "stream",
          "text": [
            "Epoch 382: 100%|██████████| 45/45 [00:30<00:00,  1.46it/s, loss=0.000811]\n"
          ]
        },
        {
          "metadata": {
            "tags": null
          },
          "name": "stdout",
          "output_type": "stream",
          "text": [
            "Epoch 382 - Training loss: 0.007, Training accuracy: 0.99, Test accuracy: 0.41\n"
          ]
        },
        {
          "metadata": {
            "tags": null
          },
          "name": "stderr",
          "output_type": "stream",
          "text": [
            "Epoch 383: 100%|██████████| 45/45 [00:30<00:00,  1.46it/s, loss=0.000808]\n"
          ]
        },
        {
          "metadata": {
            "tags": null
          },
          "name": "stdout",
          "output_type": "stream",
          "text": [
            "Epoch 383 - Training loss: 0.007, Training accuracy: 1.00, Test accuracy: 0.40\n"
          ]
        },
        {
          "metadata": {
            "tags": null
          },
          "name": "stderr",
          "output_type": "stream",
          "text": [
            "Epoch 384: 100%|██████████| 45/45 [00:30<00:00,  1.46it/s, loss=0.000823]\n"
          ]
        },
        {
          "metadata": {
            "tags": null
          },
          "name": "stdout",
          "output_type": "stream",
          "text": [
            "Epoch 384 - Training loss: 0.007, Training accuracy: 0.99, Test accuracy: 0.40\n"
          ]
        },
        {
          "metadata": {
            "tags": null
          },
          "name": "stderr",
          "output_type": "stream",
          "text": [
            "Epoch 385: 100%|██████████| 45/45 [00:30<00:00,  1.45it/s, loss=0.000975]\n"
          ]
        },
        {
          "metadata": {
            "tags": null
          },
          "name": "stdout",
          "output_type": "stream",
          "text": [
            "Epoch 385 - Training loss: 0.008, Training accuracy: 0.99, Test accuracy: 0.40\n"
          ]
        },
        {
          "metadata": {
            "tags": null
          },
          "name": "stderr",
          "output_type": "stream",
          "text": [
            "Epoch 386: 100%|██████████| 45/45 [00:30<00:00,  1.46it/s, loss=0.00101]\n"
          ]
        },
        {
          "metadata": {
            "tags": null
          },
          "name": "stdout",
          "output_type": "stream",
          "text": [
            "Epoch 386 - Training loss: 0.009, Training accuracy: 0.99, Test accuracy: 0.40\n"
          ]
        },
        {
          "metadata": {
            "tags": null
          },
          "name": "stderr",
          "output_type": "stream",
          "text": [
            "Epoch 387: 100%|██████████| 45/45 [00:30<00:00,  1.46it/s, loss=0.000736]\n"
          ]
        },
        {
          "metadata": {
            "tags": null
          },
          "name": "stdout",
          "output_type": "stream",
          "text": [
            "Epoch 387 - Training loss: 0.006, Training accuracy: 1.00, Test accuracy: 0.41\n"
          ]
        },
        {
          "metadata": {
            "tags": null
          },
          "name": "stderr",
          "output_type": "stream",
          "text": [
            "Epoch 388: 100%|██████████| 45/45 [00:30<00:00,  1.46it/s, loss=0.00075]\n"
          ]
        },
        {
          "metadata": {
            "tags": null
          },
          "name": "stdout",
          "output_type": "stream",
          "text": [
            "Epoch 388 - Training loss: 0.006, Training accuracy: 1.00, Test accuracy: 0.40\n"
          ]
        },
        {
          "metadata": {
            "tags": null
          },
          "name": "stderr",
          "output_type": "stream",
          "text": [
            "Epoch 389: 100%|██████████| 45/45 [00:30<00:00,  1.46it/s, loss=0.000863]\n"
          ]
        },
        {
          "metadata": {
            "tags": null
          },
          "name": "stdout",
          "output_type": "stream",
          "text": [
            "Epoch 389 - Training loss: 0.007, Training accuracy: 0.99, Test accuracy: 0.39\n"
          ]
        },
        {
          "metadata": {
            "tags": null
          },
          "name": "stderr",
          "output_type": "stream",
          "text": [
            "Epoch 390: 100%|██████████| 45/45 [00:30<00:00,  1.46it/s, loss=0.000931]\n"
          ]
        },
        {
          "metadata": {
            "tags": null
          },
          "name": "stdout",
          "output_type": "stream",
          "text": [
            "Epoch 390 - Training loss: 0.008, Training accuracy: 1.00, Test accuracy: 0.39\n"
          ]
        },
        {
          "metadata": {
            "tags": null
          },
          "name": "stderr",
          "output_type": "stream",
          "text": [
            "Epoch 391: 100%|██████████| 45/45 [00:30<00:00,  1.45it/s, loss=0.000652]\n"
          ]
        },
        {
          "metadata": {
            "tags": null
          },
          "name": "stdout",
          "output_type": "stream",
          "text": [
            "Epoch 391 - Training loss: 0.006, Training accuracy: 1.00, Test accuracy: 0.39\n"
          ]
        },
        {
          "metadata": {
            "tags": null
          },
          "name": "stderr",
          "output_type": "stream",
          "text": [
            "Epoch 392: 100%|██████████| 45/45 [00:30<00:00,  1.46it/s, loss=0.000852]\n"
          ]
        },
        {
          "metadata": {
            "tags": null
          },
          "name": "stdout",
          "output_type": "stream",
          "text": [
            "Epoch 392 - Training loss: 0.007, Training accuracy: 0.99, Test accuracy: 0.39\n"
          ]
        },
        {
          "metadata": {
            "tags": null
          },
          "name": "stderr",
          "output_type": "stream",
          "text": [
            "Epoch 393: 100%|██████████| 45/45 [00:30<00:00,  1.46it/s, loss=0.000664]\n"
          ]
        },
        {
          "metadata": {
            "tags": null
          },
          "name": "stdout",
          "output_type": "stream",
          "text": [
            "Epoch 393 - Training loss: 0.006, Training accuracy: 1.00, Test accuracy: 0.39\n"
          ]
        },
        {
          "metadata": {
            "tags": null
          },
          "name": "stderr",
          "output_type": "stream",
          "text": [
            "Epoch 394: 100%|██████████| 45/45 [00:30<00:00,  1.45it/s, loss=0.00091]\n"
          ]
        },
        {
          "metadata": {
            "tags": null
          },
          "name": "stdout",
          "output_type": "stream",
          "text": [
            "Epoch 394 - Training loss: 0.008, Training accuracy: 1.00, Test accuracy: 0.40\n"
          ]
        },
        {
          "metadata": {
            "tags": null
          },
          "name": "stderr",
          "output_type": "stream",
          "text": [
            "Epoch 395: 100%|██████████| 45/45 [00:30<00:00,  1.46it/s, loss=0.000891]\n"
          ]
        },
        {
          "metadata": {
            "tags": null
          },
          "name": "stdout",
          "output_type": "stream",
          "text": [
            "Epoch 395 - Training loss: 0.008, Training accuracy: 1.00, Test accuracy: 0.41\n"
          ]
        },
        {
          "metadata": {
            "tags": null
          },
          "name": "stderr",
          "output_type": "stream",
          "text": [
            "Epoch 396: 100%|██████████| 45/45 [00:30<00:00,  1.46it/s, loss=0.000764]\n"
          ]
        },
        {
          "metadata": {
            "tags": null
          },
          "name": "stdout",
          "output_type": "stream",
          "text": [
            "Epoch 396 - Training loss: 0.007, Training accuracy: 1.00, Test accuracy: 0.41\n"
          ]
        },
        {
          "metadata": {
            "tags": null
          },
          "name": "stderr",
          "output_type": "stream",
          "text": [
            "Epoch 397: 100%|██████████| 45/45 [00:30<00:00,  1.45it/s, loss=0.000888]\n"
          ]
        },
        {
          "metadata": {
            "tags": null
          },
          "name": "stdout",
          "output_type": "stream",
          "text": [
            "Epoch 397 - Training loss: 0.008, Training accuracy: 0.99, Test accuracy: 0.41\n"
          ]
        },
        {
          "metadata": {
            "tags": null
          },
          "name": "stderr",
          "output_type": "stream",
          "text": [
            "Epoch 398: 100%|██████████| 45/45 [00:30<00:00,  1.46it/s, loss=0.000872]\n"
          ]
        },
        {
          "metadata": {
            "tags": null
          },
          "name": "stdout",
          "output_type": "stream",
          "text": [
            "Epoch 398 - Training loss: 0.008, Training accuracy: 1.00, Test accuracy: 0.41\n"
          ]
        },
        {
          "metadata": {
            "tags": null
          },
          "name": "stderr",
          "output_type": "stream",
          "text": [
            "Epoch 399: 100%|██████████| 45/45 [00:30<00:00,  1.46it/s, loss=0.000742]\n"
          ]
        },
        {
          "metadata": {
            "tags": null
          },
          "name": "stdout",
          "output_type": "stream",
          "text": [
            "Epoch 399 - Training loss: 0.007, Training accuracy: 0.99, Test accuracy: 0.40\n"
          ]
        },
        {
          "metadata": {
            "tags": null
          },
          "name": "stderr",
          "output_type": "stream",
          "text": [
            "Epoch 400: 100%|██████████| 45/45 [00:30<00:00,  1.45it/s, loss=0.00078]\n"
          ]
        },
        {
          "metadata": {
            "tags": null
          },
          "name": "stdout",
          "output_type": "stream",
          "text": [
            "Epoch 400 - Training loss: 0.007, Training accuracy: 0.99, Test accuracy: 0.40\n"
          ]
        },
        {
          "metadata": {
            "tags": null
          },
          "name": "stderr",
          "output_type": "stream",
          "text": [
            "Epoch 401: 100%|██████████| 45/45 [00:30<00:00,  1.46it/s, loss=0.000846]\n"
          ]
        },
        {
          "metadata": {
            "tags": null
          },
          "name": "stdout",
          "output_type": "stream",
          "text": [
            "Epoch 401 - Training loss: 0.008, Training accuracy: 1.00, Test accuracy: 0.40\n"
          ]
        },
        {
          "metadata": {
            "tags": null
          },
          "name": "stderr",
          "output_type": "stream",
          "text": [
            "Epoch 402: 100%|██████████| 45/45 [00:30<00:00,  1.46it/s, loss=0.000685]\n"
          ]
        },
        {
          "metadata": {
            "tags": null
          },
          "name": "stdout",
          "output_type": "stream",
          "text": [
            "Epoch 402 - Training loss: 0.006, Training accuracy: 1.00, Test accuracy: 0.40\n"
          ]
        },
        {
          "metadata": {
            "tags": null
          },
          "name": "stderr",
          "output_type": "stream",
          "text": [
            "Epoch 403: 100%|██████████| 45/45 [00:30<00:00,  1.45it/s, loss=0.00092]\n"
          ]
        },
        {
          "metadata": {
            "tags": null
          },
          "name": "stdout",
          "output_type": "stream",
          "text": [
            "Epoch 403 - Training loss: 0.008, Training accuracy: 0.99, Test accuracy: 0.39\n"
          ]
        },
        {
          "metadata": {
            "tags": null
          },
          "name": "stderr",
          "output_type": "stream",
          "text": [
            "Epoch 404: 100%|██████████| 45/45 [00:30<00:00,  1.46it/s, loss=0.000836]\n"
          ]
        },
        {
          "metadata": {
            "tags": null
          },
          "name": "stdout",
          "output_type": "stream",
          "text": [
            "Epoch 404 - Training loss: 0.008, Training accuracy: 1.00, Test accuracy: 0.39\n"
          ]
        },
        {
          "metadata": {
            "tags": null
          },
          "name": "stderr",
          "output_type": "stream",
          "text": [
            "Epoch 405: 100%|██████████| 45/45 [00:30<00:00,  1.46it/s, loss=0.000682]\n"
          ]
        },
        {
          "metadata": {
            "tags": null
          },
          "name": "stdout",
          "output_type": "stream",
          "text": [
            "Epoch 405 - Training loss: 0.006, Training accuracy: 1.00, Test accuracy: 0.39\n"
          ]
        },
        {
          "metadata": {
            "tags": null
          },
          "name": "stderr",
          "output_type": "stream",
          "text": [
            "Epoch 406: 100%|██████████| 45/45 [00:30<00:00,  1.46it/s, loss=0.000723]\n"
          ]
        },
        {
          "metadata": {
            "tags": null
          },
          "name": "stdout",
          "output_type": "stream",
          "text": [
            "Epoch 406 - Training loss: 0.007, Training accuracy: 1.00, Test accuracy: 0.40\n"
          ]
        },
        {
          "metadata": {
            "tags": null
          },
          "name": "stderr",
          "output_type": "stream",
          "text": [
            "Epoch 407: 100%|██████████| 45/45 [00:30<00:00,  1.46it/s, loss=0.000798]\n"
          ]
        },
        {
          "metadata": {
            "tags": null
          },
          "name": "stdout",
          "output_type": "stream",
          "text": [
            "Epoch 407 - Training loss: 0.007, Training accuracy: 1.00, Test accuracy: 0.40\n"
          ]
        },
        {
          "metadata": {
            "tags": null
          },
          "name": "stderr",
          "output_type": "stream",
          "text": [
            "Epoch 408: 100%|██████████| 45/45 [00:30<00:00,  1.46it/s, loss=0.000698]\n"
          ]
        },
        {
          "metadata": {
            "tags": null
          },
          "name": "stdout",
          "output_type": "stream",
          "text": [
            "Epoch 408 - Training loss: 0.006, Training accuracy: 1.00, Test accuracy: 0.40\n"
          ]
        },
        {
          "metadata": {
            "tags": null
          },
          "name": "stderr",
          "output_type": "stream",
          "text": [
            "Epoch 409: 100%|██████████| 45/45 [00:30<00:00,  1.46it/s, loss=0.000811]\n"
          ]
        },
        {
          "metadata": {
            "tags": null
          },
          "name": "stdout",
          "output_type": "stream",
          "text": [
            "Epoch 409 - Training loss: 0.007, Training accuracy: 0.99, Test accuracy: 0.40\n"
          ]
        },
        {
          "metadata": {
            "tags": null
          },
          "name": "stderr",
          "output_type": "stream",
          "text": [
            "Epoch 410: 100%|██████████| 45/45 [00:30<00:00,  1.46it/s, loss=0.000822]\n"
          ]
        },
        {
          "metadata": {
            "tags": null
          },
          "name": "stdout",
          "output_type": "stream",
          "text": [
            "Epoch 410 - Training loss: 0.007, Training accuracy: 1.00, Test accuracy: 0.40\n"
          ]
        },
        {
          "metadata": {
            "tags": null
          },
          "name": "stderr",
          "output_type": "stream",
          "text": [
            "Epoch 411: 100%|██████████| 45/45 [00:30<00:00,  1.46it/s, loss=0.00102]\n"
          ]
        },
        {
          "metadata": {
            "tags": null
          },
          "name": "stdout",
          "output_type": "stream",
          "text": [
            "Epoch 411 - Training loss: 0.009, Training accuracy: 0.99, Test accuracy: 0.40\n"
          ]
        },
        {
          "metadata": {
            "tags": null
          },
          "name": "stderr",
          "output_type": "stream",
          "text": [
            "Epoch 412: 100%|██████████| 45/45 [00:30<00:00,  1.45it/s, loss=0.00076]\n"
          ]
        },
        {
          "metadata": {
            "tags": null
          },
          "name": "stdout",
          "output_type": "stream",
          "text": [
            "Epoch 412 - Training loss: 0.007, Training accuracy: 0.99, Test accuracy: 0.40\n"
          ]
        },
        {
          "metadata": {
            "tags": null
          },
          "name": "stderr",
          "output_type": "stream",
          "text": [
            "Epoch 413: 100%|██████████| 45/45 [00:30<00:00,  1.46it/s, loss=0.00063]\n"
          ]
        },
        {
          "metadata": {
            "tags": null
          },
          "name": "stdout",
          "output_type": "stream",
          "text": [
            "Epoch 413 - Training loss: 0.006, Training accuracy: 1.00, Test accuracy: 0.40\n"
          ]
        },
        {
          "metadata": {
            "tags": null
          },
          "name": "stderr",
          "output_type": "stream",
          "text": [
            "Epoch 414: 100%|██████████| 45/45 [00:30<00:00,  1.46it/s, loss=0.000856]\n"
          ]
        },
        {
          "metadata": {
            "tags": null
          },
          "name": "stdout",
          "output_type": "stream",
          "text": [
            "Epoch 414 - Training loss: 0.008, Training accuracy: 0.99, Test accuracy: 0.39\n"
          ]
        },
        {
          "metadata": {
            "tags": null
          },
          "name": "stderr",
          "output_type": "stream",
          "text": [
            "Epoch 415: 100%|██████████| 45/45 [00:30<00:00,  1.46it/s, loss=0.000639]\n"
          ]
        },
        {
          "metadata": {
            "tags": null
          },
          "name": "stdout",
          "output_type": "stream",
          "text": [
            "Epoch 415 - Training loss: 0.006, Training accuracy: 1.00, Test accuracy: 0.40\n"
          ]
        },
        {
          "metadata": {
            "tags": null
          },
          "name": "stderr",
          "output_type": "stream",
          "text": [
            "Epoch 416: 100%|██████████| 45/45 [00:30<00:00,  1.45it/s, loss=0.000743]\n"
          ]
        },
        {
          "metadata": {
            "tags": null
          },
          "name": "stdout",
          "output_type": "stream",
          "text": [
            "Epoch 416 - Training loss: 0.007, Training accuracy: 1.00, Test accuracy: 0.41\n"
          ]
        },
        {
          "metadata": {
            "tags": null
          },
          "name": "stderr",
          "output_type": "stream",
          "text": [
            "Epoch 417: 100%|██████████| 45/45 [00:30<00:00,  1.46it/s, loss=0.000785]\n"
          ]
        },
        {
          "metadata": {
            "tags": null
          },
          "name": "stdout",
          "output_type": "stream",
          "text": [
            "Epoch 417 - Training loss: 0.007, Training accuracy: 1.00, Test accuracy: 0.40\n"
          ]
        },
        {
          "metadata": {
            "tags": null
          },
          "name": "stderr",
          "output_type": "stream",
          "text": [
            "Epoch 418: 100%|██████████| 45/45 [00:30<00:00,  1.46it/s, loss=0.000788]\n"
          ]
        },
        {
          "metadata": {
            "tags": null
          },
          "name": "stdout",
          "output_type": "stream",
          "text": [
            "Epoch 418 - Training loss: 0.007, Training accuracy: 0.99, Test accuracy: 0.40\n"
          ]
        },
        {
          "metadata": {
            "tags": null
          },
          "name": "stderr",
          "output_type": "stream",
          "text": [
            "Epoch 419: 100%|██████████| 45/45 [00:30<00:00,  1.46it/s, loss=0.000656]\n"
          ]
        },
        {
          "metadata": {
            "tags": null
          },
          "name": "stdout",
          "output_type": "stream",
          "text": [
            "Epoch 419 - Training loss: 0.006, Training accuracy: 1.00, Test accuracy: 0.40\n"
          ]
        },
        {
          "metadata": {
            "tags": null
          },
          "name": "stderr",
          "output_type": "stream",
          "text": [
            "Epoch 420: 100%|██████████| 45/45 [00:30<00:00,  1.45it/s, loss=0.000813]\n"
          ]
        },
        {
          "metadata": {
            "tags": null
          },
          "name": "stdout",
          "output_type": "stream",
          "text": [
            "Epoch 420 - Training loss: 0.008, Training accuracy: 1.00, Test accuracy: 0.40\n"
          ]
        },
        {
          "metadata": {
            "tags": null
          },
          "name": "stderr",
          "output_type": "stream",
          "text": [
            "Epoch 421: 100%|██████████| 45/45 [00:30<00:00,  1.46it/s, loss=0.000734]\n"
          ]
        },
        {
          "metadata": {
            "tags": null
          },
          "name": "stdout",
          "output_type": "stream",
          "text": [
            "Epoch 421 - Training loss: 0.007, Training accuracy: 1.00, Test accuracy: 0.40\n"
          ]
        },
        {
          "metadata": {
            "tags": null
          },
          "name": "stderr",
          "output_type": "stream",
          "text": [
            "Epoch 422: 100%|██████████| 45/45 [00:30<00:00,  1.46it/s, loss=0.000787]\n"
          ]
        },
        {
          "metadata": {
            "tags": null
          },
          "name": "stdout",
          "output_type": "stream",
          "text": [
            "Epoch 422 - Training loss: 0.007, Training accuracy: 0.99, Test accuracy: 0.40\n"
          ]
        },
        {
          "metadata": {
            "tags": null
          },
          "name": "stderr",
          "output_type": "stream",
          "text": [
            "Epoch 423: 100%|██████████| 45/45 [00:30<00:00,  1.45it/s, loss=0.000858]\n"
          ]
        },
        {
          "metadata": {
            "tags": null
          },
          "name": "stdout",
          "output_type": "stream",
          "text": [
            "Epoch 423 - Training loss: 0.008, Training accuracy: 1.00, Test accuracy: 0.41\n"
          ]
        },
        {
          "metadata": {
            "tags": null
          },
          "name": "stderr",
          "output_type": "stream",
          "text": [
            "Epoch 424: 100%|██████████| 45/45 [00:30<00:00,  1.46it/s, loss=0.000782]\n"
          ]
        },
        {
          "metadata": {
            "tags": null
          },
          "name": "stdout",
          "output_type": "stream",
          "text": [
            "Epoch 424 - Training loss: 0.007, Training accuracy: 0.99, Test accuracy: 0.41\n"
          ]
        },
        {
          "metadata": {
            "tags": null
          },
          "name": "stderr",
          "output_type": "stream",
          "text": [
            "Epoch 425: 100%|██████████| 45/45 [00:30<00:00,  1.46it/s, loss=0.000844]\n"
          ]
        },
        {
          "metadata": {
            "tags": null
          },
          "name": "stdout",
          "output_type": "stream",
          "text": [
            "Epoch 425 - Training loss: 0.008, Training accuracy: 0.99, Test accuracy: 0.40\n"
          ]
        },
        {
          "metadata": {
            "tags": null
          },
          "name": "stderr",
          "output_type": "stream",
          "text": [
            "Epoch 426: 100%|██████████| 45/45 [00:30<00:00,  1.46it/s, loss=0.000777]\n"
          ]
        },
        {
          "metadata": {
            "tags": null
          },
          "name": "stdout",
          "output_type": "stream",
          "text": [
            "Epoch 426 - Training loss: 0.007, Training accuracy: 0.99, Test accuracy: 0.41\n"
          ]
        },
        {
          "metadata": {
            "tags": null
          },
          "name": "stderr",
          "output_type": "stream",
          "text": [
            "Epoch 427: 100%|██████████| 45/45 [00:30<00:00,  1.46it/s, loss=0.000818]\n"
          ]
        },
        {
          "metadata": {
            "tags": null
          },
          "name": "stdout",
          "output_type": "stream",
          "text": [
            "Epoch 427 - Training loss: 0.008, Training accuracy: 0.99, Test accuracy: 0.41\n"
          ]
        },
        {
          "metadata": {
            "tags": null
          },
          "name": "stderr",
          "output_type": "stream",
          "text": [
            "Epoch 428: 100%|██████████| 45/45 [00:30<00:00,  1.45it/s, loss=0.000792]\n"
          ]
        },
        {
          "metadata": {
            "tags": null
          },
          "name": "stdout",
          "output_type": "stream",
          "text": [
            "Epoch 428 - Training loss: 0.008, Training accuracy: 0.99, Test accuracy: 0.41\n"
          ]
        },
        {
          "metadata": {
            "tags": null
          },
          "name": "stderr",
          "output_type": "stream",
          "text": [
            "Epoch 429: 100%|██████████| 45/45 [00:30<00:00,  1.46it/s, loss=0.000659]\n"
          ]
        },
        {
          "metadata": {
            "tags": null
          },
          "name": "stdout",
          "output_type": "stream",
          "text": [
            "Epoch 429 - Training loss: 0.006, Training accuracy: 1.00, Test accuracy: 0.41\n"
          ]
        },
        {
          "metadata": {
            "tags": null
          },
          "name": "stderr",
          "output_type": "stream",
          "text": [
            "Epoch 430: 100%|██████████| 45/45 [00:30<00:00,  1.46it/s, loss=0.000709]\n"
          ]
        },
        {
          "metadata": {
            "tags": null
          },
          "name": "stdout",
          "output_type": "stream",
          "text": [
            "Epoch 430 - Training loss: 0.007, Training accuracy: 1.00, Test accuracy: 0.41\n"
          ]
        },
        {
          "metadata": {
            "tags": null
          },
          "name": "stderr",
          "output_type": "stream",
          "text": [
            "Epoch 431: 100%|██████████| 45/45 [00:30<00:00,  1.45it/s, loss=0.000721]\n"
          ]
        },
        {
          "metadata": {
            "tags": null
          },
          "name": "stdout",
          "output_type": "stream",
          "text": [
            "Epoch 431 - Training loss: 0.007, Training accuracy: 1.00, Test accuracy: 0.41\n"
          ]
        },
        {
          "metadata": {
            "tags": null
          },
          "name": "stderr",
          "output_type": "stream",
          "text": [
            "Epoch 432: 100%|██████████| 45/45 [00:30<00:00,  1.46it/s, loss=0.000817]\n"
          ]
        },
        {
          "metadata": {
            "tags": null
          },
          "name": "stdout",
          "output_type": "stream",
          "text": [
            "Epoch 432 - Training loss: 0.008, Training accuracy: 1.00, Test accuracy: 0.41\n"
          ]
        },
        {
          "metadata": {
            "tags": null
          },
          "name": "stderr",
          "output_type": "stream",
          "text": [
            "Epoch 433: 100%|██████████| 45/45 [00:30<00:00,  1.46it/s, loss=0.000781]\n"
          ]
        },
        {
          "metadata": {
            "tags": null
          },
          "name": "stdout",
          "output_type": "stream",
          "text": [
            "Epoch 433 - Training loss: 0.008, Training accuracy: 0.99, Test accuracy: 0.41\n"
          ]
        },
        {
          "metadata": {
            "tags": null
          },
          "name": "stderr",
          "output_type": "stream",
          "text": [
            "Epoch 434: 100%|██████████| 45/45 [00:30<00:00,  1.46it/s, loss=0.000825]\n"
          ]
        },
        {
          "metadata": {
            "tags": null
          },
          "name": "stdout",
          "output_type": "stream",
          "text": [
            "Epoch 434 - Training loss: 0.008, Training accuracy: 0.99, Test accuracy: 0.41\n"
          ]
        },
        {
          "metadata": {
            "tags": null
          },
          "name": "stderr",
          "output_type": "stream",
          "text": [
            "Epoch 435: 100%|██████████| 45/45 [00:30<00:00,  1.46it/s, loss=0.000716]\n"
          ]
        },
        {
          "metadata": {
            "tags": null
          },
          "name": "stdout",
          "output_type": "stream",
          "text": [
            "Epoch 435 - Training loss: 0.007, Training accuracy: 1.00, Test accuracy: 0.41\n"
          ]
        },
        {
          "metadata": {
            "tags": null
          },
          "name": "stderr",
          "output_type": "stream",
          "text": [
            "Epoch 436: 100%|██████████| 45/45 [00:30<00:00,  1.46it/s, loss=0.000718]\n"
          ]
        },
        {
          "metadata": {
            "tags": null
          },
          "name": "stdout",
          "output_type": "stream",
          "text": [
            "Epoch 436 - Training loss: 0.007, Training accuracy: 1.00, Test accuracy: 0.41\n"
          ]
        },
        {
          "metadata": {
            "tags": null
          },
          "name": "stderr",
          "output_type": "stream",
          "text": [
            "Epoch 437: 100%|██████████| 45/45 [00:30<00:00,  1.46it/s, loss=0.000806]\n"
          ]
        },
        {
          "metadata": {
            "tags": null
          },
          "name": "stdout",
          "output_type": "stream",
          "text": [
            "Epoch 437 - Training loss: 0.008, Training accuracy: 0.99, Test accuracy: 0.41\n"
          ]
        },
        {
          "metadata": {
            "tags": null
          },
          "name": "stderr",
          "output_type": "stream",
          "text": [
            "Epoch 438: 100%|██████████| 45/45 [00:30<00:00,  1.46it/s, loss=0.000627]\n"
          ]
        },
        {
          "metadata": {
            "tags": null
          },
          "name": "stdout",
          "output_type": "stream",
          "text": [
            "Epoch 438 - Training loss: 0.006, Training accuracy: 1.00, Test accuracy: 0.41\n"
          ]
        },
        {
          "metadata": {
            "tags": null
          },
          "name": "stderr",
          "output_type": "stream",
          "text": [
            "Epoch 439: 100%|██████████| 45/45 [00:30<00:00,  1.46it/s, loss=0.000708]\n"
          ]
        },
        {
          "metadata": {
            "tags": null
          },
          "name": "stdout",
          "output_type": "stream",
          "text": [
            "Epoch 439 - Training loss: 0.007, Training accuracy: 1.00, Test accuracy: 0.41\n"
          ]
        },
        {
          "metadata": {
            "tags": null
          },
          "name": "stderr",
          "output_type": "stream",
          "text": [
            "Epoch 440: 100%|██████████| 45/45 [00:30<00:00,  1.46it/s, loss=0.000736]\n"
          ]
        },
        {
          "metadata": {
            "tags": null
          },
          "name": "stdout",
          "output_type": "stream",
          "text": [
            "Epoch 440 - Training loss: 0.007, Training accuracy: 1.00, Test accuracy: 0.41\n"
          ]
        },
        {
          "metadata": {
            "tags": null
          },
          "name": "stderr",
          "output_type": "stream",
          "text": [
            "Epoch 441: 100%|██████████| 45/45 [00:30<00:00,  1.46it/s, loss=0.000836]\n"
          ]
        },
        {
          "metadata": {
            "tags": null
          },
          "name": "stdout",
          "output_type": "stream",
          "text": [
            "Epoch 441 - Training loss: 0.008, Training accuracy: 0.99, Test accuracy: 0.41\n"
          ]
        },
        {
          "metadata": {
            "tags": null
          },
          "name": "stderr",
          "output_type": "stream",
          "text": [
            "Epoch 442: 100%|██████████| 45/45 [00:30<00:00,  1.46it/s, loss=0.000807]\n"
          ]
        },
        {
          "metadata": {
            "tags": null
          },
          "name": "stdout",
          "output_type": "stream",
          "text": [
            "Epoch 442 - Training loss: 0.008, Training accuracy: 0.99, Test accuracy: 0.41\n"
          ]
        },
        {
          "metadata": {
            "tags": null
          },
          "name": "stderr",
          "output_type": "stream",
          "text": [
            "Epoch 443: 100%|██████████| 45/45 [00:30<00:00,  1.46it/s, loss=0.000659]\n"
          ]
        },
        {
          "metadata": {
            "tags": null
          },
          "name": "stdout",
          "output_type": "stream",
          "text": [
            "Epoch 443 - Training loss: 0.006, Training accuracy: 1.00, Test accuracy: 0.41\n"
          ]
        },
        {
          "metadata": {
            "tags": null
          },
          "name": "stderr",
          "output_type": "stream",
          "text": [
            "Epoch 444: 100%|██████████| 45/45 [00:30<00:00,  1.46it/s, loss=0.000615]\n"
          ]
        },
        {
          "metadata": {
            "tags": null
          },
          "name": "stdout",
          "output_type": "stream",
          "text": [
            "Epoch 444 - Training loss: 0.006, Training accuracy: 1.00, Test accuracy: 0.41\n"
          ]
        },
        {
          "metadata": {
            "tags": null
          },
          "name": "stderr",
          "output_type": "stream",
          "text": [
            "Epoch 445: 100%|██████████| 45/45 [00:30<00:00,  1.46it/s, loss=0.000547]\n"
          ]
        },
        {
          "metadata": {
            "tags": null
          },
          "name": "stdout",
          "output_type": "stream",
          "text": [
            "Epoch 445 - Training loss: 0.005, Training accuracy: 1.00, Test accuracy: 0.41\n"
          ]
        },
        {
          "metadata": {
            "tags": null
          },
          "name": "stderr",
          "output_type": "stream",
          "text": [
            "Epoch 446: 100%|██████████| 45/45 [00:30<00:00,  1.46it/s, loss=0.000604]\n"
          ]
        },
        {
          "metadata": {
            "tags": null
          },
          "name": "stdout",
          "output_type": "stream",
          "text": [
            "Epoch 446 - Training loss: 0.006, Training accuracy: 0.99, Test accuracy: 0.41\n"
          ]
        },
        {
          "metadata": {
            "tags": null
          },
          "name": "stderr",
          "output_type": "stream",
          "text": [
            "Epoch 447: 100%|██████████| 45/45 [00:30<00:00,  1.46it/s, loss=0.000678]\n"
          ]
        },
        {
          "metadata": {
            "tags": null
          },
          "name": "stdout",
          "output_type": "stream",
          "text": [
            "Epoch 447 - Training loss: 0.007, Training accuracy: 1.00, Test accuracy: 0.41\n"
          ]
        },
        {
          "metadata": {
            "tags": null
          },
          "name": "stderr",
          "output_type": "stream",
          "text": [
            "Epoch 448: 100%|██████████| 45/45 [00:30<00:00,  1.46it/s, loss=0.000761]\n"
          ]
        },
        {
          "metadata": {
            "tags": null
          },
          "name": "stdout",
          "output_type": "stream",
          "text": [
            "Epoch 448 - Training loss: 0.008, Training accuracy: 0.99, Test accuracy: 0.41\n"
          ]
        },
        {
          "metadata": {
            "tags": null
          },
          "name": "stderr",
          "output_type": "stream",
          "text": [
            "Epoch 449: 100%|██████████| 45/45 [00:30<00:00,  1.46it/s, loss=0.000687]\n"
          ]
        },
        {
          "metadata": {
            "tags": null
          },
          "name": "stdout",
          "output_type": "stream",
          "text": [
            "Epoch 449 - Training loss: 0.007, Training accuracy: 1.00, Test accuracy: 0.41\n"
          ]
        },
        {
          "metadata": {
            "tags": null
          },
          "name": "stderr",
          "output_type": "stream",
          "text": [
            "Epoch 450: 100%|██████████| 45/45 [00:30<00:00,  1.46it/s, loss=0.000525]\n"
          ]
        },
        {
          "metadata": {
            "tags": null
          },
          "name": "stdout",
          "output_type": "stream",
          "text": [
            "Epoch 450 - Training loss: 0.005, Training accuracy: 1.00, Test accuracy: 0.41\n"
          ]
        },
        {
          "metadata": {
            "tags": null
          },
          "name": "stderr",
          "output_type": "stream",
          "text": [
            "Epoch 451: 100%|██████████| 45/45 [00:30<00:00,  1.46it/s, loss=0.000697]\n"
          ]
        },
        {
          "metadata": {
            "tags": null
          },
          "name": "stdout",
          "output_type": "stream",
          "text": [
            "Epoch 451 - Training loss: 0.007, Training accuracy: 0.99, Test accuracy: 0.41\n"
          ]
        },
        {
          "metadata": {
            "tags": null
          },
          "name": "stderr",
          "output_type": "stream",
          "text": [
            "Epoch 452: 100%|██████████| 45/45 [00:30<00:00,  1.46it/s, loss=0.0008]\n"
          ]
        },
        {
          "metadata": {
            "tags": null
          },
          "name": "stdout",
          "output_type": "stream",
          "text": [
            "Epoch 452 - Training loss: 0.008, Training accuracy: 0.99, Test accuracy: 0.41\n"
          ]
        },
        {
          "metadata": {
            "tags": null
          },
          "name": "stderr",
          "output_type": "stream",
          "text": [
            "Epoch 453: 100%|██████████| 45/45 [00:30<00:00,  1.46it/s, loss=0.000727]\n"
          ]
        },
        {
          "metadata": {
            "tags": null
          },
          "name": "stdout",
          "output_type": "stream",
          "text": [
            "Epoch 453 - Training loss: 0.007, Training accuracy: 1.00, Test accuracy: 0.41\n"
          ]
        },
        {
          "metadata": {
            "tags": null
          },
          "name": "stderr",
          "output_type": "stream",
          "text": [
            "Epoch 454: 100%|██████████| 45/45 [00:30<00:00,  1.46it/s, loss=0.000572]\n"
          ]
        },
        {
          "metadata": {
            "tags": null
          },
          "name": "stdout",
          "output_type": "stream",
          "text": [
            "Epoch 454 - Training loss: 0.006, Training accuracy: 1.00, Test accuracy: 0.41\n"
          ]
        },
        {
          "metadata": {
            "tags": null
          },
          "name": "stderr",
          "output_type": "stream",
          "text": [
            "Epoch 455: 100%|██████████| 45/45 [00:30<00:00,  1.46it/s, loss=0.000696]\n"
          ]
        },
        {
          "metadata": {
            "tags": null
          },
          "name": "stdout",
          "output_type": "stream",
          "text": [
            "Epoch 455 - Training loss: 0.007, Training accuracy: 0.99, Test accuracy: 0.41\n"
          ]
        },
        {
          "metadata": {
            "tags": null
          },
          "name": "stderr",
          "output_type": "stream",
          "text": [
            "Epoch 456: 100%|██████████| 45/45 [00:30<00:00,  1.46it/s, loss=0.000797]\n"
          ]
        },
        {
          "metadata": {
            "tags": null
          },
          "name": "stdout",
          "output_type": "stream",
          "text": [
            "Epoch 456 - Training loss: 0.008, Training accuracy: 0.99, Test accuracy: 0.41\n"
          ]
        },
        {
          "metadata": {
            "tags": null
          },
          "name": "stderr",
          "output_type": "stream",
          "text": [
            "Epoch 457: 100%|██████████| 45/45 [00:30<00:00,  1.46it/s, loss=0.000723]\n"
          ]
        },
        {
          "metadata": {
            "tags": null
          },
          "name": "stdout",
          "output_type": "stream",
          "text": [
            "Epoch 457 - Training loss: 0.007, Training accuracy: 1.00, Test accuracy: 0.41\n"
          ]
        },
        {
          "metadata": {
            "tags": null
          },
          "name": "stderr",
          "output_type": "stream",
          "text": [
            "Epoch 458: 100%|██████████| 45/45 [00:30<00:00,  1.46it/s, loss=0.000691]\n"
          ]
        },
        {
          "metadata": {
            "tags": null
          },
          "name": "stdout",
          "output_type": "stream",
          "text": [
            "Epoch 458 - Training loss: 0.007, Training accuracy: 0.99, Test accuracy: 0.41\n"
          ]
        },
        {
          "metadata": {
            "tags": null
          },
          "name": "stderr",
          "output_type": "stream",
          "text": [
            "Epoch 459: 100%|██████████| 45/45 [00:30<00:00,  1.46it/s, loss=0.000624]\n"
          ]
        },
        {
          "metadata": {
            "tags": null
          },
          "name": "stdout",
          "output_type": "stream",
          "text": [
            "Epoch 459 - Training loss: 0.006, Training accuracy: 1.00, Test accuracy: 0.41\n"
          ]
        },
        {
          "metadata": {
            "tags": null
          },
          "name": "stderr",
          "output_type": "stream",
          "text": [
            "Epoch 460: 100%|██████████| 45/45 [00:30<00:00,  1.45it/s, loss=0.000691]\n"
          ]
        },
        {
          "metadata": {
            "tags": null
          },
          "name": "stdout",
          "output_type": "stream",
          "text": [
            "Epoch 460 - Training loss: 0.007, Training accuracy: 1.00, Test accuracy: 0.41\n"
          ]
        },
        {
          "metadata": {
            "tags": null
          },
          "name": "stderr",
          "output_type": "stream",
          "text": [
            "Epoch 461: 100%|██████████| 45/45 [00:30<00:00,  1.46it/s, loss=0.000669]\n"
          ]
        },
        {
          "metadata": {
            "tags": null
          },
          "name": "stdout",
          "output_type": "stream",
          "text": [
            "Epoch 461 - Training loss: 0.007, Training accuracy: 0.99, Test accuracy: 0.41\n"
          ]
        },
        {
          "metadata": {
            "tags": null
          },
          "name": "stderr",
          "output_type": "stream",
          "text": [
            "Epoch 462: 100%|██████████| 45/45 [00:30<00:00,  1.46it/s, loss=0.000671]\n"
          ]
        },
        {
          "metadata": {
            "tags": null
          },
          "name": "stdout",
          "output_type": "stream",
          "text": [
            "Epoch 462 - Training loss: 0.007, Training accuracy: 1.00, Test accuracy: 0.41\n"
          ]
        },
        {
          "metadata": {
            "tags": null
          },
          "name": "stderr",
          "output_type": "stream",
          "text": [
            "Epoch 463: 100%|██████████| 45/45 [00:30<00:00,  1.46it/s, loss=0.000797]\n"
          ]
        },
        {
          "metadata": {
            "tags": null
          },
          "name": "stdout",
          "output_type": "stream",
          "text": [
            "Epoch 463 - Training loss: 0.008, Training accuracy: 0.99, Test accuracy: 0.41\n"
          ]
        },
        {
          "metadata": {
            "tags": null
          },
          "name": "stderr",
          "output_type": "stream",
          "text": [
            "Epoch 464: 100%|██████████| 45/45 [00:30<00:00,  1.46it/s, loss=0.000775]\n"
          ]
        },
        {
          "metadata": {
            "tags": null
          },
          "name": "stdout",
          "output_type": "stream",
          "text": [
            "Epoch 464 - Training loss: 0.008, Training accuracy: 0.99, Test accuracy: 0.41\n"
          ]
        },
        {
          "metadata": {
            "tags": null
          },
          "name": "stderr",
          "output_type": "stream",
          "text": [
            "Epoch 465: 100%|██████████| 45/45 [00:30<00:00,  1.46it/s, loss=0.000538]\n"
          ]
        },
        {
          "metadata": {
            "tags": null
          },
          "name": "stdout",
          "output_type": "stream",
          "text": [
            "Epoch 465 - Training loss: 0.006, Training accuracy: 1.00, Test accuracy: 0.41\n"
          ]
        },
        {
          "metadata": {
            "tags": null
          },
          "name": "stderr",
          "output_type": "stream",
          "text": [
            "Epoch 466: 100%|██████████| 45/45 [00:30<00:00,  1.46it/s, loss=0.000645]\n"
          ]
        },
        {
          "metadata": {
            "tags": null
          },
          "name": "stdout",
          "output_type": "stream",
          "text": [
            "Epoch 466 - Training loss: 0.007, Training accuracy: 1.00, Test accuracy: 0.41\n"
          ]
        },
        {
          "metadata": {
            "tags": null
          },
          "name": "stderr",
          "output_type": "stream",
          "text": [
            "Epoch 467: 100%|██████████| 45/45 [00:30<00:00,  1.46it/s, loss=0.000722]\n"
          ]
        },
        {
          "metadata": {
            "tags": null
          },
          "name": "stdout",
          "output_type": "stream",
          "text": [
            "Epoch 467 - Training loss: 0.007, Training accuracy: 1.00, Test accuracy: 0.41\n"
          ]
        },
        {
          "metadata": {
            "tags": null
          },
          "name": "stderr",
          "output_type": "stream",
          "text": [
            "Epoch 468: 100%|██████████| 45/45 [00:30<00:00,  1.46it/s, loss=0.000774]\n"
          ]
        },
        {
          "metadata": {
            "tags": null
          },
          "name": "stdout",
          "output_type": "stream",
          "text": [
            "Epoch 468 - Training loss: 0.008, Training accuracy: 0.99, Test accuracy: 0.41\n"
          ]
        },
        {
          "metadata": {
            "tags": null
          },
          "name": "stderr",
          "output_type": "stream",
          "text": [
            "Epoch 469: 100%|██████████| 45/45 [00:30<00:00,  1.46it/s, loss=0.000604]\n"
          ]
        },
        {
          "metadata": {
            "tags": null
          },
          "name": "stdout",
          "output_type": "stream",
          "text": [
            "Epoch 469 - Training loss: 0.006, Training accuracy: 1.00, Test accuracy: 0.41\n"
          ]
        },
        {
          "metadata": {
            "tags": null
          },
          "name": "stderr",
          "output_type": "stream",
          "text": [
            "Epoch 470: 100%|██████████| 45/45 [00:30<00:00,  1.46it/s, loss=0.000731]\n"
          ]
        },
        {
          "metadata": {
            "tags": null
          },
          "name": "stdout",
          "output_type": "stream",
          "text": [
            "Epoch 470 - Training loss: 0.008, Training accuracy: 1.00, Test accuracy: 0.41\n"
          ]
        },
        {
          "metadata": {
            "tags": null
          },
          "name": "stderr",
          "output_type": "stream",
          "text": [
            "Epoch 471: 100%|██████████| 45/45 [00:30<00:00,  1.46it/s, loss=0.000575]\n"
          ]
        },
        {
          "metadata": {
            "tags": null
          },
          "name": "stdout",
          "output_type": "stream",
          "text": [
            "Epoch 471 - Training loss: 0.006, Training accuracy: 1.00, Test accuracy: 0.41\n"
          ]
        },
        {
          "metadata": {
            "tags": null
          },
          "name": "stderr",
          "output_type": "stream",
          "text": [
            "Epoch 472: 100%|██████████| 45/45 [00:30<00:00,  1.46it/s, loss=0.000598]\n"
          ]
        },
        {
          "metadata": {
            "tags": null
          },
          "name": "stdout",
          "output_type": "stream",
          "text": [
            "Epoch 472 - Training loss: 0.006, Training accuracy: 0.99, Test accuracy: 0.41\n"
          ]
        },
        {
          "metadata": {
            "tags": null
          },
          "name": "stderr",
          "output_type": "stream",
          "text": [
            "Epoch 473: 100%|██████████| 45/45 [00:30<00:00,  1.45it/s, loss=0.000705]\n"
          ]
        },
        {
          "metadata": {
            "tags": null
          },
          "name": "stdout",
          "output_type": "stream",
          "text": [
            "Epoch 473 - Training loss: 0.007, Training accuracy: 1.00, Test accuracy: 0.41\n"
          ]
        },
        {
          "metadata": {
            "tags": null
          },
          "name": "stderr",
          "output_type": "stream",
          "text": [
            "Epoch 474: 100%|██████████| 45/45 [00:30<00:00,  1.46it/s, loss=0.000598]\n"
          ]
        },
        {
          "metadata": {
            "tags": null
          },
          "name": "stdout",
          "output_type": "stream",
          "text": [
            "Epoch 474 - Training loss: 0.006, Training accuracy: 1.00, Test accuracy: 0.41\n"
          ]
        },
        {
          "metadata": {
            "tags": null
          },
          "name": "stderr",
          "output_type": "stream",
          "text": [
            "Epoch 475: 100%|██████████| 45/45 [00:30<00:00,  1.46it/s, loss=0.000729]\n"
          ]
        },
        {
          "metadata": {
            "tags": null
          },
          "name": "stdout",
          "output_type": "stream",
          "text": [
            "Epoch 475 - Training loss: 0.008, Training accuracy: 1.00, Test accuracy: 0.41\n"
          ]
        },
        {
          "metadata": {
            "tags": null
          },
          "name": "stderr",
          "output_type": "stream",
          "text": [
            "Epoch 476: 100%|██████████| 45/45 [00:30<00:00,  1.46it/s, loss=0.000511]\n"
          ]
        },
        {
          "metadata": {
            "tags": null
          },
          "name": "stdout",
          "output_type": "stream",
          "text": [
            "Epoch 476 - Training loss: 0.005, Training accuracy: 1.00, Test accuracy: 0.41\n"
          ]
        },
        {
          "metadata": {
            "tags": null
          },
          "name": "stderr",
          "output_type": "stream",
          "text": [
            "Epoch 477: 100%|██████████| 45/45 [00:30<00:00,  1.46it/s, loss=0.000697]\n"
          ]
        },
        {
          "metadata": {
            "tags": null
          },
          "name": "stdout",
          "output_type": "stream",
          "text": [
            "Epoch 477 - Training loss: 0.007, Training accuracy: 1.00, Test accuracy: 0.41\n"
          ]
        },
        {
          "metadata": {
            "tags": null
          },
          "name": "stderr",
          "output_type": "stream",
          "text": [
            "Epoch 478: 100%|██████████| 45/45 [00:30<00:00,  1.46it/s, loss=0.000694]\n"
          ]
        },
        {
          "metadata": {
            "tags": null
          },
          "name": "stdout",
          "output_type": "stream",
          "text": [
            "Epoch 478 - Training loss: 0.007, Training accuracy: 1.00, Test accuracy: 0.41\n"
          ]
        },
        {
          "metadata": {
            "tags": null
          },
          "name": "stderr",
          "output_type": "stream",
          "text": [
            "Epoch 479: 100%|██████████| 45/45 [00:30<00:00,  1.46it/s, loss=0.000522]\n"
          ]
        },
        {
          "metadata": {
            "tags": null
          },
          "name": "stdout",
          "output_type": "stream",
          "text": [
            "Epoch 479 - Training loss: 0.006, Training accuracy: 1.00, Test accuracy: 0.40\n"
          ]
        },
        {
          "metadata": {
            "tags": null
          },
          "name": "stderr",
          "output_type": "stream",
          "text": [
            "Epoch 480: 100%|██████████| 45/45 [00:30<00:00,  1.45it/s, loss=0.000655]\n"
          ]
        },
        {
          "metadata": {
            "tags": null
          },
          "name": "stdout",
          "output_type": "stream",
          "text": [
            "Epoch 480 - Training loss: 0.007, Training accuracy: 1.00, Test accuracy: 0.40\n"
          ]
        },
        {
          "metadata": {
            "tags": null
          },
          "name": "stderr",
          "output_type": "stream",
          "text": [
            "Epoch 481: 100%|██████████| 45/45 [00:30<00:00,  1.46it/s, loss=0.000615]\n"
          ]
        },
        {
          "metadata": {
            "tags": null
          },
          "name": "stdout",
          "output_type": "stream",
          "text": [
            "Epoch 481 - Training loss: 0.007, Training accuracy: 1.00, Test accuracy: 0.40\n"
          ]
        },
        {
          "metadata": {
            "tags": null
          },
          "name": "stderr",
          "output_type": "stream",
          "text": [
            "Epoch 482: 100%|██████████| 45/45 [00:30<00:00,  1.46it/s, loss=0.000673]\n"
          ]
        },
        {
          "metadata": {
            "tags": null
          },
          "name": "stdout",
          "output_type": "stream",
          "text": [
            "Epoch 482 - Training loss: 0.007, Training accuracy: 0.99, Test accuracy: 0.40\n"
          ]
        },
        {
          "metadata": {
            "tags": null
          },
          "name": "stderr",
          "output_type": "stream",
          "text": [
            "Epoch 483: 100%|██████████| 45/45 [00:30<00:00,  1.46it/s, loss=0.000634]\n"
          ]
        },
        {
          "metadata": {
            "tags": null
          },
          "name": "stdout",
          "output_type": "stream",
          "text": [
            "Epoch 483 - Training loss: 0.007, Training accuracy: 1.00, Test accuracy: 0.40\n"
          ]
        },
        {
          "metadata": {
            "tags": null
          },
          "name": "stderr",
          "output_type": "stream",
          "text": [
            "Epoch 484: 100%|██████████| 45/45 [00:30<00:00,  1.46it/s, loss=0.000521]\n"
          ]
        },
        {
          "metadata": {
            "tags": null
          },
          "name": "stdout",
          "output_type": "stream",
          "text": [
            "Epoch 484 - Training loss: 0.006, Training accuracy: 1.00, Test accuracy: 0.40\n"
          ]
        },
        {
          "metadata": {
            "tags": null
          },
          "name": "stderr",
          "output_type": "stream",
          "text": [
            "Epoch 485: 100%|██████████| 45/45 [00:30<00:00,  1.46it/s, loss=0.000597]\n"
          ]
        },
        {
          "metadata": {
            "tags": null
          },
          "name": "stdout",
          "output_type": "stream",
          "text": [
            "Epoch 485 - Training loss: 0.006, Training accuracy: 1.00, Test accuracy: 0.40\n"
          ]
        },
        {
          "metadata": {
            "tags": null
          },
          "name": "stderr",
          "output_type": "stream",
          "text": [
            "Epoch 486: 100%|██████████| 45/45 [00:30<00:00,  1.46it/s, loss=0.0007]\n"
          ]
        },
        {
          "metadata": {
            "tags": null
          },
          "name": "stdout",
          "output_type": "stream",
          "text": [
            "Epoch 486 - Training loss: 0.008, Training accuracy: 1.00, Test accuracy: 0.40\n"
          ]
        },
        {
          "metadata": {
            "tags": null
          },
          "name": "stderr",
          "output_type": "stream",
          "text": [
            "Epoch 487: 100%|██████████| 45/45 [00:30<00:00,  1.46it/s, loss=0.000592]\n"
          ]
        },
        {
          "metadata": {
            "tags": null
          },
          "name": "stdout",
          "output_type": "stream",
          "text": [
            "Epoch 487 - Training loss: 0.006, Training accuracy: 1.00, Test accuracy: 0.41\n"
          ]
        },
        {
          "metadata": {
            "tags": null
          },
          "name": "stderr",
          "output_type": "stream",
          "text": [
            "Epoch 488: 100%|██████████| 45/45 [00:30<00:00,  1.46it/s, loss=0.00053]\n"
          ]
        },
        {
          "metadata": {
            "tags": null
          },
          "name": "stdout",
          "output_type": "stream",
          "text": [
            "Epoch 488 - Training loss: 0.006, Training accuracy: 1.00, Test accuracy: 0.40\n"
          ]
        },
        {
          "metadata": {
            "tags": null
          },
          "name": "stderr",
          "output_type": "stream",
          "text": [
            "Epoch 489: 100%|██████████| 45/45 [00:30<00:00,  1.46it/s, loss=0.00081]\n"
          ]
        },
        {
          "metadata": {
            "tags": null
          },
          "name": "stdout",
          "output_type": "stream",
          "text": [
            "Epoch 489 - Training loss: 0.009, Training accuracy: 0.99, Test accuracy: 0.40\n"
          ]
        },
        {
          "metadata": {
            "tags": null
          },
          "name": "stderr",
          "output_type": "stream",
          "text": [
            "Epoch 490: 100%|██████████| 45/45 [00:30<00:00,  1.46it/s, loss=0.000598]\n"
          ]
        },
        {
          "metadata": {
            "tags": null
          },
          "name": "stdout",
          "output_type": "stream",
          "text": [
            "Epoch 490 - Training loss: 0.007, Training accuracy: 0.99, Test accuracy: 0.40\n"
          ]
        },
        {
          "metadata": {
            "tags": null
          },
          "name": "stderr",
          "output_type": "stream",
          "text": [
            "Epoch 491: 100%|██████████| 45/45 [00:30<00:00,  1.46it/s, loss=0.000614]\n"
          ]
        },
        {
          "metadata": {
            "tags": null
          },
          "name": "stdout",
          "output_type": "stream",
          "text": [
            "Epoch 491 - Training loss: 0.007, Training accuracy: 0.99, Test accuracy: 0.40\n"
          ]
        },
        {
          "metadata": {
            "tags": null
          },
          "name": "stderr",
          "output_type": "stream",
          "text": [
            "Epoch 492: 100%|██████████| 45/45 [00:30<00:00,  1.46it/s, loss=0.000668]\n"
          ]
        },
        {
          "metadata": {
            "tags": null
          },
          "name": "stdout",
          "output_type": "stream",
          "text": [
            "Epoch 492 - Training loss: 0.007, Training accuracy: 1.00, Test accuracy: 0.40\n"
          ]
        },
        {
          "metadata": {
            "tags": null
          },
          "name": "stderr",
          "output_type": "stream",
          "text": [
            "Epoch 493: 100%|██████████| 45/45 [00:30<00:00,  1.46it/s, loss=0.000715]\n"
          ]
        },
        {
          "metadata": {
            "tags": null
          },
          "name": "stdout",
          "output_type": "stream",
          "text": [
            "Epoch 493 - Training loss: 0.008, Training accuracy: 0.99, Test accuracy: 0.40\n"
          ]
        },
        {
          "metadata": {
            "tags": null
          },
          "name": "stderr",
          "output_type": "stream",
          "text": [
            "Epoch 494: 100%|██████████| 45/45 [00:30<00:00,  1.46it/s, loss=0.000651]\n"
          ]
        },
        {
          "metadata": {
            "tags": null
          },
          "name": "stdout",
          "output_type": "stream",
          "text": [
            "Epoch 494 - Training loss: 0.007, Training accuracy: 1.00, Test accuracy: 0.40\n"
          ]
        },
        {
          "metadata": {
            "tags": null
          },
          "name": "stderr",
          "output_type": "stream",
          "text": [
            "Epoch 495: 100%|██████████| 45/45 [00:30<00:00,  1.46it/s, loss=0.000524]\n"
          ]
        },
        {
          "metadata": {
            "tags": null
          },
          "name": "stdout",
          "output_type": "stream",
          "text": [
            "Epoch 495 - Training loss: 0.006, Training accuracy: 1.00, Test accuracy: 0.40\n"
          ]
        },
        {
          "metadata": {
            "tags": null
          },
          "name": "stderr",
          "output_type": "stream",
          "text": [
            "Epoch 496: 100%|██████████| 45/45 [00:30<00:00,  1.46it/s, loss=0.000511]\n"
          ]
        },
        {
          "metadata": {
            "tags": null
          },
          "name": "stdout",
          "output_type": "stream",
          "text": [
            "Epoch 496 - Training loss: 0.006, Training accuracy: 1.00, Test accuracy: 0.40\n"
          ]
        },
        {
          "metadata": {
            "tags": null
          },
          "name": "stderr",
          "output_type": "stream",
          "text": [
            "Epoch 497: 100%|██████████| 45/45 [00:30<00:00,  1.46it/s, loss=0.000715]\n"
          ]
        },
        {
          "metadata": {
            "tags": null
          },
          "name": "stdout",
          "output_type": "stream",
          "text": [
            "Epoch 497 - Training loss: 0.008, Training accuracy: 0.99, Test accuracy: 0.40\n"
          ]
        },
        {
          "metadata": {
            "tags": null
          },
          "name": "stderr",
          "output_type": "stream",
          "text": [
            "Epoch 498: 100%|██████████| 45/45 [00:30<00:00,  1.46it/s, loss=0.000607]\n"
          ]
        },
        {
          "metadata": {
            "tags": null
          },
          "name": "stdout",
          "output_type": "stream",
          "text": [
            "Epoch 498 - Training loss: 0.007, Training accuracy: 1.00, Test accuracy: 0.41\n"
          ]
        },
        {
          "metadata": {
            "tags": null
          },
          "name": "stderr",
          "output_type": "stream",
          "text": [
            "Epoch 499: 100%|██████████| 45/45 [00:30<00:00,  1.46it/s, loss=0.000603]\n"
          ]
        },
        {
          "metadata": {
            "tags": null
          },
          "name": "stdout",
          "output_type": "stream",
          "text": [
            "Epoch 499 - Training loss: 0.007, Training accuracy: 1.00, Test accuracy: 0.41\n"
          ]
        },
        {
          "output_type": "stream",
          "name": "stderr",
          "text": [
            "Epoch 500: 100%|██████████| 45/45 [00:30<00:00,  1.46it/s, loss=0.000542]\n"
          ]
        },
        {
          "output_type": "stream",
          "name": "stdout",
          "text": [
            "Epoch 500 - Training loss: 0.006, Training accuracy: 1.00, Test accuracy: 0.41\n"
          ]
        },
        {
          "output_type": "display_data",
          "data": {
            "text/plain": [
              "<Figure size 1000x500 with 1 Axes>"
            ],
            "image/png": "[encoded data removed]"
          },
          "metadata": {}
        }
      ]
    },
    {
      "cell_type": "code",
      "source": [
        "all_labels = list(range(35))  # Assuming the labels are integers from 0 to 34\n",
        "report = classification_report(true_labels_test, predictions_test, labels=all_labels, target_names=target_categories)\n",
        "print(report)"
      ],
      "metadata": {
        "id": "JDBbY3PUHlpV",
        "outputId": "2c018e72-7bab-4b65-b18c-ff3ed227491c",
        "colab": {
          "base_uri": "https://localhost:8080/"
        }
      },
      "execution_count": 23,
      "outputs": [
        {
          "output_type": "stream",
          "name": "stdout",
          "text": [
            "                                    precision    recall  f1-score   support\n",
            "\n",
            "                Removing Dead Code       0.29      1.00      0.44         4\n",
            "                   Code Complexity       0.08      0.07      0.07        14\n",
            "           Code Style & Formatting       0.54      0.57      0.55        23\n",
            "                        Visibility       0.00      0.00      0.00         1\n",
            "              Moving Functionality       0.50      0.38      0.43         8\n",
            "                Knowledge Transfer       0.50      0.25      0.33         4\n",
            "                 Security Concerns       1.00      0.50      0.67         2\n",
            "            Using standard methods       0.50      0.36      0.42        11\n",
            "                Naming Conventions       0.53      0.62      0.57        16\n",
            "                       Logic Error       0.38      0.33      0.35         9\n",
            "                     Documentation       0.45      0.75      0.57        20\n",
            "                     Understanding       0.50      0.37      0.42        19\n",
            "               Unvalidated Element       0.00      0.00      0.00         3\n",
            "                       Duplication       0.00      0.00      0.00         2\n",
            "                              Misc       0.33      0.50      0.40         4\n",
            "                   Inline Comments       0.71      0.71      0.71         7\n",
            "              Social Communication       0.00      0.00      0.00         3\n",
            "                      Element Type       0.00      0.00      0.00         3\n",
            "             Depreciated Functions       0.00      0.00      0.00         1\n",
            "              Feature Completeness       0.00      0.00      0.00         2\n",
            "       Unhandled Errors/Exceptions       0.25      0.50      0.33         2\n",
            "                    Wrong Location       0.00      0.00      0.00         3\n",
            "               Function Parameters       0.00      0.00      0.00         0\n",
            "                Other Test related       0.25      0.50      0.33         2\n",
            "              Compatibility Issues       0.00      0.00      0.00         3\n",
            "Algorithmic Efficiency/Performance       0.00      0.00      0.00         2\n",
            "                           Logging       0.67      0.29      0.40         7\n",
            "                        Test Cases       0.00      0.00      0.00         0\n",
            "                     Test Coverage       0.00      0.00      0.00         3\n",
            "           Variable Initialisation       0.00      0.00      0.00         0\n",
            "                    Function Calls       0.00      0.00      0.00         1\n",
            "        Data & Resource Management       0.00      0.00      0.00         1\n",
            "                  Input Validation       0.00      0.00      0.00         0\n",
            "          Issues with Outside Code       0.00      0.00      0.00         0\n",
            "                    Execution Time       0.00      0.00      0.00         0\n",
            "\n",
            "                         micro avg       0.41      0.41      0.41       180\n",
            "                         macro avg       0.21      0.22      0.20       180\n",
            "                      weighted avg       0.39      0.41      0.38       180\n",
            "\n"
          ]
        },
        {
          "output_type": "stream",
          "name": "stderr",
          "text": [
            "/usr/local/lib/python3.10/dist-packages/sklearn/metrics/_classification.py:1344: UndefinedMetricWarning: Precision and F-score are ill-defined and being set to 0.0 in labels with no predicted samples. Use `zero_division` parameter to control this behavior.\n",
            "  _warn_prf(average, modifier, msg_start, len(result))\n",
            "/usr/local/lib/python3.10/dist-packages/sklearn/metrics/_classification.py:1344: UndefinedMetricWarning: Recall and F-score are ill-defined and being set to 0.0 in labels with no true samples. Use `zero_division` parameter to control this behavior.\n",
            "  _warn_prf(average, modifier, msg_start, len(result))\n",
            "/usr/local/lib/python3.10/dist-packages/sklearn/metrics/_classification.py:1344: UndefinedMetricWarning: Precision and F-score are ill-defined and being set to 0.0 in labels with no predicted samples. Use `zero_division` parameter to control this behavior.\n",
            "  _warn_prf(average, modifier, msg_start, len(result))\n",
            "/usr/local/lib/python3.10/dist-packages/sklearn/metrics/_classification.py:1344: UndefinedMetricWarning: Recall and F-score are ill-defined and being set to 0.0 in labels with no true samples. Use `zero_division` parameter to control this behavior.\n",
            "  _warn_prf(average, modifier, msg_start, len(result))\n",
            "/usr/local/lib/python3.10/dist-packages/sklearn/metrics/_classification.py:1344: UndefinedMetricWarning: Precision and F-score are ill-defined and being set to 0.0 in labels with no predicted samples. Use `zero_division` parameter to control this behavior.\n",
            "  _warn_prf(average, modifier, msg_start, len(result))\n",
            "/usr/local/lib/python3.10/dist-packages/sklearn/metrics/_classification.py:1344: UndefinedMetricWarning: Recall and F-score are ill-defined and being set to 0.0 in labels with no true samples. Use `zero_division` parameter to control this behavior.\n",
            "  _warn_prf(average, modifier, msg_start, len(result))\n"
          ]
        }
      ]
    }
  ],
  "metadata": {
    "colab": {
      "provenance": [],
      "machine_shape": "hm",
      "gpuType": "T4",
      "mount_file_id": "13rwD5Y9yxOpyFba4Q7xg9zQRd41zt9Zu",
      "authorship_tag": "ABX9TyOZBzPvKXfYcjIPiTeWcmv2",
      "include_colab_link": true
    },
    "kernelspec": {
      "display_name": "Python 3",
      "name": "python3"
    },
    "language_info": {
      "name": "python"
    },
    "accelerator": "GPU"
  },
  "nbformat": 4,
  "nbformat_minor": 0
}