{
 "cells": [
  {
   "cell_type": "code",
   "execution_count": 128,
   "metadata": {
    "collapsed": true
   },
   "outputs": [
    {
     "data": {
      "text/plain": "(0.627939142461964, 0.35911602209944754)"
     },
     "execution_count": 128,
     "metadata": {},
     "output_type": "execute_result"
    }
   ],
   "source": [
    "# Logistic Regression Model\n",
    "import pandas as pd\n",
    "from sklearn.model_selection import train_test_split\n",
    "from sklearn.feature_extraction.text import TfidfVectorizer\n",
    "from sklearn.linear_model import LogisticRegression\n",
    "from sklearn.metrics import accuracy_score, classification_report\n",
    "\n",
    "# Load the newly uploaded file containing labeled training data\n",
    "file_path_with_labels = \"HAO_comment_classification.json\"\n",
    "data_with_labels = pd.read_json(file_path_with_labels)\n",
    "\n",
    "# Display the first few rows of the dataset to understand its structure\n",
    "data_with_labels.head()\n",
    "\n",
    "# Get the features and labels\n",
    "X = data_with_labels[\"Comment Body\"]\n",
    "y = data_with_labels[\"Comment Classification\"]\n",
    "\n",
    "# Split the data into training and test sets (80-20 split)\n",
    "X_train, X_test, y_train, y_test = train_test_split(X, y, test_size=0.2, random_state=358)\n",
    "\n",
    "# Display the size of the training and test sets\n",
    "X_train.shape, X_test.shape\n",
    "\n",
    "# Initialize the TF-IDF vectorizer\n",
    "tfidf_vectorizer = TfidfVectorizer()\n",
    "\n",
    "# Fit and transform the TF-IDF features on the training set\n",
    "X_train_tfidf = tfidf_vectorizer.fit_transform(X_train)\n",
    "\n",
    "# Transform the test set using the same vectorizer\n",
    "X_test_tfidf = tfidf_vectorizer.transform(X_test)\n",
    "\n",
    "# Display the shape of the transformed features\n",
    "X_train_tfidf.shape, X_test_tfidf.shape\n",
    "\n",
    "# Initialize the Logistic Regression model\n",
    "logreg_model = LogisticRegression(max_iter=10000, random_state=358)\n",
    "\n",
    "# Train the model\n",
    "logreg_model.fit(X_train_tfidf, y_train)\n",
    "\n",
    "# Make predictions on the training and test sets\n",
    "y_train_pred = logreg_model.predict(X_train_tfidf)\n",
    "y_test_pred = logreg_model.predict(X_test_tfidf)\n",
    "\n",
    "# Calculate accuracy on the training and test sets\n",
    "train_accuracy = accuracy_score(y_train, y_train_pred)\n",
    "test_accuracy = accuracy_score(y_test, y_test_pred)\n",
    "\n",
    "# Display the accuracy on the training and test sets\n",
    "train_accuracy, test_accuracy\n"
   ]
  },
  {
   "cell_type": "code",
   "execution_count": 129,
   "outputs": [
    {
     "data": {
      "text/plain": "(0.9930843706777317, 0.4419889502762431)"
     },
     "execution_count": 129,
     "metadata": {},
     "output_type": "execute_result"
    }
   ],
   "source": [
    "# Random Forest Model\n",
    "import pandas as pd\n",
    "from sklearn.feature_extraction.text import TfidfVectorizer\n",
    "from sklearn.ensemble import RandomForestClassifier\n",
    "\n",
    "# Load the newly uploaded file containing labeled training data\n",
    "file_path_with_labels = \"HAO_comment_classification.json\"\n",
    "data_with_labels = pd.read_json(file_path_with_labels)\n",
    "\n",
    "# Display the first few rows of the dataset to understand its structure\n",
    "data_with_labels.head()\n",
    "\n",
    "from sklearn.model_selection import train_test_split\n",
    "\n",
    "# Get the features and labels\n",
    "X = data_with_labels[\"Comment Body\"]\n",
    "y = data_with_labels[\"Comment Classification\"]\n",
    "\n",
    "# Split the data into training and test sets (80-20 split)\n",
    "X_train, X_test, y_train, y_test = train_test_split(X, y, test_size=0.2, random_state=188)\n",
    "\n",
    "# Display the size of the training and test sets\n",
    "X_train.shape, X_test.shape\n",
    "\n",
    "# Initialize the TF-IDF vectorizer\n",
    "tfidf_vectorizer = TfidfVectorizer()\n",
    "\n",
    "# Fit and transform the TF-IDF features on the training set\n",
    "X_train_tfidf = tfidf_vectorizer.fit_transform(X_train)\n",
    "\n",
    "# Transform the test set using the same vectorizer\n",
    "X_test_tfidf = tfidf_vectorizer.transform(X_test)\n",
    "\n",
    "# Display the shape of the transformed features\n",
    "X_train_tfidf.shape, X_test_tfidf.shape\n",
    "\n",
    "# Initialize the Random Forest model\n",
    "random_forest_model = RandomForestClassifier(random_state=188)\n",
    "\n",
    "# Train the model\n",
    "random_forest_model.fit(X_train_tfidf, y_train)\n",
    "\n",
    "# Make predictions on the training and test sets\n",
    "y_train_rf_pred = random_forest_model.predict(X_train_tfidf)\n",
    "y_test_rf_pred = random_forest_model.predict(X_test_tfidf)\n",
    "\n",
    "# Calculate accuracy on the training and test sets\n",
    "from sklearn.metrics import accuracy_score # Note: Include this import at the top of the code\n",
    "train_rf_accuracy = accuracy_score(y_train, y_train_rf_pred)\n",
    "test_rf_accuracy = accuracy_score(y_test, y_test_rf_pred)\n",
    "\n",
    "train_rf_accuracy, test_rf_accuracy\n"
   ],
   "metadata": {
    "collapsed": false
   }
  },
  {
   "cell_type": "code",
   "execution_count": 130,
   "outputs": [
    {
     "data": {
      "text/plain": "(0.8879668049792531, 0.34806629834254144)"
     },
     "execution_count": 130,
     "metadata": {},
     "output_type": "execute_result"
    }
   ],
   "source": [
    "# Support Vector Machine (SVM) Model\n",
    "import pandas as pd\n",
    "from sklearn.feature_extraction.text import TfidfVectorizer\n",
    "from sklearn.svm import SVC\n",
    "\n",
    "# Load the newly uploaded file containing labeled training data\n",
    "file_path_with_labels = \"HAO_comment_classification.json\"\n",
    "data_with_labels = pd.read_json(file_path_with_labels)\n",
    "\n",
    "# Display the first few rows of the dataset to understand its structure\n",
    "data_with_labels.head()\n",
    "\n",
    "from sklearn.model_selection import train_test_split\n",
    "\n",
    "# Get the features and labels\n",
    "X = data_with_labels[\"Comment Body\"]\n",
    "y = data_with_labels[\"Comment Classification\"]\n",
    "\n",
    "# Split the data into training and test sets (80-20 split)\n",
    "X_train, X_test, y_train, y_test = train_test_split(X, y, test_size=0.2, random_state=196)\n",
    "\n",
    "# Display the size of the training and test sets\n",
    "X_train.shape, X_test.shape\n",
    "\n",
    "# Initialize the TF-IDF vectorizer\n",
    "tfidf_vectorizer = TfidfVectorizer()\n",
    "\n",
    "# Fit and transform the TF-IDF features on the training set\n",
    "X_train_tfidf = tfidf_vectorizer.fit_transform(X_train)\n",
    "\n",
    "# Transform the test set using the same vectorizer\n",
    "X_test_tfidf = tfidf_vectorizer.transform(X_test)\n",
    "\n",
    "# Display the shape of the transformed features\n",
    "X_train_tfidf.shape, X_test_tfidf.shape\n",
    "\n",
    "# Initialize the Support Vector Machine model\n",
    "svm_model = SVC(random_state=196)\n",
    "\n",
    "# Train the model\n",
    "svm_model.fit(X_train_tfidf, y_train)\n",
    "\n",
    "# Make predictions on the training and test sets\n",
    "y_train_svm_pred = svm_model.predict(X_train_tfidf)\n",
    "y_test_svm_pred = svm_model.predict(X_test_tfidf)\n",
    "\n",
    "# Calculate accuracy on the training and test sets\n",
    "from sklearn.metrics import accuracy_score # Note: This import was missing in the original code\n",
    "train_svm_accuracy = accuracy_score(y_train, y_train_svm_pred)\n",
    "test_svm_accuracy = accuracy_score(y_test, y_test_svm_pred)\n",
    "\n",
    "train_svm_accuracy, test_svm_accuracy\n"
   ],
   "metadata": {
    "collapsed": false
   }
  },
  {
   "cell_type": "code",
   "execution_count": null,
   "outputs": [],
   "source": [],
   "metadata": {
    "collapsed": false
   }
  }
 ],
 "metadata": {
  "kernelspec": {
   "display_name": "Python 3",
   "language": "python",
   "name": "python3"
  },
  "language_info": {
   "codemirror_mode": {
    "name": "ipython",
    "version": 2
   },
   "file_extension": ".py",
   "mimetype": "text/x-python",
   "name": "python",
   "nbconvert_exporter": "python",
   "pygments_lexer": "ipython2",
   "version": "2.7.6"
  }
 },
 "nbformat": 4,
 "nbformat_minor": 0
}
